{
  "nbformat": 4,
  "nbformat_minor": 0,
  "metadata": {
    "colab": {
      "name": "LogisticRegressionTitanicDataset-Assignment_imputation.ipynb",
      "version": "0.3.2",
      "provenance": [],
      "collapsed_sections": [
        "VPjOBG5VPsaD",
        "mIIP-cmfPsaF"
      ],
      "include_colab_link": true
    },
    "language_info": {
      "codemirror_mode": {
        "name": "ipython",
        "version": 3
      },
      "file_extension": ".py",
      "mimetype": "text/x-python",
      "name": "python",
      "nbconvert_exporter": "python",
      "pygments_lexer": "ipython3",
      "version": "3.6.5"
    },
    "kernelspec": {
      "display_name": "Python 3",
      "language": "python",
      "name": "python3"
    }
  },
  "cells": [
    {
      "cell_type": "markdown",
      "metadata": {
        "id": "view-in-github",
        "colab_type": "text"
      },
      "source": [
        "<a href=\"https://colab.research.google.com/github/prasrao/INSAID/blob/master/LogisticRegressionTitanicDataset_Assignment_imputation.ipynb\" target=\"_parent\"><img src=\"https://colab.research.google.com/assets/colab-badge.svg\" alt=\"Open In Colab\"/></a>"
      ]
    },
    {
      "cell_type": "markdown",
      "metadata": {
        "id": "nBD-wIFgPsZN",
        "colab_type": "text"
      },
      "source": [
        "<img src=\"https://github.com/insaid2018/Term-1/blob/master/Images/INSAID_Full%20Logo.png?raw=true\" width=\"240\" height=\"360\" />\n",
        "\n",
        "# Logistic Regression on titanic dataset"
      ]
    },
    {
      "cell_type": "markdown",
      "metadata": {
        "id": "3MiZggctPsZO",
        "colab_type": "text"
      },
      "source": [
        "## Table of Contents\n",
        "\n",
        "1. [Problem Statement](#section1)<br>\n",
        "2. [Data Loading and Description](#section2)\n",
        "3. [Preprocessing](#section3)\n",
        "4. [Logistic Regression](#section4)<br>\n",
        "    - 4.1 [Introduction of Logistic Regression](#section401)<br>\n",
        "    - 4.2 [Mathematics behind Logistic Regression](#section402)<br>\n",
        "    - 4.3 [Applications of Logistic Regression](#section402)<br>\n",
        "    - 4.4 [Preparing X and y using pandas](#section403)<br>\n",
        "    - 4.5 [Splitting X and y into training and test datasets.](#section404)<br>\n",
        "    - 4.6 [Logistic regression in scikit-learn](#section406)<br>\n",
        "    - 4.7 [Using the Model for Prediction](#section407)<br>\n",
        "5. [Model evaluation](#section5)<br>\n",
        "    - 5.1 [Model Evaluation using accuracy classification score](#section501)<br>\n",
        "    - 5.2 [Model Evaluation using confusion matrix](#section502)<br> "
      ]
    },
    {
      "cell_type": "markdown",
      "metadata": {
        "id": "HiAuWtpkPsZP",
        "colab_type": "text"
      },
      "source": [
        "<a id=section1></a>"
      ]
    },
    {
      "cell_type": "markdown",
      "metadata": {
        "id": "LbUmIV4EPsZP",
        "colab_type": "text"
      },
      "source": [
        "### 1. Problem Statement"
      ]
    },
    {
      "cell_type": "markdown",
      "metadata": {
        "id": "mYIIL9U4PsZQ",
        "colab_type": "text"
      },
      "source": [
        "__Impute Age, by doing Local Median/Mean :__ Fill the missing value for Age by considering these 4 columns Survived\tPclass  SibSp\tParch.\n",
        "\n",
        "The goal is to __predict survival__ of passengers travelling in RMS __Titanic__ using __Logistic regression__.\n"
      ]
    },
    {
      "cell_type": "markdown",
      "metadata": {
        "id": "3BFWD5zxPsZR",
        "colab_type": "text"
      },
      "source": [
        "### 2. Data Loading and Description\n",
        "![image.png](attachment:image.png)"
      ]
    },
    {
      "cell_type": "markdown",
      "metadata": {
        "id": "TU7JQzbFPsZS",
        "colab_type": "text"
      },
      "source": [
        "<a id=section201></a>"
      ]
    },
    {
      "cell_type": "markdown",
      "metadata": {
        "_cell_guid": "e4a1cf77-b695-4ca0-9653-6c41ce2393d8",
        "_uuid": "ca91678a9dc8cc103a7fbf799a5d903a011334ef",
        "id": "mNObsKthPsZT",
        "colab_type": "text"
      },
      "source": [
        "- The dataset consists of the information about people boarding the famous RMS Titanic. Various variables present in the dataset includes data of age, sex, fare, ticket etc. \n",
        "- The dataset comprises of __891 observations of 12 columns__. Below is a table showing names of all the columns and their description."
      ]
    },
    {
      "cell_type": "markdown",
      "metadata": {
        "id": "8G_vRGmfPsZT",
        "colab_type": "text"
      },
      "source": [
        "| Column Name   | Description                                               |\n",
        "| ------------- |:-------------                                            :| \n",
        "| PassengerId   | Passenger Identity                                        | \n",
        "| Survived      | Whether passenger survived or not                         |  \n",
        "| Pclass        | Class of ticket                                           | \n",
        "| Name          | Name of passenger                                         |   \n",
        "| Sex           | Sex of passenger                                          |\n",
        "| Age           | Age of passenger                                          |\n",
        "| SibSp         | Number of sibling and/or spouse travelling with passenger |\n",
        "| Parch         | Number of parent and/or children travelling with passenger|\n",
        "| Ticket        | Ticket number                                             |\n",
        "| Fare          | Price of ticket                                           |\n",
        "| Cabin         | Cabin number                                              |"
      ]
    },
    {
      "cell_type": "markdown",
      "metadata": {
        "_cell_guid": "998b2a03-c60e-4fd6-9f69-784de6e6c9b8",
        "_uuid": "d3086cb02907affe5a674b54e4baaedd632482c7",
        "id": "IFZMsjSrPsZU",
        "colab_type": "text"
      },
      "source": [
        "#### Importing packages                                          "
      ]
    },
    {
      "cell_type": "code",
      "metadata": {
        "_cell_guid": "872b97b2-56fe-4644-a11f-afb00f422169",
        "_uuid": "efb595c75201cdb2a53388dc152a8e526e1b921a",
        "id": "QbRutp7NPsZV",
        "colab_type": "code",
        "colab": {}
      },
      "source": [
        "import numpy as np                                                 # Implemennts milti-dimensional array and matrices\n",
        "import pandas as pd                                                # For data manipulation and analysis\n",
        "import pandas_profiling\n",
        "import matplotlib.pyplot as plt                                    # Plotting library for Python programming language and it's numerical mathematics extension NumPy\n",
        "import seaborn as sns                                              # Provides a high level interface for drawing attractive and informative statistical graphics\n",
        "%matplotlib inline\n",
        "sns.set()\n",
        "\n",
        "from subprocess import check_output"
      ],
      "execution_count": 0,
      "outputs": []
    },
    {
      "cell_type": "markdown",
      "metadata": {
        "id": "q0ybNw9VPsZY",
        "colab_type": "text"
      },
      "source": [
        "#### Importing the Dataset"
      ]
    },
    {
      "cell_type": "code",
      "metadata": {
        "_cell_guid": "080fb327-390d-4124-b287-a561d050fe7e",
        "_uuid": "0333d5086a63e3870708e7ba7a540d036c53544e",
        "id": "1oHkRPwtPsZZ",
        "colab_type": "code",
        "colab": {}
      },
      "source": [
        "titanic_data = pd.read_csv(\"https://raw.githubusercontent.com/insaid2018/Term-1/master/Data/Casestudy/titanic_train.csv\")     # Importing training dataset using pd.read_csv"
      ],
      "execution_count": 0,
      "outputs": []
    },
    {
      "cell_type": "code",
      "metadata": {
        "id": "pXZ7nFRufNSq",
        "colab_type": "code",
        "colab": {
          "base_uri": "https://localhost:8080/",
          "height": 204
        },
        "outputId": "b1ea73ba-1e4c-4411-e66e-a7511888d1a0"
      },
      "source": [
        "titanic_data.head()"
      ],
      "execution_count": 47,
      "outputs": [
        {
          "output_type": "execute_result",
          "data": {
            "text/html": [
              "<div>\n",
              "<style scoped>\n",
              "    .dataframe tbody tr th:only-of-type {\n",
              "        vertical-align: middle;\n",
              "    }\n",
              "\n",
              "    .dataframe tbody tr th {\n",
              "        vertical-align: top;\n",
              "    }\n",
              "\n",
              "    .dataframe thead th {\n",
              "        text-align: right;\n",
              "    }\n",
              "</style>\n",
              "<table border=\"1\" class=\"dataframe\">\n",
              "  <thead>\n",
              "    <tr style=\"text-align: right;\">\n",
              "      <th></th>\n",
              "      <th>PassengerId</th>\n",
              "      <th>Survived</th>\n",
              "      <th>Pclass</th>\n",
              "      <th>Name</th>\n",
              "      <th>Sex</th>\n",
              "      <th>Age</th>\n",
              "      <th>SibSp</th>\n",
              "      <th>Parch</th>\n",
              "      <th>Ticket</th>\n",
              "      <th>Fare</th>\n",
              "      <th>Cabin</th>\n",
              "      <th>Embarked</th>\n",
              "    </tr>\n",
              "  </thead>\n",
              "  <tbody>\n",
              "    <tr>\n",
              "      <th>0</th>\n",
              "      <td>1</td>\n",
              "      <td>0</td>\n",
              "      <td>3</td>\n",
              "      <td>Braund, Mr. Owen Harris</td>\n",
              "      <td>male</td>\n",
              "      <td>22.0</td>\n",
              "      <td>1</td>\n",
              "      <td>0</td>\n",
              "      <td>A/5 21171</td>\n",
              "      <td>7.2500</td>\n",
              "      <td>NaN</td>\n",
              "      <td>S</td>\n",
              "    </tr>\n",
              "    <tr>\n",
              "      <th>1</th>\n",
              "      <td>2</td>\n",
              "      <td>1</td>\n",
              "      <td>1</td>\n",
              "      <td>Cumings, Mrs. John Bradley (Florence Briggs Th...</td>\n",
              "      <td>female</td>\n",
              "      <td>38.0</td>\n",
              "      <td>1</td>\n",
              "      <td>0</td>\n",
              "      <td>PC 17599</td>\n",
              "      <td>71.2833</td>\n",
              "      <td>C85</td>\n",
              "      <td>C</td>\n",
              "    </tr>\n",
              "    <tr>\n",
              "      <th>2</th>\n",
              "      <td>3</td>\n",
              "      <td>1</td>\n",
              "      <td>3</td>\n",
              "      <td>Heikkinen, Miss. Laina</td>\n",
              "      <td>female</td>\n",
              "      <td>26.0</td>\n",
              "      <td>0</td>\n",
              "      <td>0</td>\n",
              "      <td>STON/O2. 3101282</td>\n",
              "      <td>7.9250</td>\n",
              "      <td>NaN</td>\n",
              "      <td>S</td>\n",
              "    </tr>\n",
              "    <tr>\n",
              "      <th>3</th>\n",
              "      <td>4</td>\n",
              "      <td>1</td>\n",
              "      <td>1</td>\n",
              "      <td>Futrelle, Mrs. Jacques Heath (Lily May Peel)</td>\n",
              "      <td>female</td>\n",
              "      <td>35.0</td>\n",
              "      <td>1</td>\n",
              "      <td>0</td>\n",
              "      <td>113803</td>\n",
              "      <td>53.1000</td>\n",
              "      <td>C123</td>\n",
              "      <td>S</td>\n",
              "    </tr>\n",
              "    <tr>\n",
              "      <th>4</th>\n",
              "      <td>5</td>\n",
              "      <td>0</td>\n",
              "      <td>3</td>\n",
              "      <td>Allen, Mr. William Henry</td>\n",
              "      <td>male</td>\n",
              "      <td>35.0</td>\n",
              "      <td>0</td>\n",
              "      <td>0</td>\n",
              "      <td>373450</td>\n",
              "      <td>8.0500</td>\n",
              "      <td>NaN</td>\n",
              "      <td>S</td>\n",
              "    </tr>\n",
              "  </tbody>\n",
              "</table>\n",
              "</div>"
            ],
            "text/plain": [
              "   PassengerId  Survived  Pclass  ...     Fare Cabin  Embarked\n",
              "0            1         0       3  ...   7.2500   NaN         S\n",
              "1            2         1       1  ...  71.2833   C85         C\n",
              "2            3         1       3  ...   7.9250   NaN         S\n",
              "3            4         1       1  ...  53.1000  C123         S\n",
              "4            5         0       3  ...   8.0500   NaN         S\n",
              "\n",
              "[5 rows x 12 columns]"
            ]
          },
          "metadata": {
            "tags": []
          },
          "execution_count": 47
        }
      ]
    },
    {
      "cell_type": "markdown",
      "metadata": {
        "id": "vYeHZhnkPsZb",
        "colab_type": "text"
      },
      "source": [
        "<a id=section3></a>"
      ]
    },
    {
      "cell_type": "markdown",
      "metadata": {
        "_cell_guid": "6c7d2500-95b1-4057-98f7-39100e8a6d7f",
        "_uuid": "13fd8422db7a1ceae9ebb002df452e8293a9ab0c",
        "id": "irMIMYqQPsZc",
        "colab_type": "text"
      },
      "source": [
        "## 3. Preprocessing the data"
      ]
    },
    {
      "cell_type": "markdown",
      "metadata": {
        "id": "lMGryhiyPsZd",
        "colab_type": "text"
      },
      "source": [
        "- Dealing with missing values<br/>\n",
        "    - Dropping/Replacing missing entries of __Embarked.__\n",
        "    - Replacing missing values of __Age__ and __Fare__ with median values.\n",
        "    - Dropping the column __'Cabin'__ as it has too many _null_ values."
      ]
    },
    {
      "cell_type": "code",
      "metadata": {
        "id": "tdaySANUPsZd",
        "colab_type": "code",
        "colab": {}
      },
      "source": [
        "titanic_data.Embarked = titanic_data.Embarked.fillna(titanic_data['Embarked'].mode()[0])"
      ],
      "execution_count": 0,
      "outputs": []
    },
    {
      "cell_type": "code",
      "metadata": {
        "id": "KHWKWn85PsZg",
        "colab_type": "code",
        "colab": {}
      },
      "source": [
        "# Comment out the fillna usage for Age and adding the new code for imputing Age with local median\n",
        "# median_age = titanic_data.Age.median()\n",
        "median_fare = titanic_data.Fare.median()\n",
        "# titanic_data.Age.fillna(median_age, inplace = True)\n",
        "titanic_data.Fare.fillna(median_fare, inplace = True)\n"
      ],
      "execution_count": 0,
      "outputs": []
    },
    {
      "cell_type": "markdown",
      "metadata": {
        "id": "-ObDX3H8qfaw",
        "colab_type": "text"
      },
      "source": [
        "__Fill the missing values for Age by considering 4 columns Survived,Pclass,SibSp and Parch.__"
      ]
    },
    {
      "cell_type": "code",
      "metadata": {
        "id": "_JNZUtQDdM53",
        "colab_type": "code",
        "colab": {
          "base_uri": "https://localhost:8080/",
          "height": 119
        },
        "outputId": "1dfcf364-6c00-4e62-b5da-e87a8000dc01"
      },
      "source": [
        "# Code for imputing Age by considering 4 columns Survived Pclass SibSp Parch.\n",
        "print('Number of missing values before processing:',titanic_data.Age.isna().sum())\n",
        "\n",
        "# create a data set group by Survived, Pclass,  SibSp, Parch and median of Age\n",
        "age_median = titanic_data.groupby(['Survived','Pclass','SibSp','Parch'])['Age'].apply(lambda x: x.median()).reset_index()\n",
        "\n",
        "# Check if the grouped data Age has a NAN\n",
        "print('Number of missing Values in grouped data:',age_median.Age.isna().sum())\n",
        "print(age_median[age_median['Age'].isna()].head())\n",
        "# There are still 2 NAN rows, we will deal with them in the replace function.\n",
        "\n",
        "# Just for better understanding rename the Age column name to Age_median\n",
        "age_median.rename(columns={'Age':'Age_Median'},inplace=True)\n",
        "\n",
        "# Create a function which can replace Age NAN with Age_Median\n",
        "def replace_age(d_row):\n",
        "  if pd.isnull(d_row['Age']):        # If Age is null, replace it with Age_median from the group Survived, Pclass,  SibSp, Parch \n",
        "    age_med = age_median[(age_median['Survived'] == d_row['Survived']) & (age_median['Pclass'] == d_row['Pclass']) & (age_median['SibSp'] == d_row['SibSp']) & (age_median['Parch'] == d_row['Parch'])]['Age_Median'].values[0]\n",
        "    if np.isnan(age_med):    # If Age_Median is null, for the group then drop Parch and get median for Survived, Pclass,  SibSp\n",
        "      age_med = age_median[(age_median['Survived'] == d_row['Survived']) & (age_median['Pclass'] == d_row['Pclass']) & (age_median['SibSp'] == d_row['SibSp'])]['Age_Median'].values[0]\n",
        "      if np.isnan(age_med):  # If Age_Median is null, for the group then drop Parch,SibSp and get median for Survived, Pclass \n",
        "        age_med = age_median[(age_median['Survived'] == d_row['Survived']) & (age_median['Pclass'] == d_row['Pclass'])]['Age_Median'].values[0]\n",
        "        if np.isnan(age_med):  # If Age_Median is null, for the group then drop Parch,SibSp,Pclass and get median for Survived. \n",
        "          age_med = age_median[(age_median['Survived'] == d_row['Survived'])]['Age_Median'].values[0]\n",
        "  else: # If Age is not null, leave it as it is\n",
        "    age_med = d_row['Age']\n",
        "  return age_med\n",
        "\n",
        "\n",
        "titanic_data['Age'] = titanic_data.apply(replace_age,axis=1)\n",
        "print('Number of missing values after processing:',titanic_data.Age.isna().sum())"
      ],
      "execution_count": 50,
      "outputs": [
        {
          "output_type": "stream",
          "text": [
            "Number of missing values before processing: 177\n",
            "Number of missing Values in grouped data: 2\n",
            "    Survived  Pclass  SibSp  Parch  Age\n",
            "36         0       3      8      2  NaN\n",
            "64         1       3      2      0  NaN\n",
            "Number of missing values after processing: 0\n"
          ],
          "name": "stdout"
        }
      ]
    },
    {
      "cell_type": "code",
      "metadata": {
        "id": "UURH1WZYPsZi",
        "colab_type": "code",
        "colab": {}
      },
      "source": [
        "titanic_data.drop('Cabin', axis = 1,inplace = True)"
      ],
      "execution_count": 0,
      "outputs": []
    },
    {
      "cell_type": "markdown",
      "metadata": {
        "id": "3ctn8_yJPsZl",
        "colab_type": "text"
      },
      "source": [
        "- Creating a new feature named __FamilySize__."
      ]
    },
    {
      "cell_type": "code",
      "metadata": {
        "id": "IzVH82oGPsZl",
        "colab_type": "code",
        "colab": {}
      },
      "source": [
        "titanic_data['FamilySize'] = titanic_data['SibSp'] + titanic_data['Parch']+1"
      ],
      "execution_count": 0,
      "outputs": []
    },
    {
      "cell_type": "markdown",
      "metadata": {
        "id": "KekRR12vPsZp",
        "colab_type": "text"
      },
      "source": [
        "- Segmenting __Sex__ column as per __Age__, Age less than 15 as __Child__, Age greater than 15 as __Males and Females__ as per their gender."
      ]
    },
    {
      "cell_type": "code",
      "metadata": {
        "id": "7ygWB2UsPsZp",
        "colab_type": "code",
        "colab": {}
      },
      "source": [
        "titanic_data['GenderClass'] = titanic_data.apply(lambda x: 'child' if x['Age'] < 15 else x['Sex'],axis=1)"
      ],
      "execution_count": 0,
      "outputs": []
    },
    {
      "cell_type": "code",
      "metadata": {
        "id": "3ccPCGVrPsZt",
        "colab_type": "code",
        "outputId": "f8a5e008-08d1-4e4e-8773-4e05f30fff61",
        "colab": {
          "base_uri": "https://localhost:8080/",
          "height": 111
        }
      },
      "source": [
        "titanic_data[titanic_data.Age<15].head(2)"
      ],
      "execution_count": 54,
      "outputs": [
        {
          "output_type": "execute_result",
          "data": {
            "text/html": [
              "<div>\n",
              "<style scoped>\n",
              "    .dataframe tbody tr th:only-of-type {\n",
              "        vertical-align: middle;\n",
              "    }\n",
              "\n",
              "    .dataframe tbody tr th {\n",
              "        vertical-align: top;\n",
              "    }\n",
              "\n",
              "    .dataframe thead th {\n",
              "        text-align: right;\n",
              "    }\n",
              "</style>\n",
              "<table border=\"1\" class=\"dataframe\">\n",
              "  <thead>\n",
              "    <tr style=\"text-align: right;\">\n",
              "      <th></th>\n",
              "      <th>PassengerId</th>\n",
              "      <th>Survived</th>\n",
              "      <th>Pclass</th>\n",
              "      <th>Name</th>\n",
              "      <th>Sex</th>\n",
              "      <th>Age</th>\n",
              "      <th>SibSp</th>\n",
              "      <th>Parch</th>\n",
              "      <th>Ticket</th>\n",
              "      <th>Fare</th>\n",
              "      <th>Embarked</th>\n",
              "      <th>FamilySize</th>\n",
              "      <th>GenderClass</th>\n",
              "    </tr>\n",
              "  </thead>\n",
              "  <tbody>\n",
              "    <tr>\n",
              "      <th>7</th>\n",
              "      <td>8</td>\n",
              "      <td>0</td>\n",
              "      <td>3</td>\n",
              "      <td>Palsson, Master. Gosta Leonard</td>\n",
              "      <td>male</td>\n",
              "      <td>2.0</td>\n",
              "      <td>3</td>\n",
              "      <td>1</td>\n",
              "      <td>349909</td>\n",
              "      <td>21.0750</td>\n",
              "      <td>S</td>\n",
              "      <td>5</td>\n",
              "      <td>child</td>\n",
              "    </tr>\n",
              "    <tr>\n",
              "      <th>9</th>\n",
              "      <td>10</td>\n",
              "      <td>1</td>\n",
              "      <td>2</td>\n",
              "      <td>Nasser, Mrs. Nicholas (Adele Achem)</td>\n",
              "      <td>female</td>\n",
              "      <td>14.0</td>\n",
              "      <td>1</td>\n",
              "      <td>0</td>\n",
              "      <td>237736</td>\n",
              "      <td>30.0708</td>\n",
              "      <td>C</td>\n",
              "      <td>2</td>\n",
              "      <td>child</td>\n",
              "    </tr>\n",
              "  </tbody>\n",
              "</table>\n",
              "</div>"
            ],
            "text/plain": [
              "   PassengerId  Survived  Pclass  ... Embarked FamilySize  GenderClass\n",
              "7            8         0       3  ...        S          5        child\n",
              "9           10         1       2  ...        C          2        child\n",
              "\n",
              "[2 rows x 13 columns]"
            ]
          },
          "metadata": {
            "tags": []
          },
          "execution_count": 54
        }
      ]
    },
    {
      "cell_type": "code",
      "metadata": {
        "id": "cbrjZDi-PsZy",
        "colab_type": "code",
        "outputId": "c2ee622d-84f1-4536-fc67-553dd66da16c",
        "colab": {
          "base_uri": "https://localhost:8080/",
          "height": 111
        }
      },
      "source": [
        "titanic_data[titanic_data.Age>15].head(2)"
      ],
      "execution_count": 55,
      "outputs": [
        {
          "output_type": "execute_result",
          "data": {
            "text/html": [
              "<div>\n",
              "<style scoped>\n",
              "    .dataframe tbody tr th:only-of-type {\n",
              "        vertical-align: middle;\n",
              "    }\n",
              "\n",
              "    .dataframe tbody tr th {\n",
              "        vertical-align: top;\n",
              "    }\n",
              "\n",
              "    .dataframe thead th {\n",
              "        text-align: right;\n",
              "    }\n",
              "</style>\n",
              "<table border=\"1\" class=\"dataframe\">\n",
              "  <thead>\n",
              "    <tr style=\"text-align: right;\">\n",
              "      <th></th>\n",
              "      <th>PassengerId</th>\n",
              "      <th>Survived</th>\n",
              "      <th>Pclass</th>\n",
              "      <th>Name</th>\n",
              "      <th>Sex</th>\n",
              "      <th>Age</th>\n",
              "      <th>SibSp</th>\n",
              "      <th>Parch</th>\n",
              "      <th>Ticket</th>\n",
              "      <th>Fare</th>\n",
              "      <th>Embarked</th>\n",
              "      <th>FamilySize</th>\n",
              "      <th>GenderClass</th>\n",
              "    </tr>\n",
              "  </thead>\n",
              "  <tbody>\n",
              "    <tr>\n",
              "      <th>0</th>\n",
              "      <td>1</td>\n",
              "      <td>0</td>\n",
              "      <td>3</td>\n",
              "      <td>Braund, Mr. Owen Harris</td>\n",
              "      <td>male</td>\n",
              "      <td>22.0</td>\n",
              "      <td>1</td>\n",
              "      <td>0</td>\n",
              "      <td>A/5 21171</td>\n",
              "      <td>7.2500</td>\n",
              "      <td>S</td>\n",
              "      <td>2</td>\n",
              "      <td>male</td>\n",
              "    </tr>\n",
              "    <tr>\n",
              "      <th>1</th>\n",
              "      <td>2</td>\n",
              "      <td>1</td>\n",
              "      <td>1</td>\n",
              "      <td>Cumings, Mrs. John Bradley (Florence Briggs Th...</td>\n",
              "      <td>female</td>\n",
              "      <td>38.0</td>\n",
              "      <td>1</td>\n",
              "      <td>0</td>\n",
              "      <td>PC 17599</td>\n",
              "      <td>71.2833</td>\n",
              "      <td>C</td>\n",
              "      <td>2</td>\n",
              "      <td>female</td>\n",
              "    </tr>\n",
              "  </tbody>\n",
              "</table>\n",
              "</div>"
            ],
            "text/plain": [
              "   PassengerId  Survived  Pclass  ... Embarked FamilySize  GenderClass\n",
              "0            1         0       3  ...        S          2         male\n",
              "1            2         1       1  ...        C          2       female\n",
              "\n",
              "[2 rows x 13 columns]"
            ]
          },
          "metadata": {
            "tags": []
          },
          "execution_count": 55
        }
      ]
    },
    {
      "cell_type": "markdown",
      "metadata": {
        "id": "3EMQKrI6PsZ1",
        "colab_type": "text"
      },
      "source": [
        "- __Dummification__ of __GenderClass__ & __Embarked__."
      ]
    },
    {
      "cell_type": "code",
      "metadata": {
        "id": "STvgMcgBPsZ1",
        "colab_type": "code",
        "colab": {}
      },
      "source": [
        "titanic_data = pd.get_dummies(titanic_data, columns=['GenderClass','Embarked'], drop_first=True)"
      ],
      "execution_count": 0,
      "outputs": []
    },
    {
      "cell_type": "markdown",
      "metadata": {
        "id": "_ngVWLS4PsZ3",
        "colab_type": "text"
      },
      "source": [
        "- __Dropping__ columns __'Name' , 'Ticket' , 'Sex' , 'SibSp' and 'Parch'__ "
      ]
    },
    {
      "cell_type": "code",
      "metadata": {
        "id": "dXdxduzoPsZ4",
        "colab_type": "code",
        "outputId": "67c9420b-6c4d-411b-8169-b9b423cbbfc8",
        "colab": {
          "base_uri": "https://localhost:8080/",
          "height": 204
        }
      },
      "source": [
        "titanic = titanic_data.drop(['Name','Ticket','Sex','SibSp','Parch'], axis = 1)\n",
        "titanic.head()"
      ],
      "execution_count": 57,
      "outputs": [
        {
          "output_type": "execute_result",
          "data": {
            "text/html": [
              "<div>\n",
              "<style scoped>\n",
              "    .dataframe tbody tr th:only-of-type {\n",
              "        vertical-align: middle;\n",
              "    }\n",
              "\n",
              "    .dataframe tbody tr th {\n",
              "        vertical-align: top;\n",
              "    }\n",
              "\n",
              "    .dataframe thead th {\n",
              "        text-align: right;\n",
              "    }\n",
              "</style>\n",
              "<table border=\"1\" class=\"dataframe\">\n",
              "  <thead>\n",
              "    <tr style=\"text-align: right;\">\n",
              "      <th></th>\n",
              "      <th>PassengerId</th>\n",
              "      <th>Survived</th>\n",
              "      <th>Pclass</th>\n",
              "      <th>Age</th>\n",
              "      <th>Fare</th>\n",
              "      <th>FamilySize</th>\n",
              "      <th>GenderClass_female</th>\n",
              "      <th>GenderClass_male</th>\n",
              "      <th>Embarked_Q</th>\n",
              "      <th>Embarked_S</th>\n",
              "    </tr>\n",
              "  </thead>\n",
              "  <tbody>\n",
              "    <tr>\n",
              "      <th>0</th>\n",
              "      <td>1</td>\n",
              "      <td>0</td>\n",
              "      <td>3</td>\n",
              "      <td>22.0</td>\n",
              "      <td>7.2500</td>\n",
              "      <td>2</td>\n",
              "      <td>0</td>\n",
              "      <td>1</td>\n",
              "      <td>0</td>\n",
              "      <td>1</td>\n",
              "    </tr>\n",
              "    <tr>\n",
              "      <th>1</th>\n",
              "      <td>2</td>\n",
              "      <td>1</td>\n",
              "      <td>1</td>\n",
              "      <td>38.0</td>\n",
              "      <td>71.2833</td>\n",
              "      <td>2</td>\n",
              "      <td>1</td>\n",
              "      <td>0</td>\n",
              "      <td>0</td>\n",
              "      <td>0</td>\n",
              "    </tr>\n",
              "    <tr>\n",
              "      <th>2</th>\n",
              "      <td>3</td>\n",
              "      <td>1</td>\n",
              "      <td>3</td>\n",
              "      <td>26.0</td>\n",
              "      <td>7.9250</td>\n",
              "      <td>1</td>\n",
              "      <td>1</td>\n",
              "      <td>0</td>\n",
              "      <td>0</td>\n",
              "      <td>1</td>\n",
              "    </tr>\n",
              "    <tr>\n",
              "      <th>3</th>\n",
              "      <td>4</td>\n",
              "      <td>1</td>\n",
              "      <td>1</td>\n",
              "      <td>35.0</td>\n",
              "      <td>53.1000</td>\n",
              "      <td>2</td>\n",
              "      <td>1</td>\n",
              "      <td>0</td>\n",
              "      <td>0</td>\n",
              "      <td>1</td>\n",
              "    </tr>\n",
              "    <tr>\n",
              "      <th>4</th>\n",
              "      <td>5</td>\n",
              "      <td>0</td>\n",
              "      <td>3</td>\n",
              "      <td>35.0</td>\n",
              "      <td>8.0500</td>\n",
              "      <td>1</td>\n",
              "      <td>0</td>\n",
              "      <td>1</td>\n",
              "      <td>0</td>\n",
              "      <td>1</td>\n",
              "    </tr>\n",
              "  </tbody>\n",
              "</table>\n",
              "</div>"
            ],
            "text/plain": [
              "   PassengerId  Survived  Pclass  ...  GenderClass_male  Embarked_Q  Embarked_S\n",
              "0            1         0       3  ...                 1           0           1\n",
              "1            2         1       1  ...                 0           0           0\n",
              "2            3         1       3  ...                 0           0           1\n",
              "3            4         1       1  ...                 0           0           1\n",
              "4            5         0       3  ...                 1           0           1\n",
              "\n",
              "[5 rows x 10 columns]"
            ]
          },
          "metadata": {
            "tags": []
          },
          "execution_count": 57
        }
      ]
    },
    {
      "cell_type": "markdown",
      "metadata": {
        "id": "5WKRCdAEPsZ6",
        "colab_type": "text"
      },
      "source": [
        "Drawing __pair plot__ to know the joint relationship between __'Fare' , 'Age' , 'Pclass' & 'Survived'__"
      ]
    },
    {
      "cell_type": "code",
      "metadata": {
        "id": "yYO957Q8PsZ7",
        "colab_type": "code",
        "outputId": "8c8bdf4b-8b02-411f-ef0d-6156ee269e39",
        "colab": {
          "base_uri": "https://localhost:8080/",
          "height": 562
        }
      },
      "source": [
        "sns.pairplot(titanic_data[[\"Fare\",\"Age\",\"Pclass\",\"Survived\"]],vars = [\"Fare\",\"Age\",\"Pclass\"],hue=\"Survived\", dropna=True,markers=[\"o\", \"s\"])\n",
        "plt.title('Pair Plot')"
      ],
      "execution_count": 58,
      "outputs": [
        {
          "output_type": "execute_result",
          "data": {
            "text/plain": [
              "Text(0.5, 1.0, 'Pair Plot')"
            ]
          },
          "metadata": {
            "tags": []
          },
          "execution_count": 58
        },
        {
          "output_type": "display_data",
          "data": {
            "image/png": "[encoded data removed]",
            "text/plain": [
              "<Figure size 594.05x540 with 12 Axes>"
            ]
          },
          "metadata": {
            "tags": []
          }
        }
      ]
    },
    {
      "cell_type": "markdown",
      "metadata": {
        "id": "2ajt9-9ZPsZ9",
        "colab_type": "text"
      },
      "source": [
        "Observing the diagonal elements,\n",
        "- More people of __Pclass 1__ _survived_ than died (First peak of red is higher than blue)\n",
        "- More people of __Pclass 3__ _died_ than survived (Third peak of blue is higher than red)\n",
        "- More people of age group __20-40 died__ than survived.\n",
        "- Most of the people paying __less fare died__."
      ]
    },
    {
      "cell_type": "markdown",
      "metadata": {
        "id": "4z8sBJAdPsZ-",
        "colab_type": "text"
      },
      "source": [
        "Establishing __coorelation__ between all the features using __heatmap__."
      ]
    },
    {
      "cell_type": "code",
      "metadata": {
        "id": "3pEkz5nOPsZ_",
        "colab_type": "code",
        "outputId": "6bc26cc9-1894-4bb3-c088-8deced1b79f5",
        "colab": {
          "base_uri": "https://localhost:8080/",
          "height": 672
        }
      },
      "source": [
        "corr = titanic_data.corr()\n",
        "plt.figure(figsize=(10,10))\n",
        "sns.heatmap(corr,vmax=.8,linewidth=.01, square = True, annot = True,cmap='YlGnBu',linecolor ='black')\n",
        "plt.title('Correlation between features')"
      ],
      "execution_count": 59,
      "outputs": [
        {
          "output_type": "execute_result",
          "data": {
            "text/plain": [
              "Text(0.5, 1.0, 'Correlation between features')"
            ]
          },
          "metadata": {
            "tags": []
          },
          "execution_count": 59
        },
        {
          "output_type": "display_data",
          "data": {
            "image/png": "[encoded data removed]",
            "text/plain": [
              "<Figure size 720x720 with 2 Axes>"
            ]
          },
          "metadata": {
            "tags": []
          }
        }
      ]
    },
    {
      "cell_type": "markdown",
      "metadata": {
        "id": "BB2LP-lPPsaB",
        "colab_type": "text"
      },
      "source": [
        "- __Age and Pclass are negatively corelated with Survived.__\n",
        "- FamilySize is made from Parch and SibSb only therefore high positive corelation among them.\n",
        "- __Fare and FamilySize__ are __positively coorelated with Survived.__\n",
        "- With high corelation we face __redundancy__ issues."
      ]
    },
    {
      "cell_type": "markdown",
      "metadata": {
        "id": "0-YucqM9PsaC",
        "colab_type": "text"
      },
      "source": [
        "<a id=section4></a>"
      ]
    },
    {
      "cell_type": "markdown",
      "metadata": {
        "id": "QAAJAALsPsaC",
        "colab_type": "text"
      },
      "source": [
        "## 4. Logistic Regression"
      ]
    },
    {
      "cell_type": "markdown",
      "metadata": {
        "id": "tq4tCroRPsaD",
        "colab_type": "text"
      },
      "source": [
        "<a id=section401></a>"
      ]
    },
    {
      "cell_type": "markdown",
      "metadata": {
        "id": "VPjOBG5VPsaD",
        "colab_type": "text"
      },
      "source": [
        "### 4.1 Introduction to Logistic Regression"
      ]
    },
    {
      "cell_type": "markdown",
      "metadata": {
        "id": "dzrPwn4MPsaE",
        "colab_type": "text"
      },
      "source": [
        "Logistic regression is a techinque used for solving the __classification problem__.<br/> And Classification is nothing but a problem of __identifing__ to which of a set of __categories__ a new observation belongs, on the basis of _training dataset_ containing observations (or instances) whose categorical membership is known. <br/>For example to predict:<br/> __Whether an email is spam (1) or not (0)__ or,<br/> __Whether the tumor is malignant (1) or not (0)<br/>__\n",
        "Below is the pictorial representation of a basic logistic regression model to classify set of images into _happy or sad._\n",
        "![image.png](attachment:image.png)"
      ]
    },
    {
      "cell_type": "markdown",
      "metadata": {
        "id": "IMmUtlPNPsaE",
        "colab_type": "text"
      },
      "source": [
        "Both Linear regression and Logistic regression are __supervised learning techinques__. But for the _Regression_ problem the output is __continuous__ unlike the _classification_ problem where the output is __discrete__. <br/>\n",
        "- Logistic Regression is used when the __dependent variable(target) is categorical__.<br/>\n",
        "- __Sigmoid function__ or logistic function is used as _hypothesis function_ for logistic regression. Below is a figure showing the difference between linear regression and logistic regression, Also notice that logistic regression produces a logistic curve, which is limited to values between 0 and 1. <br/> \n",
        "![image.png](attachment:image.png)"
      ]
    },
    {
      "cell_type": "markdown",
      "metadata": {
        "id": "jgzPSvE_PsaE",
        "colab_type": "text"
      },
      "source": [
        "<a id=section402></a>"
      ]
    },
    {
      "cell_type": "markdown",
      "metadata": {
        "id": "mIIP-cmfPsaF",
        "colab_type": "text"
      },
      "source": [
        "## 4.2 Mathematics behind Logistic Regression\n",
        "\n",
        "The __odds__ for an event is the __(probability of an event occuring) / (probability of event not occuring)__:\n",
        "![image.png](attachment:image.png)\n",
        "For __Linear regression__: continuous response is modeled as a linear combination of the features: __y = β0 + β1x__<br/>\n",
        "For __Logistic regression__: log-odds of a categorical response being \"__true__\" (1) is modeled as a linear combination of the features:"
      ]
    },
    {
      "cell_type": "markdown",
      "metadata": {
        "id": "0ae-9qm_PsaF",
        "colab_type": "text"
      },
      "source": [
        "![image.png](attachment:image.png)\n",
        "This is called the __logit function__.<br/>\n",
        "On solving for probability (p) you will get:"
      ]
    },
    {
      "cell_type": "markdown",
      "metadata": {
        "id": "SIZNaL6cPsaG",
        "colab_type": "text"
      },
      "source": [
        "![image.png](attachment:image.png)"
      ]
    },
    {
      "cell_type": "markdown",
      "metadata": {
        "id": "aRyFhJ92PsaG",
        "colab_type": "text"
      },
      "source": [
        "![image.png](attachment:image.png)\n"
      ]
    },
    {
      "cell_type": "markdown",
      "metadata": {
        "id": "xSzAAMDwPsaH",
        "colab_type": "text"
      },
      "source": [
        "Shown below is the plot showing __linear model__ and __logistic model__: "
      ]
    },
    {
      "cell_type": "markdown",
      "metadata": {
        "id": "2-O2IPbBPsaI",
        "colab_type": "text"
      },
      "source": [
        "![image.png](attachment:image.png)\n"
      ]
    },
    {
      "cell_type": "markdown",
      "metadata": {
        "id": "tlBGuBPZPsaI",
        "colab_type": "text"
      },
      "source": [
        "In other words:\n",
        "\n",
        "- Logistic regression outputs the __probabilities of a specific class__.\n",
        "- Those probabilities can be converted into __class predictions__.\n",
        "\n",
        "\n",
        "The logistic function has some nice properties:\n",
        "\n",
        "- Takes on an __\"s\"__ shape\n",
        "- Output is bounded by __0 and 1__<br/>\n",
        "\n",
        "\n",
        "We have covered how this works for binary classification problems (two response classes). But what about __multi-class classification problems__ (more than two response classes)?\n",
        "\n",
        "- Most common solution for classification models is __\"one-vs-all\"__ (also known as __\"one-vs-rest\"__): decompose the problem into multiple binary classification problems.\n",
        "- __Multinomial logistic regression__ can solve this as a single problem."
      ]
    },
    {
      "cell_type": "markdown",
      "metadata": {
        "id": "82xDnmdsPsaJ",
        "colab_type": "text"
      },
      "source": [
        "<a id=section403></a>"
      ]
    },
    {
      "cell_type": "markdown",
      "metadata": {
        "id": "7mT4Ex21PsaJ",
        "colab_type": "text"
      },
      "source": [
        "## 4.3 __Applications of Logistic Regression__"
      ]
    },
    {
      "cell_type": "markdown",
      "metadata": {
        "id": "xTTKtxI4PsaK",
        "colab_type": "text"
      },
      "source": [
        "Logistic Regression was used in __biological sciences__ in early twentieth century. It was then used in many social science applications. For instance,\n",
        "- The Trauma and Injury Severity Score (TRISS), which is widely used to __predict mortality in injured patients__, was originally developed by Boyd et al. using logistic regression.<br/> \n",
        "- Many other medical scales used to __assess severity__ of a patient have been developed using logistic regression.<br/>\n",
        "- Logistic regression may be used to __predict the risk of developing a given disease__ (e.g. diabetes; coronary heart disease), based on observed characteristics of the patient (age, sex, body mass index, results of various blood tests, etc.).<br/>\n",
        "\n",
        "Now a days, Logistic Regression have the following applications \n",
        "1. Image segementation and  categorization\n",
        "2. Geographic image processing\n",
        "3. Handwriting recognition\n",
        "4. Detection of  myocardinal infarction\n",
        "5. Predict whether a person is depressed or not based on a bag of words from corpus. \n",
        "![image.png](attachment:image.png)\n",
        "\n",
        "The reason why logistic regression is widely used despite of the state of the art of deep neural network is that logistic regression is very __efficient__ and does __not__ require too much __computational resources__, which makes it __affordable__ to run on production."
      ]
    },
    {
      "cell_type": "markdown",
      "metadata": {
        "id": "fRGnrMFIPsaK",
        "colab_type": "text"
      },
      "source": [
        "<a id=section404></a>"
      ]
    },
    {
      "cell_type": "markdown",
      "metadata": {
        "id": "tar4_MFaPsaL",
        "colab_type": "text"
      },
      "source": [
        "## 4.4 Preparing X and y using pandas"
      ]
    },
    {
      "cell_type": "code",
      "metadata": {
        "id": "S8v5UdS3PsaL",
        "colab_type": "code",
        "outputId": "8107a8dd-1044-4779-bfeb-5cd62f4d2307",
        "colab": {
          "base_uri": "https://localhost:8080/",
          "height": 204
        }
      },
      "source": [
        "X = titanic.loc[:,titanic.columns != 'Survived']\n",
        "X.head()"
      ],
      "execution_count": 60,
      "outputs": [
        {
          "output_type": "execute_result",
          "data": {
            "text/html": [
              "<div>\n",
              "<style scoped>\n",
              "    .dataframe tbody tr th:only-of-type {\n",
              "        vertical-align: middle;\n",
              "    }\n",
              "\n",
              "    .dataframe tbody tr th {\n",
              "        vertical-align: top;\n",
              "    }\n",
              "\n",
              "    .dataframe thead th {\n",
              "        text-align: right;\n",
              "    }\n",
              "</style>\n",
              "<table border=\"1\" class=\"dataframe\">\n",
              "  <thead>\n",
              "    <tr style=\"text-align: right;\">\n",
              "      <th></th>\n",
              "      <th>PassengerId</th>\n",
              "      <th>Pclass</th>\n",
              "      <th>Age</th>\n",
              "      <th>Fare</th>\n",
              "      <th>FamilySize</th>\n",
              "      <th>GenderClass_female</th>\n",
              "      <th>GenderClass_male</th>\n",
              "      <th>Embarked_Q</th>\n",
              "      <th>Embarked_S</th>\n",
              "    </tr>\n",
              "  </thead>\n",
              "  <tbody>\n",
              "    <tr>\n",
              "      <th>0</th>\n",
              "      <td>1</td>\n",
              "      <td>3</td>\n",
              "      <td>22.0</td>\n",
              "      <td>7.2500</td>\n",
              "      <td>2</td>\n",
              "      <td>0</td>\n",
              "      <td>1</td>\n",
              "      <td>0</td>\n",
              "      <td>1</td>\n",
              "    </tr>\n",
              "    <tr>\n",
              "      <th>1</th>\n",
              "      <td>2</td>\n",
              "      <td>1</td>\n",
              "      <td>38.0</td>\n",
              "      <td>71.2833</td>\n",
              "      <td>2</td>\n",
              "      <td>1</td>\n",
              "      <td>0</td>\n",
              "      <td>0</td>\n",
              "      <td>0</td>\n",
              "    </tr>\n",
              "    <tr>\n",
              "      <th>2</th>\n",
              "      <td>3</td>\n",
              "      <td>3</td>\n",
              "      <td>26.0</td>\n",
              "      <td>7.9250</td>\n",
              "      <td>1</td>\n",
              "      <td>1</td>\n",
              "      <td>0</td>\n",
              "      <td>0</td>\n",
              "      <td>1</td>\n",
              "    </tr>\n",
              "    <tr>\n",
              "      <th>3</th>\n",
              "      <td>4</td>\n",
              "      <td>1</td>\n",
              "      <td>35.0</td>\n",
              "      <td>53.1000</td>\n",
              "      <td>2</td>\n",
              "      <td>1</td>\n",
              "      <td>0</td>\n",
              "      <td>0</td>\n",
              "      <td>1</td>\n",
              "    </tr>\n",
              "    <tr>\n",
              "      <th>4</th>\n",
              "      <td>5</td>\n",
              "      <td>3</td>\n",
              "      <td>35.0</td>\n",
              "      <td>8.0500</td>\n",
              "      <td>1</td>\n",
              "      <td>0</td>\n",
              "      <td>1</td>\n",
              "      <td>0</td>\n",
              "      <td>1</td>\n",
              "    </tr>\n",
              "  </tbody>\n",
              "</table>\n",
              "</div>"
            ],
            "text/plain": [
              "   PassengerId  Pclass   Age  ...  GenderClass_male  Embarked_Q  Embarked_S\n",
              "0            1       3  22.0  ...                 1           0           1\n",
              "1            2       1  38.0  ...                 0           0           0\n",
              "2            3       3  26.0  ...                 0           0           1\n",
              "3            4       1  35.0  ...                 0           0           1\n",
              "4            5       3  35.0  ...                 1           0           1\n",
              "\n",
              "[5 rows x 9 columns]"
            ]
          },
          "metadata": {
            "tags": []
          },
          "execution_count": 60
        }
      ]
    },
    {
      "cell_type": "code",
      "metadata": {
        "id": "b5a8xKJqPsaO",
        "colab_type": "code",
        "colab": {}
      },
      "source": [
        "y = titanic.Survived "
      ],
      "execution_count": 0,
      "outputs": []
    },
    {
      "cell_type": "markdown",
      "metadata": {
        "id": "BOlBOr9zPsaR",
        "colab_type": "text"
      },
      "source": [
        "<a id=section405></a>"
      ]
    },
    {
      "cell_type": "markdown",
      "metadata": {
        "id": "TMHnufEqPsaS",
        "colab_type": "text"
      },
      "source": [
        "## 4.5 Splitting X and y into training and test datasets."
      ]
    },
    {
      "cell_type": "code",
      "metadata": {
        "id": "F3xxy6NjPsaS",
        "colab_type": "code",
        "colab": {}
      },
      "source": [
        "#from sklearn.cross_validation import train_test_split\n",
        "from sklearn.model_selection import train_test_split\n",
        "X_train, X_test, y_train, y_test = train_test_split(X, y, test_size=0.20, random_state=1)"
      ],
      "execution_count": 0,
      "outputs": []
    },
    {
      "cell_type": "code",
      "metadata": {
        "id": "bOeDnn4cPsaW",
        "colab_type": "code",
        "outputId": "47cb6b82-0db4-49ec-a166-4d6242a67314",
        "colab": {
          "base_uri": "https://localhost:8080/",
          "height": 51
        }
      },
      "source": [
        "print(X_train.shape)\n",
        "print(y_train.shape)"
      ],
      "execution_count": 63,
      "outputs": [
        {
          "output_type": "stream",
          "text": [
            "(712, 9)\n",
            "(712,)\n"
          ],
          "name": "stdout"
        }
      ]
    },
    {
      "cell_type": "markdown",
      "metadata": {
        "id": "hohBLjJUPsaY",
        "colab_type": "text"
      },
      "source": [
        "<a id=section406></a>"
      ]
    },
    {
      "cell_type": "markdown",
      "metadata": {
        "id": "4nZbghUePsaZ",
        "colab_type": "text"
      },
      "source": [
        "## 4.6 Logistic regression in scikit-learn"
      ]
    },
    {
      "cell_type": "markdown",
      "metadata": {
        "id": "V5c3vk8VPsaZ",
        "colab_type": "text"
      },
      "source": [
        "To apply any machine learning algorithm on your dataset, basically there are 4 steps:\n",
        "1. Load the algorithm\n",
        "2. Instantiate and Fit the model to the training dataset\n",
        "3. Prediction on the test set\n",
        "4. Calculating the accuracy of the model\n",
        "\n",
        "The code block given below shows how these steps are carried out:<br/>\n",
        "\n",
        "``` from sklearn.linear_model import LogisticRegression\n",
        "    logreg = LogisticRegression()\n",
        "    logreg.fit(X_train, y_train)\n",
        "    accuracy_score(y_test,y_pred_test))\n",
        "    ```"
      ]
    },
    {
      "cell_type": "code",
      "metadata": {
        "id": "vvlfNsOxPsaa",
        "colab_type": "code",
        "outputId": "4883aa05-5651-4c71-a3b0-dcaa2cded679",
        "colab": {
          "base_uri": "https://localhost:8080/",
          "height": 139
        }
      },
      "source": [
        "from sklearn.linear_model import LogisticRegression\n",
        "logreg = LogisticRegression()\n",
        "logreg.fit(X_train,y_train)"
      ],
      "execution_count": 64,
      "outputs": [
        {
          "output_type": "stream",
          "text": [
            "/usr/local/lib/python3.6/dist-packages/sklearn/linear_model/logistic.py:433: FutureWarning: Default solver will be changed to 'lbfgs' in 0.22. Specify a solver to silence this warning.\n",
            "  FutureWarning)\n"
          ],
          "name": "stderr"
        },
        {
          "output_type": "execute_result",
          "data": {
            "text/plain": [
              "LogisticRegression(C=1.0, class_weight=None, dual=False, fit_intercept=True,\n",
              "          intercept_scaling=1, max_iter=100, multi_class='warn',\n",
              "          n_jobs=None, penalty='l2', random_state=None, solver='warn',\n",
              "          tol=0.0001, verbose=0, warm_start=False)"
            ]
          },
          "metadata": {
            "tags": []
          },
          "execution_count": 64
        }
      ]
    },
    {
      "cell_type": "markdown",
      "metadata": {
        "id": "g6Cn7AD2Psae",
        "colab_type": "text"
      },
      "source": [
        "<a id=section407></a>"
      ]
    },
    {
      "cell_type": "markdown",
      "metadata": {
        "id": "CK-51cZbPsae",
        "colab_type": "text"
      },
      "source": [
        "## 4.7 Using the Model for Prediction"
      ]
    },
    {
      "cell_type": "code",
      "metadata": {
        "id": "BoeTnYh1Psaf",
        "colab_type": "code",
        "colab": {}
      },
      "source": [
        "y_pred_train = logreg.predict(X_train)  "
      ],
      "execution_count": 0,
      "outputs": []
    },
    {
      "cell_type": "code",
      "metadata": {
        "id": "uvPCHIsSPsah",
        "colab_type": "code",
        "colab": {}
      },
      "source": [
        "y_pred_test = logreg.predict(X_test)                                                           # make predictions on the testing set"
      ],
      "execution_count": 0,
      "outputs": []
    },
    {
      "cell_type": "markdown",
      "metadata": {
        "id": "BJuDkLtDPsaj",
        "colab_type": "text"
      },
      "source": [
        "- We need an evaluation metric in order to compare our predictions with the actual values."
      ]
    },
    {
      "cell_type": "markdown",
      "metadata": {
        "id": "XPNdZi3-Psaj",
        "colab_type": "text"
      },
      "source": [
        "<a id = section5></a>"
      ]
    },
    {
      "cell_type": "markdown",
      "metadata": {
        "id": "0RYvruLvPsaj",
        "colab_type": "text"
      },
      "source": [
        "## 5. Model evaluation "
      ]
    },
    {
      "cell_type": "markdown",
      "metadata": {
        "id": "YTM4eepdPsak",
        "colab_type": "text"
      },
      "source": [
        "__Error__ is the _deviation_ of the values _predicted_ by the model with the _true_ values.<br/>\n",
        "We will use __accuracy score __ and __confusion matrix__ for evaluation."
      ]
    },
    {
      "cell_type": "markdown",
      "metadata": {
        "id": "JsY4HAqXPsal",
        "colab_type": "text"
      },
      "source": [
        "<a id=section501></a>"
      ]
    },
    {
      "cell_type": "markdown",
      "metadata": {
        "id": "lenBsUoTPsal",
        "colab_type": "text"
      },
      "source": [
        "### 5.1 Model Evaluation using __accuracy classification score__"
      ]
    },
    {
      "cell_type": "code",
      "metadata": {
        "id": "IB29epu6Psam",
        "colab_type": "code",
        "outputId": "3040dd31-b96d-4881-d864-11c3c8527483",
        "colab": {
          "base_uri": "https://localhost:8080/",
          "height": 34
        }
      },
      "source": [
        "from sklearn.metrics import accuracy_score\n",
        "print('Accuracy score for test data is:', accuracy_score(y_test,y_pred_test))"
      ],
      "execution_count": 67,
      "outputs": [
        {
          "output_type": "stream",
          "text": [
            "Accuracy score for test data is: 0.8044692737430168\n"
          ],
          "name": "stdout"
        }
      ]
    },
    {
      "cell_type": "markdown",
      "metadata": {
        "id": "Pkzq1XzcPsao",
        "colab_type": "text"
      },
      "source": [
        "<a id = section502></a>"
      ]
    },
    {
      "cell_type": "markdown",
      "metadata": {
        "id": "wZqKuTKbPsap",
        "colab_type": "text"
      },
      "source": [
        "### 5.2 Model Evaluation using confusion matrix"
      ]
    },
    {
      "cell_type": "markdown",
      "metadata": {
        "id": "68T64_8tPsap",
        "colab_type": "text"
      },
      "source": [
        "A __confusion matrix__ is a __summary__ of prediction results on a classification problem.\n",
        "\n",
        "The number of correct and incorrect predictions are summarized with count values and broken down by each class. <br/>\n",
        "Below is a diagram showing a general confusion matrix.\n",
        "![image.png](attachment:image.png)"
      ]
    },
    {
      "cell_type": "code",
      "metadata": {
        "id": "3Kw2x69nPsaq",
        "colab_type": "code",
        "outputId": "c6a0ba3f-ae67-46a6-c398-4684b23a1715",
        "colab": {
          "base_uri": "https://localhost:8080/",
          "height": 68
        }
      },
      "source": [
        "from sklearn.metrics import confusion_matrix\n",
        "\n",
        "confusion_matrix = pd.DataFrame(confusion_matrix(y_test, y_pred_test))\n",
        "\n",
        "print(confusion_matrix)"
      ],
      "execution_count": 68,
      "outputs": [
        {
          "output_type": "stream",
          "text": [
            "    0   1\n",
            "0  96  10\n",
            "1  25  48\n"
          ],
          "name": "stdout"
        }
      ]
    },
    {
      "cell_type": "code",
      "metadata": {
        "id": "JXeb5BtFPsas",
        "colab_type": "code",
        "outputId": "b2ce06db-7f9a-457b-9138-949d2577c585",
        "colab": {
          "base_uri": "https://localhost:8080/",
          "height": 68
        }
      },
      "source": [
        "confusion_matrix.index = ['Actual Died','Actual Survived']\n",
        "confusion_matrix.columns = ['Predicted Died','Predicted Survived']\n",
        "print(confusion_matrix)"
      ],
      "execution_count": 69,
      "outputs": [
        {
          "output_type": "stream",
          "text": [
            "                 Predicted Died  Predicted Survived\n",
            "Actual Died                  96                  10\n",
            "Actual Survived              25                  48\n"
          ],
          "name": "stdout"
        }
      ]
    },
    {
      "cell_type": "markdown",
      "metadata": {
        "id": "rVb0SjGRPsau",
        "colab_type": "text"
      },
      "source": [
        "This means 93 + 48 = __141 correct predictions__ & 25 + 13 = __38 false predictions__."
      ]
    },
    {
      "cell_type": "markdown",
      "metadata": {
        "id": "iBIu69UJPsau",
        "colab_type": "text"
      },
      "source": [
        "__Adjusting Threshold__ for predicting Died or Survived."
      ]
    },
    {
      "cell_type": "markdown",
      "metadata": {
        "id": "d5zGPJQCPsav",
        "colab_type": "text"
      },
      "source": [
        "- In the section [4.7](#section4.7) we have used, __.predict__ method for classification. This method takes 0.5 as the default threshhod for prediction.<br/>\n",
        "- Now, we are going to see the impact of changing threshold on the accuracy of our logistic regression model. <br/>\n",
        "- For this we are going to use __.predict_proba__ method instead of using .predict method. "
      ]
    },
    {
      "cell_type": "markdown",
      "metadata": {
        "id": "ck-lEBDmPsav",
        "colab_type": "text"
      },
      "source": [
        "Setting the threshold to __0.75__"
      ]
    },
    {
      "cell_type": "code",
      "metadata": {
        "id": "KfxV0mjgPsaw",
        "colab_type": "code",
        "outputId": "61bf1538-f591-4fb8-c3a1-4253c35a1637",
        "colab": {
          "base_uri": "https://localhost:8080/",
          "height": 34
        }
      },
      "source": [
        "preds1 = np.where(logreg.predict_proba(X_test)[:,1]> 0.75,1,0)\n",
        "print('Accuracy score for test data is:', accuracy_score(y_test,preds1))"
      ],
      "execution_count": 70,
      "outputs": [
        {
          "output_type": "stream",
          "text": [
            "Accuracy score for test data is: 0.7374301675977654\n"
          ],
          "name": "stdout"
        }
      ]
    },
    {
      "cell_type": "markdown",
      "metadata": {
        "id": "MWHDKq9OPsay",
        "colab_type": "text"
      },
      "source": [
        "The accuracy have been __reduced__ significantly changing from __0.79 to 0.73__. Hence, 0.75 is __not a good threshold__ for our model. "
      ]
    },
    {
      "cell_type": "markdown",
      "metadata": {
        "id": "qSf-5tHFPsaz",
        "colab_type": "text"
      },
      "source": [
        "Setting the threshold to __0.25__"
      ]
    },
    {
      "cell_type": "code",
      "metadata": {
        "id": "sW3TIVcUPsaz",
        "colab_type": "code",
        "outputId": "28a88e3c-e4e1-4e5f-c8f1-4489466cdcd4",
        "colab": {
          "base_uri": "https://localhost:8080/",
          "height": 34
        }
      },
      "source": [
        "preds2 = np.where(logreg.predict_proba(X_test)[:,1]> 0.25,1,0)\n",
        "print('Accuracy score for test data is:', accuracy_score(y_test,preds2))"
      ],
      "execution_count": 71,
      "outputs": [
        {
          "output_type": "stream",
          "text": [
            "Accuracy score for test data is: 0.7486033519553073\n"
          ],
          "name": "stdout"
        }
      ]
    },
    {
      "cell_type": "markdown",
      "metadata": {
        "id": "myUPcO3SPsa2",
        "colab_type": "text"
      },
      "source": [
        "The accuracy have been __reduced__, changing from __0.79 to 0.75__. Hence, 0.25 is also __not a good threshold__ for our model. <br/>\n",
        "Later on we will see methods to identify the best threshold. "
      ]
    }
  ]
}