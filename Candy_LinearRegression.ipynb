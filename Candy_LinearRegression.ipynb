{
  "nbformat": 4,
  "nbformat_minor": 0,
  "metadata": {
    "colab": {
      "name": "Candy_LinearRegression.ipynb",
      "version": "0.3.2",
      "provenance": [],
      "collapsed_sections": [
        "HzjUl5N-Itd9"
      ],
      "include_colab_link": true
    },
    "language_info": {
      "codemirror_mode": {
        "name": "ipython",
        "version": 3
      },
      "file_extension": ".py",
      "mimetype": "text/x-python",
      "name": "python",
      "nbconvert_exporter": "python",
      "pygments_lexer": "ipython3",
      "version": "3.7.1"
    },
    "kernelspec": {
      "display_name": "Python 3",
      "language": "python",
      "name": "python3"
    }
  },
  "cells": [
    {
      "cell_type": "markdown",
      "metadata": {
        "id": "view-in-github",
        "colab_type": "text"
      },
      "source": [
        "<a href=\"https://colab.research.google.com/github/prasrao/INSAID/blob/master/Candy_LinearRegression.ipynb\" target=\"_parent\"><img src=\"https://colab.research.google.com/assets/colab-badge.svg\" alt=\"Open In Colab\"/></a>"
      ]
    },
    {
      "cell_type": "markdown",
      "metadata": {
        "colab_type": "text",
        "id": "mlAcfZ-9Itc-"
      },
      "source": [
        "<img src=\"https://github.com/insaid2018/Term-1/blob/master/Images/INSAID_Full%20Logo.png?raw=true\" width=\"240\" height=\"360\" />\n",
        "\n",
        "# LINEAR REGRESSION"
      ]
    },
    {
      "cell_type": "markdown",
      "metadata": {
        "colab_type": "text",
        "id": "M5YBMTp_ItdA"
      },
      "source": [
        "## Table of Content\n",
        "\n",
        "1. [Problem Statement](#section1)<br>\n",
        "2. [Data Loading and Description](#section2)<br>\n",
        "3. [Exploratory Data Analysis](#section3)<br>\n",
        "4. [Introduction to Linear Regression](#section4)<br>\n",
        "    - 4.1 [Linear Regression Equation with Errors in consideration](#section401)<br>\n",
        "        - 4.1.1 [Assumptions of Linear Regression](#sectionassumptions)<br>\n",
        "    - 4.2 [Preparing X and y using pandas](#section402)<br>\n",
        "    - 4.3 [Splitting X and y into training and test datasets](#section403)<br>\n",
        "    - 4.4 [Linear regression in scikit-learn](#section404)<br>\n",
        "    - 4.5 [Interpreting Model Coefficients](#section405)<br>\n",
        "    - 4.3 [Using the Model for Prediction](#section406)<br>\n",
        "5. [Model evaluation](#section5)<br>\n",
        "    - 5.1 [Model evaluation using metrics](#section501)<br>\n",
        "    - 5.2 [Model Evaluation using Rsquared value.](#section502)<br>\n",
        "6. [Feature Selection](#section6)<br>\n",
        "7. [Handling Categorical Features](#section7)<br>\n",
        "8. [Linear Regression model with GridSearchCV](#section8)<br>"
      ]
    },
    {
      "cell_type": "markdown",
      "metadata": {
        "colab_type": "text",
        "id": "w5g5DJfwItdA"
      },
      "source": [
        "<a id=section1></a>"
      ]
    },
    {
      "cell_type": "markdown",
      "metadata": {
        "colab_type": "text",
        "id": "5PO1IVf1ItdB"
      },
      "source": [
        "## 1. Problem Statement\n",
        "\n",
        "The goal is to predict winpercent (overall win percentage) for a candy in Candy Dataset using appropriate regression models.\n",
        "\n",
        "We want to find a model that given inputs what will be the winpercent.\n",
        "\n",
        "Which features contributes the most to winpercent.?\n"
      ]
    },
    {
      "cell_type": "markdown",
      "metadata": {
        "colab_type": "text",
        "id": "MmepiO6aItdC"
      },
      "source": [
        "<a id=section2></a>"
      ]
    },
    {
      "cell_type": "markdown",
      "metadata": {
        "colab_type": "text",
        "id": "nuvt-IkhItdC"
      },
      "source": [
        "## 2. Data Loading and Description\n",
        "\n",
        "- The dataset comprises of __85 observations of 13 columns__. Below is a table showing names of all the columns and their description.\n",
        "\n",
        "| Column Name   | Description                                               |\n",
        "| ------------- |:-------------                                            :| \n",
        "| chocolate   | Does it contain chocolate?                                          | \n",
        "| fruity      | Is it fruit flavored?                         |  \n",
        "| caramel          | Is there caramel in the candy?                                        |   \n",
        "| peanutalmondy        | Does it contain peanuts, peanut butter or almonds?                                           | \n",
        "| nougat           | Does it contain nougat?                                         |\n",
        "| crispedricewafer   | Does it contain crisped rice, wafers, or a cookie component?                                         |\n",
        "| hard         |Is it a hard candy? |\n",
        "| pluribus         | Is it a candy bar |\n",
        "| sugarpercent        | The percentile of sugar it falls under within the data set.    |                                      \n",
        "| pricepercent| The unit price percentile compared to the rest of the set.                                           |\n",
        "| winpercent        |The overall win percentage according to 269,000 matchups.                                             |"
      ]
    },
    {
      "cell_type": "markdown",
      "metadata": {
        "colab_type": "text",
        "id": "HzWvRN1kItdD"
      },
      "source": [
        "__Importing Packages__"
      ]
    },
    {
      "cell_type": "code",
      "metadata": {
        "colab_type": "code",
        "id": "IzPHZVfTItdE",
        "colab": {}
      },
      "source": [
        "import pandas as pd\n",
        "import seaborn as sns\n",
        "import matplotlib.pyplot as plt\n",
        "from sklearn import metrics\n",
        "\n",
        "import numpy as np\n",
        "\n",
        "# allow plots to appear directly in the notebook\n",
        "%matplotlib inline\n",
        "import warnings\n",
        "warnings.filterwarnings('ignore') "
      ],
      "execution_count": 0,
      "outputs": []
    },
    {
      "cell_type": "markdown",
      "metadata": {
        "colab_type": "text",
        "id": "2DlGg-vOItdI"
      },
      "source": [
        "#### Importing the Dataset"
      ]
    },
    {
      "cell_type": "code",
      "metadata": {
        "colab_type": "code",
        "id": "an4fRP3GItdI",
        "outputId": "1dfa7113-910b-4129-b85f-da7e76be4748",
        "colab": {
          "base_uri": "https://localhost:8080/",
          "height": 204
        }
      },
      "source": [
        "candy = pd.read_csv('https://raw.githubusercontent.com/insaid2018/Term-2/master/Projects/candy-data.csv')\n",
        "candy.head() "
      ],
      "execution_count": 0,
      "outputs": [
        {
          "output_type": "execute_result",
          "data": {
            "text/html": [
              "<div>\n",
              "<style scoped>\n",
              "    .dataframe tbody tr th:only-of-type {\n",
              "        vertical-align: middle;\n",
              "    }\n",
              "\n",
              "    .dataframe tbody tr th {\n",
              "        vertical-align: top;\n",
              "    }\n",
              "\n",
              "    .dataframe thead th {\n",
              "        text-align: right;\n",
              "    }\n",
              "</style>\n",
              "<table border=\"1\" class=\"dataframe\">\n",
              "  <thead>\n",
              "    <tr style=\"text-align: right;\">\n",
              "      <th></th>\n",
              "      <th>competitorname</th>\n",
              "      <th>chocolate</th>\n",
              "      <th>fruity</th>\n",
              "      <th>caramel</th>\n",
              "      <th>peanutyalmondy</th>\n",
              "      <th>nougat</th>\n",
              "      <th>crispedricewafer</th>\n",
              "      <th>hard</th>\n",
              "      <th>bar</th>\n",
              "      <th>pluribus</th>\n",
              "      <th>sugarpercent</th>\n",
              "      <th>pricepercent</th>\n",
              "      <th>winpercent</th>\n",
              "    </tr>\n",
              "  </thead>\n",
              "  <tbody>\n",
              "    <tr>\n",
              "      <th>0</th>\n",
              "      <td>100 Grand</td>\n",
              "      <td>1</td>\n",
              "      <td>0</td>\n",
              "      <td>1</td>\n",
              "      <td>0</td>\n",
              "      <td>0</td>\n",
              "      <td>1</td>\n",
              "      <td>0</td>\n",
              "      <td>1</td>\n",
              "      <td>0</td>\n",
              "      <td>0.732</td>\n",
              "      <td>0.860</td>\n",
              "      <td>66.971725</td>\n",
              "    </tr>\n",
              "    <tr>\n",
              "      <th>1</th>\n",
              "      <td>3 Musketeers</td>\n",
              "      <td>1</td>\n",
              "      <td>0</td>\n",
              "      <td>0</td>\n",
              "      <td>0</td>\n",
              "      <td>1</td>\n",
              "      <td>0</td>\n",
              "      <td>0</td>\n",
              "      <td>1</td>\n",
              "      <td>0</td>\n",
              "      <td>0.604</td>\n",
              "      <td>0.511</td>\n",
              "      <td>67.602936</td>\n",
              "    </tr>\n",
              "    <tr>\n",
              "      <th>2</th>\n",
              "      <td>One dime</td>\n",
              "      <td>0</td>\n",
              "      <td>0</td>\n",
              "      <td>0</td>\n",
              "      <td>0</td>\n",
              "      <td>0</td>\n",
              "      <td>0</td>\n",
              "      <td>0</td>\n",
              "      <td>0</td>\n",
              "      <td>0</td>\n",
              "      <td>0.011</td>\n",
              "      <td>0.116</td>\n",
              "      <td>32.261086</td>\n",
              "    </tr>\n",
              "    <tr>\n",
              "      <th>3</th>\n",
              "      <td>One quarter</td>\n",
              "      <td>0</td>\n",
              "      <td>0</td>\n",
              "      <td>0</td>\n",
              "      <td>0</td>\n",
              "      <td>0</td>\n",
              "      <td>0</td>\n",
              "      <td>0</td>\n",
              "      <td>0</td>\n",
              "      <td>0</td>\n",
              "      <td>0.011</td>\n",
              "      <td>0.511</td>\n",
              "      <td>46.116505</td>\n",
              "    </tr>\n",
              "    <tr>\n",
              "      <th>4</th>\n",
              "      <td>Air Heads</td>\n",
              "      <td>0</td>\n",
              "      <td>1</td>\n",
              "      <td>0</td>\n",
              "      <td>0</td>\n",
              "      <td>0</td>\n",
              "      <td>0</td>\n",
              "      <td>0</td>\n",
              "      <td>0</td>\n",
              "      <td>0</td>\n",
              "      <td>0.906</td>\n",
              "      <td>0.511</td>\n",
              "      <td>52.341465</td>\n",
              "    </tr>\n",
              "  </tbody>\n",
              "</table>\n",
              "</div>"
            ],
            "text/plain": [
              "  competitorname  chocolate  fruity  caramel  peanutyalmondy  nougat  \\\n",
              "0      100 Grand          1       0        1               0       0   \n",
              "1   3 Musketeers          1       0        0               0       1   \n",
              "2       One dime          0       0        0               0       0   \n",
              "3    One quarter          0       0        0               0       0   \n",
              "4      Air Heads          0       1        0               0       0   \n",
              "\n",
              "   crispedricewafer  hard  bar  pluribus  sugarpercent  pricepercent  \\\n",
              "0                 1     0    1         0         0.732         0.860   \n",
              "1                 0     0    1         0         0.604         0.511   \n",
              "2                 0     0    0         0         0.011         0.116   \n",
              "3                 0     0    0         0         0.011         0.511   \n",
              "4                 0     0    0         0         0.906         0.511   \n",
              "\n",
              "   winpercent  \n",
              "0   66.971725  \n",
              "1   67.602936  \n",
              "2   32.261086  \n",
              "3   46.116505  \n",
              "4   52.341465  "
            ]
          },
          "metadata": {
            "tags": []
          },
          "execution_count": 2
        }
      ]
    },
    {
      "cell_type": "markdown",
      "metadata": {
        "colab_type": "text",
        "id": "rQ5h_KQOItdP"
      },
      "source": [
        "## 3. Exploratory Data Analysis\n",
        "\n",
        "\n",
        "- The upcoming sections the focus will be on, first to __understand the dataset__ .\n",
        "- The __pre-profiling__ steps with the help of __pandas profiling__,deals with analyzing which columns of the dataset need processing.\n",
        "- The __pre-processing__ step deals with correcting the erronous and missing values of columns. \n",
        "- Finally __post-profiling__ using __pandas profiling__ to see how processing step has transformed the dataset."
      ]
    },
    {
      "cell_type": "code",
      "metadata": {
        "colab_type": "code",
        "id": "Zn3vXgyOItdQ",
        "outputId": "8b318abd-f138-4078-f989-7757ac117aee",
        "colab": {
          "base_uri": "https://localhost:8080/",
          "height": 34
        }
      },
      "source": [
        "candy.shape"
      ],
      "execution_count": 0,
      "outputs": [
        {
          "output_type": "execute_result",
          "data": {
            "text/plain": [
              "(85, 13)"
            ]
          },
          "metadata": {
            "tags": []
          },
          "execution_count": 3
        }
      ]
    },
    {
      "cell_type": "code",
      "metadata": {
        "colab_type": "code",
        "id": "5nAGBDzmItdT",
        "outputId": "84fca7fe-d6e9-434c-dcf2-9c9677419c0a",
        "colab": {
          "base_uri": "https://localhost:8080/",
          "height": 323
        }
      },
      "source": [
        "candy.info()"
      ],
      "execution_count": 0,
      "outputs": [
        {
          "output_type": "stream",
          "text": [
            "<class 'pandas.core.frame.DataFrame'>\n",
            "RangeIndex: 85 entries, 0 to 84\n",
            "Data columns (total 13 columns):\n",
            "competitorname      85 non-null object\n",
            "chocolate           85 non-null int64\n",
            "fruity              85 non-null int64\n",
            "caramel             85 non-null int64\n",
            "peanutyalmondy      85 non-null int64\n",
            "nougat              85 non-null int64\n",
            "crispedricewafer    85 non-null int64\n",
            "hard                85 non-null int64\n",
            "bar                 85 non-null int64\n",
            "pluribus            85 non-null int64\n",
            "sugarpercent        85 non-null float64\n",
            "pricepercent        85 non-null float64\n",
            "winpercent          85 non-null float64\n",
            "dtypes: float64(3), int64(9), object(1)\n",
            "memory usage: 8.7+ KB\n"
          ],
          "name": "stdout"
        }
      ]
    },
    {
      "cell_type": "code",
      "metadata": {
        "colab_type": "code",
        "id": "0D6_sJwuItdW",
        "outputId": "57ee42fe-d3dc-4b33-ba78-9d4f4666d8f2",
        "scrolled": true,
        "colab": {
          "base_uri": "https://localhost:8080/",
          "height": 297
        }
      },
      "source": [
        "candy.describe()"
      ],
      "execution_count": 0,
      "outputs": [
        {
          "output_type": "execute_result",
          "data": {
            "text/html": [
              "<div>\n",
              "<style scoped>\n",
              "    .dataframe tbody tr th:only-of-type {\n",
              "        vertical-align: middle;\n",
              "    }\n",
              "\n",
              "    .dataframe tbody tr th {\n",
              "        vertical-align: top;\n",
              "    }\n",
              "\n",
              "    .dataframe thead th {\n",
              "        text-align: right;\n",
              "    }\n",
              "</style>\n",
              "<table border=\"1\" class=\"dataframe\">\n",
              "  <thead>\n",
              "    <tr style=\"text-align: right;\">\n",
              "      <th></th>\n",
              "      <th>chocolate</th>\n",
              "      <th>fruity</th>\n",
              "      <th>caramel</th>\n",
              "      <th>peanutyalmondy</th>\n",
              "      <th>nougat</th>\n",
              "      <th>crispedricewafer</th>\n",
              "      <th>hard</th>\n",
              "      <th>bar</th>\n",
              "      <th>pluribus</th>\n",
              "      <th>sugarpercent</th>\n",
              "      <th>pricepercent</th>\n",
              "      <th>winpercent</th>\n",
              "    </tr>\n",
              "  </thead>\n",
              "  <tbody>\n",
              "    <tr>\n",
              "      <th>count</th>\n",
              "      <td>85.000000</td>\n",
              "      <td>85.000000</td>\n",
              "      <td>85.000000</td>\n",
              "      <td>85.000000</td>\n",
              "      <td>85.000000</td>\n",
              "      <td>85.000000</td>\n",
              "      <td>85.000000</td>\n",
              "      <td>85.000000</td>\n",
              "      <td>85.000000</td>\n",
              "      <td>85.000000</td>\n",
              "      <td>85.000000</td>\n",
              "      <td>85.000000</td>\n",
              "    </tr>\n",
              "    <tr>\n",
              "      <th>mean</th>\n",
              "      <td>0.435294</td>\n",
              "      <td>0.447059</td>\n",
              "      <td>0.164706</td>\n",
              "      <td>0.164706</td>\n",
              "      <td>0.082353</td>\n",
              "      <td>0.082353</td>\n",
              "      <td>0.176471</td>\n",
              "      <td>0.247059</td>\n",
              "      <td>0.517647</td>\n",
              "      <td>0.478647</td>\n",
              "      <td>0.468882</td>\n",
              "      <td>50.316764</td>\n",
              "    </tr>\n",
              "    <tr>\n",
              "      <th>std</th>\n",
              "      <td>0.498738</td>\n",
              "      <td>0.500140</td>\n",
              "      <td>0.373116</td>\n",
              "      <td>0.373116</td>\n",
              "      <td>0.276533</td>\n",
              "      <td>0.276533</td>\n",
              "      <td>0.383482</td>\n",
              "      <td>0.433861</td>\n",
              "      <td>0.502654</td>\n",
              "      <td>0.282778</td>\n",
              "      <td>0.285740</td>\n",
              "      <td>14.714357</td>\n",
              "    </tr>\n",
              "    <tr>\n",
              "      <th>min</th>\n",
              "      <td>0.000000</td>\n",
              "      <td>0.000000</td>\n",
              "      <td>0.000000</td>\n",
              "      <td>0.000000</td>\n",
              "      <td>0.000000</td>\n",
              "      <td>0.000000</td>\n",
              "      <td>0.000000</td>\n",
              "      <td>0.000000</td>\n",
              "      <td>0.000000</td>\n",
              "      <td>0.011000</td>\n",
              "      <td>0.011000</td>\n",
              "      <td>22.445341</td>\n",
              "    </tr>\n",
              "    <tr>\n",
              "      <th>25%</th>\n",
              "      <td>0.000000</td>\n",
              "      <td>0.000000</td>\n",
              "      <td>0.000000</td>\n",
              "      <td>0.000000</td>\n",
              "      <td>0.000000</td>\n",
              "      <td>0.000000</td>\n",
              "      <td>0.000000</td>\n",
              "      <td>0.000000</td>\n",
              "      <td>0.000000</td>\n",
              "      <td>0.220000</td>\n",
              "      <td>0.255000</td>\n",
              "      <td>39.141056</td>\n",
              "    </tr>\n",
              "    <tr>\n",
              "      <th>50%</th>\n",
              "      <td>0.000000</td>\n",
              "      <td>0.000000</td>\n",
              "      <td>0.000000</td>\n",
              "      <td>0.000000</td>\n",
              "      <td>0.000000</td>\n",
              "      <td>0.000000</td>\n",
              "      <td>0.000000</td>\n",
              "      <td>0.000000</td>\n",
              "      <td>1.000000</td>\n",
              "      <td>0.465000</td>\n",
              "      <td>0.465000</td>\n",
              "      <td>47.829754</td>\n",
              "    </tr>\n",
              "    <tr>\n",
              "      <th>75%</th>\n",
              "      <td>1.000000</td>\n",
              "      <td>1.000000</td>\n",
              "      <td>0.000000</td>\n",
              "      <td>0.000000</td>\n",
              "      <td>0.000000</td>\n",
              "      <td>0.000000</td>\n",
              "      <td>0.000000</td>\n",
              "      <td>0.000000</td>\n",
              "      <td>1.000000</td>\n",
              "      <td>0.732000</td>\n",
              "      <td>0.651000</td>\n",
              "      <td>59.863998</td>\n",
              "    </tr>\n",
              "    <tr>\n",
              "      <th>max</th>\n",
              "      <td>1.000000</td>\n",
              "      <td>1.000000</td>\n",
              "      <td>1.000000</td>\n",
              "      <td>1.000000</td>\n",
              "      <td>1.000000</td>\n",
              "      <td>1.000000</td>\n",
              "      <td>1.000000</td>\n",
              "      <td>1.000000</td>\n",
              "      <td>1.000000</td>\n",
              "      <td>0.988000</td>\n",
              "      <td>0.976000</td>\n",
              "      <td>84.180290</td>\n",
              "    </tr>\n",
              "  </tbody>\n",
              "</table>\n",
              "</div>"
            ],
            "text/plain": [
              "       chocolate     fruity    caramel  peanutyalmondy     nougat  \\\n",
              "count  85.000000  85.000000  85.000000       85.000000  85.000000   \n",
              "mean    0.435294   0.447059   0.164706        0.164706   0.082353   \n",
              "std     0.498738   0.500140   0.373116        0.373116   0.276533   \n",
              "min     0.000000   0.000000   0.000000        0.000000   0.000000   \n",
              "25%     0.000000   0.000000   0.000000        0.000000   0.000000   \n",
              "50%     0.000000   0.000000   0.000000        0.000000   0.000000   \n",
              "75%     1.000000   1.000000   0.000000        0.000000   0.000000   \n",
              "max     1.000000   1.000000   1.000000        1.000000   1.000000   \n",
              "\n",
              "       crispedricewafer       hard        bar   pluribus  sugarpercent  \\\n",
              "count         85.000000  85.000000  85.000000  85.000000     85.000000   \n",
              "mean           0.082353   0.176471   0.247059   0.517647      0.478647   \n",
              "std            0.276533   0.383482   0.433861   0.502654      0.282778   \n",
              "min            0.000000   0.000000   0.000000   0.000000      0.011000   \n",
              "25%            0.000000   0.000000   0.000000   0.000000      0.220000   \n",
              "50%            0.000000   0.000000   0.000000   1.000000      0.465000   \n",
              "75%            0.000000   0.000000   0.000000   1.000000      0.732000   \n",
              "max            1.000000   1.000000   1.000000   1.000000      0.988000   \n",
              "\n",
              "       pricepercent  winpercent  \n",
              "count     85.000000   85.000000  \n",
              "mean       0.468882   50.316764  \n",
              "std        0.285740   14.714357  \n",
              "min        0.011000   22.445341  \n",
              "25%        0.255000   39.141056  \n",
              "50%        0.465000   47.829754  \n",
              "75%        0.651000   59.863998  \n",
              "max        0.976000   84.180290  "
            ]
          },
          "metadata": {
            "tags": []
          },
          "execution_count": 5
        }
      ]
    },
    {
      "cell_type": "markdown",
      "metadata": {
        "colab_type": "text",
        "id": "1qOs2bqEItdb"
      },
      "source": [
        "What are the **features**?\n",
        "- Categorical : chocolate, fruity caramel, peanutyalmondy, nougat, crispedricewafer ,hard ,bar ,pluribus ,sugarpercent , pricepercent \t\n",
        "- Continous : sugarpercent, pricepercent\n",
        "\n",
        "\n",
        "What is the **target**?\n",
        "- winpercent: The overall win percentage"
      ]
    },
    {
      "cell_type": "code",
      "metadata": {
        "colab_type": "code",
        "id": "98znkBgBWWdk",
        "outputId": "1b4b8fe0-fba8-41ca-cdff-90a2dda7e9c2",
        "colab": {
          "base_uri": "https://localhost:8080/",
          "height": 255
        }
      },
      "source": [
        "candy.isnull().sum()"
      ],
      "execution_count": 0,
      "outputs": [
        {
          "output_type": "execute_result",
          "data": {
            "text/plain": [
              "competitorname      0\n",
              "chocolate           0\n",
              "fruity              0\n",
              "caramel             0\n",
              "peanutyalmondy      0\n",
              "nougat              0\n",
              "crispedricewafer    0\n",
              "hard                0\n",
              "bar                 0\n",
              "pluribus            0\n",
              "sugarpercent        0\n",
              "pricepercent        0\n",
              "winpercent          0\n",
              "dtype: int64"
            ]
          },
          "metadata": {
            "tags": []
          },
          "execution_count": 6
        }
      ]
    },
    {
      "cell_type": "markdown",
      "metadata": {
        "colab_type": "text",
        "id": "2eqycpUtItdb"
      },
      "source": [
        "__Distribution of Features__"
      ]
    },
    {
      "cell_type": "code",
      "metadata": {
        "colab_type": "code",
        "id": "--41rdX6Y8E1",
        "colab": {}
      },
      "source": [
        "import pandas_profiling\n",
        "profile = pandas_profiling.ProfileReport(candy)\n",
        "profile.to_file(outputfile=\"candy_profile.html\")"
      ],
      "execution_count": 0,
      "outputs": []
    },
    {
      "cell_type": "markdown",
      "metadata": {
        "id": "8-_G4WR7Sd8V",
        "colab_type": "text"
      },
      "source": [
        "__There are no features with 0 and null values__ . __No Pre-processing required__."
      ]
    },
    {
      "cell_type": "markdown",
      "metadata": {
        "id": "Qbp9DZsDSd8W",
        "colab_type": "text"
      },
      "source": [
        "### Calculating and plotting heatmap correlation"
      ]
    },
    {
      "cell_type": "code",
      "metadata": {
        "id": "HqWIOrdcSd8W",
        "colab_type": "code",
        "colab": {},
        "outputId": "7d478f1d-a2e1-4789-de00-251d7a21a56d"
      },
      "source": [
        "# HeatMap\n",
        "plt.figure(figsize=(10,10))\n",
        "sns.heatmap(candy.corr(), vmax=.8,linewidth=.01, square = True, annot = True,cmap='YlGnBu',linecolor ='black')\n",
        "plt.title('Correlation between features')"
      ],
      "execution_count": 0,
      "outputs": [
        {
          "output_type": "execute_result",
          "data": {
            "text/plain": [
              "Text(0.5, 1.0, 'Correlation between features')"
            ]
          },
          "metadata": {
            "tags": []
          },
          "execution_count": 8
        },
        {
          "output_type": "display_data",
          "data": {
            "image/png": "[encoded data removed]",
            "text/plain": [
              "<Figure size 720x720 with 2 Axes>"
            ]
          },
          "metadata": {
            "tags": [],
            "needs_background": "light"
          }
        }
      ]
    },
    {
      "cell_type": "markdown",
      "metadata": {
        "colab_type": "text",
        "id": "ytE0wwgyItdp"
      },
      "source": [
        "__Observation__\n",
        "\n",
        "- Chocolate flavor and bar type it has higher corelaion with winpercent.\n",
        "- If its chocolate flovor then it is most likly a bar.\n",
        "- Chocolate bar has higher pricepercent.\n",
        "- If it is Chocolate bar the chance of it being hard is unlikely. High Negetive corelation.\n",
        "- If it is chocolate or bar, its not fruity.\n",
        "- If it is Fruity flavor winpercent goes down.\n",
        "- If it is Fruity flavor price goes down.\n",
        "- Caramel does not make much difference to winpercent.\n",
        "- peanutyalmondy has positive corelation with winprecent.\n",
        "- hard candies have negetive corelation with winpercent.\n",
        "- pluribus does not make difference to winpercent.\n",
        "- pricepercent has little positive corelation with winpercent. "
      ]
    },
    {
      "cell_type": "markdown",
      "metadata": {
        "colab_type": "text",
        "id": "8LrP8tUJItd2"
      },
      "source": [
        "<a id=section4></a>"
      ]
    },
    {
      "cell_type": "markdown",
      "metadata": {
        "colab_type": "text",
        "id": "Crbv487mItd4"
      },
      "source": [
        "<a id=section401></a>"
      ]
    },
    {
      "cell_type": "markdown",
      "metadata": {
        "colab_type": "text",
        "id": "qThyhyxlItd9"
      },
      "source": [
        "## 4. Regression <a id=section402></a>"
      ]
    },
    {
      "cell_type": "markdown",
      "metadata": {
        "colab_type": "text",
        "id": "HzjUl5N-Itd9"
      },
      "source": [
        "### 4.1 Preparing X and y using pandas"
      ]
    },
    {
      "cell_type": "code",
      "metadata": {
        "id": "BumOQ9LQSd8c",
        "colab_type": "code",
        "colab": {},
        "outputId": "d63bd73a-465c-4456-edd5-72f8ac8e8288"
      },
      "source": [
        "# Output variable y\n",
        "y = candy['winpercent']\n",
        "y.head()"
      ],
      "execution_count": 0,
      "outputs": [
        {
          "output_type": "execute_result",
          "data": {
            "text/plain": [
              "0    66.971725\n",
              "1    67.602936\n",
              "2    32.261086\n",
              "3    46.116505\n",
              "4    52.341465\n",
              "Name: winpercent, dtype: float64"
            ]
          },
          "metadata": {
            "tags": []
          },
          "execution_count": 10
        }
      ]
    },
    {
      "cell_type": "code",
      "metadata": {
        "id": "3M_O-yO-Sd8f",
        "colab_type": "code",
        "colab": {}
      },
      "source": [
        "def lin_reg(X,y):\n",
        "    from sklearn.model_selection import train_test_split\n",
        "    X_train, X_test, y_train, y_test = train_test_split(X, y, test_size=0.15, random_state=1)\n",
        "    print('Train cases as below')\n",
        "    print('X_train shape: ',X_train.shape)\n",
        "    print('y_train shape: ',y_train.shape)\n",
        "    print('\\nTest cases as below')\n",
        "    print('X_test shape: ',X_test.shape)\n",
        "    print('y_test shape: ',y_test.shape)  \n",
        "    print('\\n')\n",
        "\n",
        "    from sklearn.linear_model import LinearRegression\n",
        "    linreg = LinearRegression()\n",
        "    linreg.fit(X_train, y_train) \n",
        "    y_pred_test = linreg.predict(X_test) \n",
        "    y_pred_train = linreg.predict(X_train) \n",
        "    RMSE_train = np.sqrt( metrics.mean_squared_error(y_train, y_pred_train))\n",
        "    RMSE_test = np.sqrt(metrics.mean_squared_error(y_test, y_pred_test))\n",
        "    print('RMSE for training set is {}'.format(RMSE_train))\n",
        "    print('RMSE for test set is {}'.format(RMSE_test))\n",
        "    print('\\n')\n",
        "    from sklearn.metrics import r2_score\n",
        "    R2_test = r2_score(y_test, y_pred_test)\n",
        "    R2_train = r2_score(y_train, y_pred_train)\n",
        "    print('R-Square for training set is {}'.format(R2_train))\n",
        "    print('R-Square  for test set is {}'.format(R2_test))\n",
        "    print('\\n')\n",
        "    adjusted_r_squared = 1 - (1-R2_test)*(len(y)-1)/(len(y)-X.shape[1]-1)\n",
        "    t_adjusted_r_squared = 1 - (1-R2_train)*(len(y)-1)/(len(y)-X.shape[1]-1)\n",
        "    print('Adjusted R-Square for test set is {}'.format(adjusted_r_squared))\n",
        "    print('Adjusted R-Square  for training set is {}'.format(t_adjusted_r_squared))\n",
        "    print('\\n')\n",
        "\n",
        "    print('Intercept:',linreg.intercept_)          # print the intercept \n",
        "    print('Coefficients:',linreg.coef_)  \n",
        "    print('\\n')\n",
        "\n",
        "    fcols = X.columns.tolist()\n",
        "    fcols.insert(0,'Intercept')\n",
        "    coef = linreg.coef_.tolist()            \n",
        "    coef.insert(0, linreg.intercept_)  \n",
        "\n",
        "    eq1 = zip(fcols, coef)\n",
        "\n",
        "    for c1,c2 in eq1:\n",
        "        print(c1,c2)"
      ],
      "execution_count": 0,
      "outputs": []
    },
    {
      "cell_type": "markdown",
      "metadata": {
        "id": "UiSmSHdkSd8h",
        "colab_type": "text"
      },
      "source": [
        "### 4.2 Run linear regression"
      ]
    },
    {
      "cell_type": "code",
      "metadata": {
        "id": "mn_z_9ImSd8i",
        "colab_type": "code",
        "colab": {},
        "outputId": "b249b636-6224-4f19-b411-22b5c79b7367"
      },
      "source": [
        "# Ignoring 'competitorname', fruity','nougat','pluribus','sugarpercent','crispedricewafer'\n",
        "X = candy.drop(['winpercent','fruity','competitorname','nougat','pluribus','sugarpercent','crispedricewafer'],axis=1)\n",
        "X.head()\n",
        "lin_reg(X,y)"
      ],
      "execution_count": 0,
      "outputs": [
        {
          "output_type": "stream",
          "text": [
            "Train cases as below\n",
            "X_train shape:  (72, 6)\n",
            "y_train shape:  (72,)\n",
            "\n",
            "Test cases as below\n",
            "X_test shape:  (13, 6)\n",
            "y_test shape:  (13,)\n",
            "\n",
            "\n",
            "RMSE for training set is 11.113762215540678\n",
            "RMSE for test set is 9.869814661220241\n",
            "\n",
            "\n",
            "R-Square for training set is 0.4209937243192907\n",
            "R-Square  for test set is 0.5465405090456457\n",
            "\n",
            "\n",
            "Adjusted R-Square for test set is 0.5116590097414646\n",
            "Adjusted R-Square  for training set is 0.3764547800361593\n",
            "\n",
            "\n",
            "Intercept: 42.38022622569662\n",
            "Coefficients: [13.48724176 -0.49624696  7.92216801 -3.30679664  1.76955     2.0825304 ]\n",
            "\n",
            "\n",
            "Intercept 42.38022622569662\n",
            "chocolate 13.487241759533651\n",
            "caramel -0.49624695939803015\n",
            "peanutyalmondy 7.922168014552897\n",
            "hard -3.306796635815413\n",
            "bar 1.7695499998099438\n",
            "pricepercent 2.0825303973883362\n"
          ],
          "name": "stdout"
        }
      ]
    },
    {
      "cell_type": "markdown",
      "metadata": {
        "id": "rQ-mqKeASd8m",
        "colab_type": "text"
      },
      "source": [
        "- __Adjusted R-square__ explains __51%__ of variance \n",
        "- Candies which contains __chocolate__ has a coeffient of 13.48 which is highest; compared to candies with __no chocolate__ chocolate clearly wins.\n",
        "- Candies which contains __peanutyalmondy__ has a coeffient of 7.92 which is highest; compared to candies with __no __peanutyalmondy__ peanutyalmondy clearly wins.\n",
        "- __candies with Caramel,Hard__ reduces winpercent little bit.\n",
        "- __Bar, priceprecent__ does have mild impact on winpercent."
      ]
    },
    {
      "cell_type": "markdown",
      "metadata": {
        "id": "aB7hoSe0Sd8n",
        "colab_type": "text"
      },
      "source": [
        "### Check for __chocolate__ __peanutyalmondy__"
      ]
    },
    {
      "cell_type": "code",
      "metadata": {
        "id": "EJYfFjfYSd8p",
        "colab_type": "code",
        "colab": {},
        "outputId": "db404d2d-e2c9-4e20-9275-c9694f5007e7"
      },
      "source": [
        "X = candy.drop(['winpercent','fruity','competitorname','nougat','pluribus','sugarpercent','caramel','pricepercent','hard','bar','crispedricewafer'],axis=1)\n",
        "X.head()\n",
        "lin_reg(X,y)"
      ],
      "execution_count": 0,
      "outputs": [
        {
          "output_type": "stream",
          "text": [
            "Train cases as below\n",
            "X_train shape:  (72, 2)\n",
            "y_train shape:  (72,)\n",
            "\n",
            "Test cases as below\n",
            "X_test shape:  (13, 2)\n",
            "y_test shape:  (13,)\n",
            "\n",
            "\n",
            "RMSE for training set is 11.221208285009476\n",
            "RMSE for test set is 9.577398742049143\n",
            "\n",
            "\n",
            "R-Square for training set is 0.40974412677090355\n",
            "R-Square  for test set is 0.5730120298969793\n",
            "\n",
            "\n",
            "Adjusted R-Square for test set is 0.5625976891627593\n",
            "Adjusted R-Square  for training set is 0.39534764205799877\n",
            "\n",
            "\n",
            "Intercept: 42.138983361111116\n",
            "Coefficients: [15.55127107  8.55149692]\n",
            "\n",
            "\n",
            "Intercept 42.138983361111116\n",
            "chocolate 15.551271066666676\n",
            "peanutyalmondy 8.551496916666672\n"
          ],
          "name": "stdout"
        }
      ]
    },
    {
      "cell_type": "markdown",
      "metadata": {
        "id": "R9MjDZENSd8s",
        "colab_type": "text"
      },
      "source": [
        "- __Adjusted R-square__ explains __56%__ of variance \n",
        "- Candies which contains __chocolate__ contibutes to winpercent upto 15.55 points of winpercent compared to candies with __no chocolate__\n",
        "- Candies which contains __peanutyalmondy__ contibutes to winpercent upto 8.55 points of winpercent compared to candies with __no peanutyalmondy__\n"
      ]
    }
  ]
}