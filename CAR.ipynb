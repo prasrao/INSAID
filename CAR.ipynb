{
 "cells": [
  {
   "cell_type": "markdown",
   "metadata": {},
   "source": [
    "# Exploratory Data Analysis - Cars"
   ]
  },
  {
   "cell_type": "markdown",
   "metadata": {},
   "source": [
    "## Table of Contents\n",
    "\n",
    "1. [Problem Statement](#section1)<br>\n",
    "2. [Data Loading and Description](#section2)\n",
    "3. [Data Profiling](#section3)\n",
    "    - 3.1 [Understanding the Dataset](#section301)<br/>\n",
    "    - 3.2 [Pre Profiling](#section302)<br/>\n",
    "    - 3.3 [Preprocessing](#section303)<br/>\n",
    "      - Dealing with missing/erronous values<br/>\n",
    "        - [3.3.1 Dropping 113 duplicate rows.](#section303_1)<br>\n",
    "        - [3.3.2 Replacing missing values of __drive__.](#section303_2)<br>\n",
    "        - [3.3.3 Replacing missing values of __engType__.](#section303_3)<br>\n",
    "        - [3.3.4 Replacing missing and erronous values for __engV__.](#section303_4)<br>\n",
    "        - [3.3.5 Replacing missing and erronous values for __mileage__.](#section303_5)<br>\n",
    "        - [3.3.6 Replacing missing and erronous values for __price__.](#section303_6)<br>\n",
    "    - 3.4 [Post Profiling](#section304)<br/>\n",
    "4. [Observations and Questions](#section4)\n",
    "    - 4.1 [Which brand of cars are most available/sold in this market? ](#section401)<br/>\n",
    "    - 4.2 [What is the market share of car brands in this market based on volume and revenue?](#section402)<br/>\n",
    "    - 4.3 [Which are the top 5 most available/sold car models in this market?](#section403)<br/>\n",
    "    - 4.4 [Out of the top 5 brand of cars, Which are the top 5 models most available/sold in this market?](#section404)<br/>\n",
    "    - 4.5 [Volkswagen is the top car, why does'nt any of its models list in the top 5 models ? ](#section405)<br/>\n",
    "    - 4.6 [Which cars are very rarely available/sold in this market ?](#section406)<br/>\n",
    "    - 4.7 [Which are the top 5 most expensive car models available/sold in this market ?](#section407)<br/>\n",
    "    - 4.8 [Which are the top 5 most cheap car models available/sold in this market ?](#section408)<br/>\n",
    "    - 4.9 [Which are the most and least available/sold/preferred car body type in this market ?](#section409)<br/>\n",
    "    - 4.10 [Which are the most and least available/sold/preferred car engine type in this market ?](#section410)<br/>\n",
    "    - 4.11 [How is the car engine type distributed in each body type ?](#section411)<br/>\n",
    "    - 4.12 [engine type and engV vs price, which kind of engine is more expensive ? ](#section412)<br/>\n",
    "    - 4.13 [engine type and engV vs mileage, which kind of engine has best mileage ?](#section413)<br/>\n",
    "    - 4.14 [body vs mileage, which kind of body has best mileage ?](#section414)<br/>\n",
    "    - 4.15 [Which year cars are most available/sold and what is their registration status ?](#section415)<br/>\n",
    "    - 4.16 [What is the price range of cars based on the year of manufacturing and drive type?](#section416)<br/>\n",
    "    - 4.17 [How are engine types distributed based on engine volume?](#section417)<br/>\n",
    "    - 4.18 [Establish correlation between all the features using heatmap.](#section418)<br/>\n",
    "5. [Conclusions/Summary](#section5)<br/>  "
   ]
  },
  {
   "cell_type": "markdown",
   "metadata": {},
   "source": [
    "## 1. Problem Statement                                                                          <a id='section1'></a>"
   ]
  },
  {
   "cell_type": "markdown",
   "metadata": {},
   "source": [
    "The notebooks explores the basic use of __Pandas__ and will cover the basic commands of __Exploratory Data Analysis(EDA)__ which includes __cleaning__, __munging__, __combining__, __reshaping__, __slicing__, __dicing__, and __transforming data__ for analysis purpose.\n",
    "\n",
    "* __Exploratory Data Analysis__ <br/>\n",
    "Understand the data by EDA and derive simple models with Pandas as baseline.\n",
    "EDA ia a critical and first step in analyzing the data and we do this for below reasons :\n",
    "    - Finding patterns in Data\n",
    "    - Determining relationships in Data\n",
    "    - Checking of assumptions\n",
    "    - Preliminary selection of appropriate models\n",
    "    - Detection of mistakes \n",
    "\n"
   ]
  },
  {
   "cell_type": "markdown",
   "metadata": {},
   "source": [
    "## 2. Data Loading and Description                                                                                          <a id='section2'></a>"
   ]
  },
  {
   "cell_type": "markdown",
   "metadata": {
    "slideshow": {
     "slide_type": "slide"
    }
   },
   "source": [
    "* The dataset consists information collected from used car advertisements.\n",
    "* The dataset comprises of 9576 observations of 10 columns.\n",
    "* Below is a table showing names of all the columns and their description."
   ]
  },
  {
   "cell_type": "markdown",
   "metadata": {
    "slideshow": {
     "slide_type": "slide"
    }
   },
   "source": [
    "\n",
    "<table>\n",
    "<thead>\n",
    "    <style>\n",
    "td {\n",
    "  text-align: center;\n",
    "}\n",
    "</style>\n",
    "<tr>\n",
    "<th>Column Name</th>\n",
    "<th>Description</th>\n",
    "</tr>\n",
    "</thead>\n",
    "<tbody><tr>\n",
    "<td>car</td>\n",
    "<td>Manufacturer brand</td>\n",
    "</tr>\n",
    "<tr>\n",
    "<td>price</td>\n",
    "<td>Seller’s price in advertisement (in USD)</td>\n",
    "</tr>\n",
    "<tr>\n",
    "<td>body</td>\n",
    "<td>Car body type</td>\n",
    "</tr>\n",
    "<tr>\n",
    "<td>mileage</td>\n",
    "<td>as mentioned in advertisement (‘000 Km)</td>\n",
    "</tr>\n",
    "<tr>\n",
    "<td>engV</td>\n",
    "<td>rounded engine volume (‘000 cubic cm)</td>\n",
    "</tr>\n",
    "<tr>\n",
    "<td>engType</td>\n",
    "<td>Engine type based on type of fuel </td>\n",
    "</tr>\n",
    "<tr>\n",
    "<td>registration</td>\n",
    "<td>whether car registered or not</td>\n",
    "</tr>\n",
    "<tr>\n",
    "<td>year</td>\n",
    "<td>year of production</td>\n",
    "</tr>\n",
    "<tr>\n",
    "<td>model</td>\n",
    "<td>specific model name</td>\n",
    "</tr>\n",
    "<tr>\n",
    "<td>drive</td>\n",
    "<td>drive type</td>\n",
    "</tr>\n",
    "</tbody></table>"
   ]
  },
  {
   "cell_type": "markdown",
   "metadata": {
    "slideshow": {
     "slide_type": "subslide"
    }
   },
   "source": [
    "#### Some Background Information\n",
    " - This data was collected from private car sale advertisements in Ukraine to perform Exploratory Data Analysis.\n",
    " - This dataset has real raw data which may need treatment.\n",
    " - This dataset contains data for more than 9.5K cars sale advertisements in Ukraine.\n",
    " - This data opens the possibility to analyze the market related to car sales."
   ]
  },
  {
   "cell_type": "markdown",
   "metadata": {},
   "source": [
    "#### Import all required packages"
   ]
  },
  {
   "cell_type": "code",
   "execution_count": 1,
   "metadata": {},
   "outputs": [],
   "source": [
    "import pandas as pd\n",
    "import numpy as np\n",
    "import seaborn as sns\n",
    "import matplotlib as mat\n",
    "import matplotlib.pyplot as plt\n",
    "import bokeh\n",
    "import pandas_profiling\n",
    "%matplotlib inline\n",
    "from subprocess import check_output"
   ]
  },
  {
   "cell_type": "markdown",
   "metadata": {},
   "source": [
    "#### Import data as pandas data frame object"
   ]
  },
  {
   "cell_type": "code",
   "execution_count": 2,
   "metadata": {},
   "outputs": [],
   "source": [
    "car_df = pd.read_csv('https://raw.githubusercontent.com/insaid2018/Term-1/master/Data/Projects/car_sales.csv',encoding='latin-1')"
   ]
  },
  {
   "cell_type": "markdown",
   "metadata": {},
   "source": [
    "## 3. Data Profiling <a id='section3'></a>"
   ]
  },
  {
   "cell_type": "markdown",
   "metadata": {},
   "source": [
    "- The upcoming sections the focus will be on, first to __understand the dataset__ .\n",
    "- The __pre-profiling__ steps with the help of __pandas profiling__,deals with analyzing which columns of the dataset need processing.\n",
    "- The __pre-processing__ step deals with correcting the erronous and missing values of columns. \n",
    "- Finally __post-profiling__ using __pandas profiling__ to see how processing step has transformed the dataset."
   ]
  },
  {
   "cell_type": "markdown",
   "metadata": {},
   "source": [
    "### 3.1 Understanding the Dataset             <a id='section301'></a>"
   ]
  },
  {
   "cell_type": "markdown",
   "metadata": {},
   "source": [
    "To gain insights from data,each aspect of the data set should very carefully analyzed.<br/>\n",
    "For example, start with observing the shape of the data set,the number of columns,rows, the summary stats of the columns, first and last few rows."
   ]
  },
  {
   "cell_type": "code",
   "execution_count": 3,
   "metadata": {},
   "outputs": [
    {
     "name": "stdout",
     "output_type": "stream",
     "text": [
      "The cars data set has 9576 observations for 10 variables, in other words 9576 rows and 10 columns.\n"
     ]
    }
   ],
   "source": [
    "print('The cars data set has {0} observations for {1} variables, in other words {0} rows and {1} columns.'.format(car_df.shape[0],car_df.shape[1]))"
   ]
  },
  {
   "cell_type": "code",
   "execution_count": 4,
   "metadata": {},
   "outputs": [
    {
     "name": "stdout",
     "output_type": "stream",
     "text": [
      "The columns in the data set are:\n",
      " ['car' 'price' 'body' 'mileage' 'engV' 'engType' 'registration' 'year'\n",
      " 'model' 'drive']\n"
     ]
    }
   ],
   "source": [
    "print('The columns in the data set are:\\n',car_df.columns.values)"
   ]
  },
  {
   "cell_type": "code",
   "execution_count": 5,
   "metadata": {},
   "outputs": [
    {
     "name": "stdout",
     "output_type": "stream",
     "text": [
      "The first five rows of the data set looks like below:\n"
     ]
    },
    {
     "data": {
      "text/html": [
       "<div>\n",
       "<style scoped>\n",
       "    .dataframe tbody tr th:only-of-type {\n",
       "        vertical-align: middle;\n",
       "    }\n",
       "\n",
       "    .dataframe tbody tr th {\n",
       "        vertical-align: top;\n",
       "    }\n",
       "\n",
       "    .dataframe thead th {\n",
       "        text-align: right;\n",
       "    }\n",
       "</style>\n",
       "<table border=\"1\" class=\"dataframe\">\n",
       "  <thead>\n",
       "    <tr style=\"text-align: right;\">\n",
       "      <th></th>\n",
       "      <th>car</th>\n",
       "      <th>price</th>\n",
       "      <th>body</th>\n",
       "      <th>mileage</th>\n",
       "      <th>engV</th>\n",
       "      <th>engType</th>\n",
       "      <th>registration</th>\n",
       "      <th>year</th>\n",
       "      <th>model</th>\n",
       "      <th>drive</th>\n",
       "    </tr>\n",
       "  </thead>\n",
       "  <tbody>\n",
       "    <tr>\n",
       "      <th>0</th>\n",
       "      <td>Ford</td>\n",
       "      <td>15500.0</td>\n",
       "      <td>crossover</td>\n",
       "      <td>68</td>\n",
       "      <td>2.5</td>\n",
       "      <td>Gas</td>\n",
       "      <td>yes</td>\n",
       "      <td>2010</td>\n",
       "      <td>Kuga</td>\n",
       "      <td>full</td>\n",
       "    </tr>\n",
       "    <tr>\n",
       "      <th>1</th>\n",
       "      <td>Mercedes-Benz</td>\n",
       "      <td>20500.0</td>\n",
       "      <td>sedan</td>\n",
       "      <td>173</td>\n",
       "      <td>1.8</td>\n",
       "      <td>Gas</td>\n",
       "      <td>yes</td>\n",
       "      <td>2011</td>\n",
       "      <td>E-Class</td>\n",
       "      <td>rear</td>\n",
       "    </tr>\n",
       "    <tr>\n",
       "      <th>2</th>\n",
       "      <td>Mercedes-Benz</td>\n",
       "      <td>35000.0</td>\n",
       "      <td>other</td>\n",
       "      <td>135</td>\n",
       "      <td>5.5</td>\n",
       "      <td>Petrol</td>\n",
       "      <td>yes</td>\n",
       "      <td>2008</td>\n",
       "      <td>CL 550</td>\n",
       "      <td>rear</td>\n",
       "    </tr>\n",
       "    <tr>\n",
       "      <th>3</th>\n",
       "      <td>Mercedes-Benz</td>\n",
       "      <td>17800.0</td>\n",
       "      <td>van</td>\n",
       "      <td>162</td>\n",
       "      <td>1.8</td>\n",
       "      <td>Diesel</td>\n",
       "      <td>yes</td>\n",
       "      <td>2012</td>\n",
       "      <td>B 180</td>\n",
       "      <td>front</td>\n",
       "    </tr>\n",
       "    <tr>\n",
       "      <th>4</th>\n",
       "      <td>Mercedes-Benz</td>\n",
       "      <td>33000.0</td>\n",
       "      <td>vagon</td>\n",
       "      <td>91</td>\n",
       "      <td>NaN</td>\n",
       "      <td>Other</td>\n",
       "      <td>yes</td>\n",
       "      <td>2013</td>\n",
       "      <td>E-Class</td>\n",
       "      <td>NaN</td>\n",
       "    </tr>\n",
       "  </tbody>\n",
       "</table>\n",
       "</div>"
      ],
      "text/plain": [
       "             car    price       body  mileage  engV engType registration  \\\n",
       "0           Ford  15500.0  crossover       68   2.5     Gas          yes   \n",
       "1  Mercedes-Benz  20500.0      sedan      173   1.8     Gas          yes   \n",
       "2  Mercedes-Benz  35000.0      other      135   5.5  Petrol          yes   \n",
       "3  Mercedes-Benz  17800.0        van      162   1.8  Diesel          yes   \n",
       "4  Mercedes-Benz  33000.0      vagon       91   NaN   Other          yes   \n",
       "\n",
       "   year    model  drive  \n",
       "0  2010     Kuga   full  \n",
       "1  2011  E-Class   rear  \n",
       "2  2008   CL 550   rear  \n",
       "3  2012    B 180  front  \n",
       "4  2013  E-Class    NaN  "
      ]
     },
     "execution_count": 5,
     "metadata": {},
     "output_type": "execute_result"
    }
   ],
   "source": [
    "print('The first five rows of the data set looks like below:')\n",
    "car_df.head(5)"
   ]
  },
  {
   "cell_type": "code",
   "execution_count": 6,
   "metadata": {},
   "outputs": [
    {
     "name": "stdout",
     "output_type": "stream",
     "text": [
      "The last five rows of the data set looks like below:\n"
     ]
    },
    {
     "data": {
      "text/html": [
       "<div>\n",
       "<style scoped>\n",
       "    .dataframe tbody tr th:only-of-type {\n",
       "        vertical-align: middle;\n",
       "    }\n",
       "\n",
       "    .dataframe tbody tr th {\n",
       "        vertical-align: top;\n",
       "    }\n",
       "\n",
       "    .dataframe thead th {\n",
       "        text-align: right;\n",
       "    }\n",
       "</style>\n",
       "<table border=\"1\" class=\"dataframe\">\n",
       "  <thead>\n",
       "    <tr style=\"text-align: right;\">\n",
       "      <th></th>\n",
       "      <th>car</th>\n",
       "      <th>price</th>\n",
       "      <th>body</th>\n",
       "      <th>mileage</th>\n",
       "      <th>engV</th>\n",
       "      <th>engType</th>\n",
       "      <th>registration</th>\n",
       "      <th>year</th>\n",
       "      <th>model</th>\n",
       "      <th>drive</th>\n",
       "    </tr>\n",
       "  </thead>\n",
       "  <tbody>\n",
       "    <tr>\n",
       "      <th>9571</th>\n",
       "      <td>Hyundai</td>\n",
       "      <td>14500.0</td>\n",
       "      <td>crossover</td>\n",
       "      <td>140</td>\n",
       "      <td>2.0</td>\n",
       "      <td>Gas</td>\n",
       "      <td>yes</td>\n",
       "      <td>2011</td>\n",
       "      <td>Tucson</td>\n",
       "      <td>front</td>\n",
       "    </tr>\n",
       "    <tr>\n",
       "      <th>9572</th>\n",
       "      <td>Volkswagen</td>\n",
       "      <td>2200.0</td>\n",
       "      <td>vagon</td>\n",
       "      <td>150</td>\n",
       "      <td>1.6</td>\n",
       "      <td>Petrol</td>\n",
       "      <td>yes</td>\n",
       "      <td>1986</td>\n",
       "      <td>Passat B2</td>\n",
       "      <td>front</td>\n",
       "    </tr>\n",
       "    <tr>\n",
       "      <th>9573</th>\n",
       "      <td>Mercedes-Benz</td>\n",
       "      <td>18500.0</td>\n",
       "      <td>crossover</td>\n",
       "      <td>180</td>\n",
       "      <td>3.5</td>\n",
       "      <td>Petrol</td>\n",
       "      <td>yes</td>\n",
       "      <td>2008</td>\n",
       "      <td>ML 350</td>\n",
       "      <td>full</td>\n",
       "    </tr>\n",
       "    <tr>\n",
       "      <th>9574</th>\n",
       "      <td>Lexus</td>\n",
       "      <td>16999.0</td>\n",
       "      <td>sedan</td>\n",
       "      <td>150</td>\n",
       "      <td>3.5</td>\n",
       "      <td>Gas</td>\n",
       "      <td>yes</td>\n",
       "      <td>2008</td>\n",
       "      <td>ES 350</td>\n",
       "      <td>front</td>\n",
       "    </tr>\n",
       "    <tr>\n",
       "      <th>9575</th>\n",
       "      <td>Audi</td>\n",
       "      <td>22500.0</td>\n",
       "      <td>other</td>\n",
       "      <td>71</td>\n",
       "      <td>3.6</td>\n",
       "      <td>Petrol</td>\n",
       "      <td>yes</td>\n",
       "      <td>2007</td>\n",
       "      <td>Q7</td>\n",
       "      <td>full</td>\n",
       "    </tr>\n",
       "  </tbody>\n",
       "</table>\n",
       "</div>"
      ],
      "text/plain": [
       "                car    price       body  mileage  engV engType registration  \\\n",
       "9571        Hyundai  14500.0  crossover      140   2.0     Gas          yes   \n",
       "9572     Volkswagen   2200.0      vagon      150   1.6  Petrol          yes   \n",
       "9573  Mercedes-Benz  18500.0  crossover      180   3.5  Petrol          yes   \n",
       "9574          Lexus  16999.0      sedan      150   3.5     Gas          yes   \n",
       "9575           Audi  22500.0      other       71   3.6  Petrol          yes   \n",
       "\n",
       "      year      model  drive  \n",
       "9571  2011     Tucson  front  \n",
       "9572  1986  Passat B2  front  \n",
       "9573  2008     ML 350   full  \n",
       "9574  2008     ES 350  front  \n",
       "9575  2007         Q7   full  "
      ]
     },
     "execution_count": 6,
     "metadata": {},
     "output_type": "execute_result"
    }
   ],
   "source": [
    "print('The last five rows of the data set looks like below:')\n",
    "car_df.tail(5)"
   ]
  },
  {
   "cell_type": "code",
   "execution_count": 7,
   "metadata": {},
   "outputs": [
    {
     "name": "stdout",
     "output_type": "stream",
     "text": [
      "<class 'pandas.core.frame.DataFrame'>\n",
      "RangeIndex: 9576 entries, 0 to 9575\n",
      "Data columns (total 10 columns):\n",
      "car             9576 non-null object\n",
      "price           9576 non-null float64\n",
      "body            9576 non-null object\n",
      "mileage         9576 non-null int64\n",
      "engV            9142 non-null float64\n",
      "engType         9576 non-null object\n",
      "registration    9576 non-null object\n",
      "year            9576 non-null int64\n",
      "model           9576 non-null object\n",
      "drive           9065 non-null object\n",
      "dtypes: float64(2), int64(2), object(6)\n",
      "memory usage: 748.2+ KB\n"
     ]
    }
   ],
   "source": [
    "car_df.info()"
   ]
  },
  {
   "cell_type": "markdown",
   "metadata": {},
   "source": [
    "The following observations can be made with first level information of the data set:\n",
    "* There are 10 columns,9576 rows.\n",
    "* The columns engV and drive has 9142 and 9065 rows respectively.This means some data is missing for these columns.\n",
    "* There are 4 columns with numeric data and remaining 6 columns are catagorical data.\n",
    "* The columns price and engV are float data type.\n",
    "* The columns mileage and year are integer data type."
   ]
  },
  {
   "cell_type": "code",
   "execution_count": 8,
   "metadata": {},
   "outputs": [
    {
     "data": {
      "text/html": [
       "<div>\n",
       "<style scoped>\n",
       "    .dataframe tbody tr th:only-of-type {\n",
       "        vertical-align: middle;\n",
       "    }\n",
       "\n",
       "    .dataframe tbody tr th {\n",
       "        vertical-align: top;\n",
       "    }\n",
       "\n",
       "    .dataframe thead th {\n",
       "        text-align: right;\n",
       "    }\n",
       "</style>\n",
       "<table border=\"1\" class=\"dataframe\">\n",
       "  <thead>\n",
       "    <tr style=\"text-align: right;\">\n",
       "      <th></th>\n",
       "      <th>car</th>\n",
       "      <th>price</th>\n",
       "      <th>body</th>\n",
       "      <th>mileage</th>\n",
       "      <th>engV</th>\n",
       "      <th>engType</th>\n",
       "      <th>registration</th>\n",
       "      <th>year</th>\n",
       "      <th>model</th>\n",
       "      <th>drive</th>\n",
       "    </tr>\n",
       "  </thead>\n",
       "  <tbody>\n",
       "    <tr>\n",
       "      <th>count</th>\n",
       "      <td>9576</td>\n",
       "      <td>9576.000000</td>\n",
       "      <td>9576</td>\n",
       "      <td>9576.000000</td>\n",
       "      <td>9142.000000</td>\n",
       "      <td>9576</td>\n",
       "      <td>9576</td>\n",
       "      <td>9576.000000</td>\n",
       "      <td>9576</td>\n",
       "      <td>9065</td>\n",
       "    </tr>\n",
       "    <tr>\n",
       "      <th>unique</th>\n",
       "      <td>87</td>\n",
       "      <td>NaN</td>\n",
       "      <td>6</td>\n",
       "      <td>NaN</td>\n",
       "      <td>NaN</td>\n",
       "      <td>4</td>\n",
       "      <td>2</td>\n",
       "      <td>NaN</td>\n",
       "      <td>888</td>\n",
       "      <td>3</td>\n",
       "    </tr>\n",
       "    <tr>\n",
       "      <th>top</th>\n",
       "      <td>Volkswagen</td>\n",
       "      <td>NaN</td>\n",
       "      <td>sedan</td>\n",
       "      <td>NaN</td>\n",
       "      <td>NaN</td>\n",
       "      <td>Petrol</td>\n",
       "      <td>yes</td>\n",
       "      <td>NaN</td>\n",
       "      <td>E-Class</td>\n",
       "      <td>front</td>\n",
       "    </tr>\n",
       "    <tr>\n",
       "      <th>freq</th>\n",
       "      <td>936</td>\n",
       "      <td>NaN</td>\n",
       "      <td>3646</td>\n",
       "      <td>NaN</td>\n",
       "      <td>NaN</td>\n",
       "      <td>4379</td>\n",
       "      <td>9015</td>\n",
       "      <td>NaN</td>\n",
       "      <td>199</td>\n",
       "      <td>5188</td>\n",
       "    </tr>\n",
       "    <tr>\n",
       "      <th>mean</th>\n",
       "      <td>NaN</td>\n",
       "      <td>15633.317316</td>\n",
       "      <td>NaN</td>\n",
       "      <td>138.862364</td>\n",
       "      <td>2.646344</td>\n",
       "      <td>NaN</td>\n",
       "      <td>NaN</td>\n",
       "      <td>2006.605994</td>\n",
       "      <td>NaN</td>\n",
       "      <td>NaN</td>\n",
       "    </tr>\n",
       "    <tr>\n",
       "      <th>std</th>\n",
       "      <td>NaN</td>\n",
       "      <td>24106.523436</td>\n",
       "      <td>NaN</td>\n",
       "      <td>98.629754</td>\n",
       "      <td>5.927699</td>\n",
       "      <td>NaN</td>\n",
       "      <td>NaN</td>\n",
       "      <td>7.067924</td>\n",
       "      <td>NaN</td>\n",
       "      <td>NaN</td>\n",
       "    </tr>\n",
       "    <tr>\n",
       "      <th>min</th>\n",
       "      <td>NaN</td>\n",
       "      <td>0.000000</td>\n",
       "      <td>NaN</td>\n",
       "      <td>0.000000</td>\n",
       "      <td>0.100000</td>\n",
       "      <td>NaN</td>\n",
       "      <td>NaN</td>\n",
       "      <td>1953.000000</td>\n",
       "      <td>NaN</td>\n",
       "      <td>NaN</td>\n",
       "    </tr>\n",
       "    <tr>\n",
       "      <th>25%</th>\n",
       "      <td>NaN</td>\n",
       "      <td>4999.000000</td>\n",
       "      <td>NaN</td>\n",
       "      <td>70.000000</td>\n",
       "      <td>1.600000</td>\n",
       "      <td>NaN</td>\n",
       "      <td>NaN</td>\n",
       "      <td>2004.000000</td>\n",
       "      <td>NaN</td>\n",
       "      <td>NaN</td>\n",
       "    </tr>\n",
       "    <tr>\n",
       "      <th>50%</th>\n",
       "      <td>NaN</td>\n",
       "      <td>9200.000000</td>\n",
       "      <td>NaN</td>\n",
       "      <td>128.000000</td>\n",
       "      <td>2.000000</td>\n",
       "      <td>NaN</td>\n",
       "      <td>NaN</td>\n",
       "      <td>2008.000000</td>\n",
       "      <td>NaN</td>\n",
       "      <td>NaN</td>\n",
       "    </tr>\n",
       "    <tr>\n",
       "      <th>75%</th>\n",
       "      <td>NaN</td>\n",
       "      <td>16700.000000</td>\n",
       "      <td>NaN</td>\n",
       "      <td>194.000000</td>\n",
       "      <td>2.500000</td>\n",
       "      <td>NaN</td>\n",
       "      <td>NaN</td>\n",
       "      <td>2012.000000</td>\n",
       "      <td>NaN</td>\n",
       "      <td>NaN</td>\n",
       "    </tr>\n",
       "    <tr>\n",
       "      <th>max</th>\n",
       "      <td>NaN</td>\n",
       "      <td>547800.000000</td>\n",
       "      <td>NaN</td>\n",
       "      <td>999.000000</td>\n",
       "      <td>99.990000</td>\n",
       "      <td>NaN</td>\n",
       "      <td>NaN</td>\n",
       "      <td>2016.000000</td>\n",
       "      <td>NaN</td>\n",
       "      <td>NaN</td>\n",
       "    </tr>\n",
       "  </tbody>\n",
       "</table>\n",
       "</div>"
      ],
      "text/plain": [
       "               car          price   body      mileage         engV engType  \\\n",
       "count         9576    9576.000000   9576  9576.000000  9142.000000    9576   \n",
       "unique          87            NaN      6          NaN          NaN       4   \n",
       "top     Volkswagen            NaN  sedan          NaN          NaN  Petrol   \n",
       "freq           936            NaN   3646          NaN          NaN    4379   \n",
       "mean           NaN   15633.317316    NaN   138.862364     2.646344     NaN   \n",
       "std            NaN   24106.523436    NaN    98.629754     5.927699     NaN   \n",
       "min            NaN       0.000000    NaN     0.000000     0.100000     NaN   \n",
       "25%            NaN    4999.000000    NaN    70.000000     1.600000     NaN   \n",
       "50%            NaN    9200.000000    NaN   128.000000     2.000000     NaN   \n",
       "75%            NaN   16700.000000    NaN   194.000000     2.500000     NaN   \n",
       "max            NaN  547800.000000    NaN   999.000000    99.990000     NaN   \n",
       "\n",
       "       registration         year    model  drive  \n",
       "count          9576  9576.000000     9576   9065  \n",
       "unique            2          NaN      888      3  \n",
       "top             yes          NaN  E-Class  front  \n",
       "freq           9015          NaN      199   5188  \n",
       "mean            NaN  2006.605994      NaN    NaN  \n",
       "std             NaN     7.067924      NaN    NaN  \n",
       "min             NaN  1953.000000      NaN    NaN  \n",
       "25%             NaN  2004.000000      NaN    NaN  \n",
       "50%             NaN  2008.000000      NaN    NaN  \n",
       "75%             NaN  2012.000000      NaN    NaN  \n",
       "max             NaN  2016.000000      NaN    NaN  "
      ]
     },
     "execution_count": 8,
     "metadata": {},
     "output_type": "execute_result"
    }
   ],
   "source": [
    "car_df.describe(include='all')"
   ]
  },
  {
   "cell_type": "markdown",
   "metadata": {
    "slideshow": {
     "slide_type": "-"
    }
   },
   "source": [
    "Some of the following observations can be made from statistical summary of the data set:\n",
    "\n",
    "* There are 888 different models from 87 cars brands.\n",
    "* Volkswagen cars are most available/sold car brand and E-Class is the most available/sold model of car.\n",
    "* There are 6 different body types of cars.\n",
    "* There are cars available with 4 different fuel types.\n",
    "* There are 3 different drive types of cars.\n",
    "* The oldest car is from 1953 batch and newest car is from 2016 batch.\n",
    "* The most expensive car is priced at USD 547800 and the cheapest car is masked by 0.\n",
    "* Front wheel drive cars are most available/sold.\n",
    "* sedan body type cars are most available/sold.\n",
    "* cars with fuel type petrol are most available/sold."
   ]
  },
  {
   "cell_type": "markdown",
   "metadata": {},
   "source": [
    "### 3.2 Pre Profiling <a id='section302'></a>"
   ]
  },
  {
   "cell_type": "code",
   "execution_count": 9,
   "metadata": {},
   "outputs": [],
   "source": [
    "profile = pandas_profiling.ProfileReport(car_df)\n",
    "profile.to_file(outputfile=\"cars_pre_processing.html\")"
   ]
  },
  {
   "cell_type": "markdown",
   "metadata": {},
   "source": [
    "Some of the following observations can be made from by using pandas profiling of the data set:\n",
    "* __body:__ There 6 different body types. sedan and vagon are the most and least available/sold/preferred body types respectively.There is no missing or erronous rows and hence this column does not need any data treatment.\n",
    "* __car:__ There 87 car brands. Volkswagen cars are most available/sold car brand.There is no missing or erronous rows and hence this column does not need any data treatment.\n",
    "* __drive:__ There 3 different drive types cars, the 4th kind is missing values. There are 511 missing values hence this column needs some kind of data treatment/processing.\n",
    "* __engType:__ There 3 different drive types cars, the 4th kind is marked are 'Other' and the data source says 'Other' should be treated as missing values. There are 462 missing values, hence this column needs some kind of data treatment/processing.\n",
    "* __engV:__ The average engV is 2.6,max and min values 99.99 and 0.1 indicate there are outliers. There are 434 missing values, hence this column needs some kind of data treatment/processing.\n",
    "* __mileage:__ The average mileage is 138.86 kms,the min value 0 indicate there are missing values. There are 348 missing values, hence this column needs some kind of data treatment/processing.\n",
    "* __model:__ There 888 car models. E-Class cars are most available/sold car model.There is no missing or erronous rows and hence this column does not need any data treatment.\n",
    "* __price:__ The average price is 15633 USD,the min value 0 indicate there are missing values. There are 267 missing values, hence this column needs some kind of data treatment/processing.\n",
    "* __registration:__ There are 561 unregistered cars and 9015 cars are registered.There is no missing or erronous rows and hence this column does not need any data treatment.\n",
    "* __year__: The oldest car is from 1953 batch and newest car is from 2016 batch.2008 model cars are most available/sold. There is no missing or erronous rows and hence this column does not need any data treatment.\n",
    "* <b>Dataset has 113 duplicate rows</b>"
   ]
  },
  {
   "cell_type": "markdown",
   "metadata": {},
   "source": [
    "### 3.3 Pre-Processing the Data set             <a id='section303'></a>"
   ]
  },
  {
   "cell_type": "markdown",
   "metadata": {},
   "source": [
    "- Dealing with missing/erronous values<br/>\n",
    "    - [3.3.1 Dropping 113 duplicate rows.](#section303_1)<br>\n",
    "    - [3.3.2 Replacing missing values of __drive__.](#section303_2)<br>\n",
    "    - [3.3.3 Replacing missing values of __engType__.](#section303_3)<br>\n",
    "    - [3.3.4 Replacing missing and erronous values for __engV__.](#section303_4)<br>\n",
    "    - [3.3.5 Replacing missing and erronous values for __mileage__.](#section303_5)<br>\n",
    "    - [3.3.6 Replacing missing and erronous values for __price__.](#section303_6)<br>"
   ]
  },
  {
   "cell_type": "markdown",
   "metadata": {},
   "source": [
    "#### 3.3.1 The Dataset has 113 duplicate rows.    <a id='section303_1'></a>\n",
    "\n",
    "There are two options: \n",
    "1. add a new column with random registration number or some other kind of identifier to make it unique.\n",
    "2. drop the duplicate rows.\n",
    "\n",
    "Going with option 2, dropping duplicate rows."
   ]
  },
  {
   "cell_type": "code",
   "execution_count": 10,
   "metadata": {},
   "outputs": [
    {
     "name": "stdout",
     "output_type": "stream",
     "text": [
      "Data Set before dropping duplicates (9576, 10)\n",
      "Data Set after dropping duplicates (9463, 10)\n"
     ]
    }
   ],
   "source": [
    "print('Data Set before dropping duplicates',car_df.shape)\n",
    "car_df.drop_duplicates(inplace=True)\n",
    "print('Data Set after dropping duplicates',car_df.shape)"
   ]
  },
  {
   "cell_type": "markdown",
   "metadata": {},
   "source": [
    "#### 3.3.2 Drive has 510 missing values. <a id='section303_2'></a>"
   ]
  },
  {
   "cell_type": "code",
   "execution_count": 11,
   "metadata": {},
   "outputs": [
    {
     "name": "stdout",
     "output_type": "stream",
     "text": [
      "Number of missing values before processing: 510\n"
     ]
    }
   ],
   "source": [
    "print('Number of missing values before processing:',car_df.drive.isna().sum())"
   ]
  },
  {
   "cell_type": "markdown",
   "metadata": {},
   "source": [
    "Replace the missing values with mode based on car brand,model and body type. \n",
    "\n",
    "For example Mercedes E-class vagon has a NAN and mode for this combination is 'rear'"
   ]
  },
  {
   "cell_type": "code",
   "execution_count": 12,
   "metadata": {},
   "outputs": [
    {
     "data": {
      "text/html": [
       "<div>\n",
       "<style scoped>\n",
       "    .dataframe tbody tr th:only-of-type {\n",
       "        vertical-align: middle;\n",
       "    }\n",
       "\n",
       "    .dataframe tbody tr th {\n",
       "        vertical-align: top;\n",
       "    }\n",
       "\n",
       "    .dataframe thead th {\n",
       "        text-align: right;\n",
       "    }\n",
       "</style>\n",
       "<table border=\"1\" class=\"dataframe\">\n",
       "  <thead>\n",
       "    <tr style=\"text-align: right;\">\n",
       "      <th></th>\n",
       "      <th>car</th>\n",
       "      <th>price</th>\n",
       "      <th>body</th>\n",
       "      <th>mileage</th>\n",
       "      <th>engV</th>\n",
       "      <th>engType</th>\n",
       "      <th>registration</th>\n",
       "      <th>year</th>\n",
       "      <th>model</th>\n",
       "      <th>drive</th>\n",
       "    </tr>\n",
       "  </thead>\n",
       "  <tbody>\n",
       "    <tr>\n",
       "      <th>4</th>\n",
       "      <td>Mercedes-Benz</td>\n",
       "      <td>33000.0</td>\n",
       "      <td>vagon</td>\n",
       "      <td>91</td>\n",
       "      <td>NaN</td>\n",
       "      <td>Other</td>\n",
       "      <td>yes</td>\n",
       "      <td>2013</td>\n",
       "      <td>E-Class</td>\n",
       "      <td>NaN</td>\n",
       "    </tr>\n",
       "    <tr>\n",
       "      <th>51</th>\n",
       "      <td>Mercedes-Benz</td>\n",
       "      <td>14490.0</td>\n",
       "      <td>vagon</td>\n",
       "      <td>212</td>\n",
       "      <td>2.2</td>\n",
       "      <td>Diesel</td>\n",
       "      <td>yes</td>\n",
       "      <td>2008</td>\n",
       "      <td>E-Class</td>\n",
       "      <td>rear</td>\n",
       "    </tr>\n",
       "    <tr>\n",
       "      <th>610</th>\n",
       "      <td>Mercedes-Benz</td>\n",
       "      <td>26800.0</td>\n",
       "      <td>vagon</td>\n",
       "      <td>160</td>\n",
       "      <td>2.2</td>\n",
       "      <td>Diesel</td>\n",
       "      <td>yes</td>\n",
       "      <td>2014</td>\n",
       "      <td>E-Class</td>\n",
       "      <td>rear</td>\n",
       "    </tr>\n",
       "    <tr>\n",
       "      <th>2187</th>\n",
       "      <td>Mercedes-Benz</td>\n",
       "      <td>24800.0</td>\n",
       "      <td>vagon</td>\n",
       "      <td>118</td>\n",
       "      <td>3.0</td>\n",
       "      <td>Diesel</td>\n",
       "      <td>yes</td>\n",
       "      <td>2010</td>\n",
       "      <td>E-Class</td>\n",
       "      <td>full</td>\n",
       "    </tr>\n",
       "    <tr>\n",
       "      <th>2360</th>\n",
       "      <td>Mercedes-Benz</td>\n",
       "      <td>9500.0</td>\n",
       "      <td>vagon</td>\n",
       "      <td>180</td>\n",
       "      <td>3.2</td>\n",
       "      <td>Diesel</td>\n",
       "      <td>yes</td>\n",
       "      <td>2002</td>\n",
       "      <td>E-Class</td>\n",
       "      <td>rear</td>\n",
       "    </tr>\n",
       "  </tbody>\n",
       "</table>\n",
       "</div>"
      ],
      "text/plain": [
       "                car    price   body  mileage  engV engType registration  year  \\\n",
       "4     Mercedes-Benz  33000.0  vagon       91   NaN   Other          yes  2013   \n",
       "51    Mercedes-Benz  14490.0  vagon      212   2.2  Diesel          yes  2008   \n",
       "610   Mercedes-Benz  26800.0  vagon      160   2.2  Diesel          yes  2014   \n",
       "2187  Mercedes-Benz  24800.0  vagon      118   3.0  Diesel          yes  2010   \n",
       "2360  Mercedes-Benz   9500.0  vagon      180   3.2  Diesel          yes  2002   \n",
       "\n",
       "        model drive  \n",
       "4     E-Class   NaN  \n",
       "51    E-Class  rear  \n",
       "610   E-Class  rear  \n",
       "2187  E-Class  full  \n",
       "2360  E-Class  rear  "
      ]
     },
     "execution_count": 12,
     "metadata": {},
     "output_type": "execute_result"
    }
   ],
   "source": [
    "car_df.loc[(car_df['car']=='Mercedes-Benz') & (car_df['model']=='E-Class') & (car_df['body']=='vagon')].head()"
   ]
  },
  {
   "cell_type": "code",
   "execution_count": 13,
   "metadata": {},
   "outputs": [
    {
     "data": {
      "text/html": [
       "<div>\n",
       "<style scoped>\n",
       "    .dataframe tbody tr th:only-of-type {\n",
       "        vertical-align: middle;\n",
       "    }\n",
       "\n",
       "    .dataframe tbody tr th {\n",
       "        vertical-align: top;\n",
       "    }\n",
       "\n",
       "    .dataframe thead th {\n",
       "        text-align: right;\n",
       "    }\n",
       "</style>\n",
       "<table border=\"1\" class=\"dataframe\">\n",
       "  <thead>\n",
       "    <tr style=\"text-align: right;\">\n",
       "      <th></th>\n",
       "      <th>car</th>\n",
       "      <th>model</th>\n",
       "      <th>body</th>\n",
       "      <th>drive</th>\n",
       "    </tr>\n",
       "  </thead>\n",
       "  <tbody>\n",
       "    <tr>\n",
       "      <th>715</th>\n",
       "      <td>Mercedes-Benz</td>\n",
       "      <td>E-Class</td>\n",
       "      <td>other</td>\n",
       "      <td>rear</td>\n",
       "    </tr>\n",
       "    <tr>\n",
       "      <th>716</th>\n",
       "      <td>Mercedes-Benz</td>\n",
       "      <td>E-Class</td>\n",
       "      <td>sedan</td>\n",
       "      <td>rear</td>\n",
       "    </tr>\n",
       "    <tr>\n",
       "      <th>717</th>\n",
       "      <td>Mercedes-Benz</td>\n",
       "      <td>E-Class</td>\n",
       "      <td>vagon</td>\n",
       "      <td>rear</td>\n",
       "    </tr>\n",
       "  </tbody>\n",
       "</table>\n",
       "</div>"
      ],
      "text/plain": [
       "               car    model   body drive\n",
       "715  Mercedes-Benz  E-Class  other  rear\n",
       "716  Mercedes-Benz  E-Class  sedan  rear\n",
       "717  Mercedes-Benz  E-Class  vagon  rear"
      ]
     },
     "execution_count": 13,
     "metadata": {},
     "output_type": "execute_result"
    }
   ],
   "source": [
    "# create a data set group by car,model and body and mode of drive\n",
    "def drive_mode(d):\n",
    "    car_brand = d.name[0]\n",
    "    car_model = d.name[1]\n",
    "    car_body = d.name[2]\n",
    "    if d.count() > 0:\n",
    "        return d.mode()       # if count > 0 it means there is a mode with this combination.\n",
    "    elif car_df.groupby(['car','model'])['drive'].count()[car_brand,car_model] > 0:\n",
    "        car_model_mode = car_df.groupby(['car','model'])['drive'].apply(lambda x: x.mode())[car_brand,car_model]\n",
    "        return car_model_mode # else check for combination with car and model\n",
    "    else:\n",
    "        car_body_mode = car_df.groupby(['body'])['drive'].apply(lambda x: x.mode())[car_body]\n",
    "        return car_body_mode  # else check for the mode of the body type\n",
    "\n",
    "car_dr_mod = car_df.groupby(['car','model','body'])['drive'].apply(drive_mode).reset_index().drop('level_3', axis=1)\n",
    "# The new Data set will have a reference for replacement\n",
    "car_dr_mod.loc[(car_dr_mod['car']=='Mercedes-Benz') & (car_dr_mod['model']=='E-Class')]"
   ]
  },
  {
   "cell_type": "code",
   "execution_count": 14,
   "metadata": {},
   "outputs": [],
   "source": [
    "def replace_drive_mode(dr):\n",
    "    dr_mod = ''\n",
    "    if pd.isnull(dr['drive']):     # if drive is null, search for the combo in car_dr_mod and replace\n",
    "        dr_mod = car_dr_mod[(car_dr_mod['car'] == dr['car']) & (car_dr_mod['model'] == dr['model']) & (car_dr_mod['body'] == dr['body'])]['drive'].values[0]\n",
    "    else:\n",
    "        dr_mod = dr['drive']      # if not null keep it as it is\n",
    "    return dr_mod\n",
    "\n",
    "car_df['drive'] = car_df.apply(replace_drive_mode,axis=1)"
   ]
  },
  {
   "cell_type": "code",
   "execution_count": 15,
   "metadata": {},
   "outputs": [
    {
     "name": "stdout",
     "output_type": "stream",
     "text": [
      "Number of missing values after processing: 0\n"
     ]
    }
   ],
   "source": [
    "print('Number of missing values after processing:',car_df.drive.isna().sum())"
   ]
  },
  {
   "cell_type": "markdown",
   "metadata": {},
   "source": [
    "For example Mercedes E-class vagon which had a NAN is replaced with 'rear'"
   ]
  },
  {
   "cell_type": "code",
   "execution_count": 16,
   "metadata": {},
   "outputs": [
    {
     "data": {
      "text/html": [
       "<div>\n",
       "<style scoped>\n",
       "    .dataframe tbody tr th:only-of-type {\n",
       "        vertical-align: middle;\n",
       "    }\n",
       "\n",
       "    .dataframe tbody tr th {\n",
       "        vertical-align: top;\n",
       "    }\n",
       "\n",
       "    .dataframe thead th {\n",
       "        text-align: right;\n",
       "    }\n",
       "</style>\n",
       "<table border=\"1\" class=\"dataframe\">\n",
       "  <thead>\n",
       "    <tr style=\"text-align: right;\">\n",
       "      <th></th>\n",
       "      <th>car</th>\n",
       "      <th>price</th>\n",
       "      <th>body</th>\n",
       "      <th>mileage</th>\n",
       "      <th>engV</th>\n",
       "      <th>engType</th>\n",
       "      <th>registration</th>\n",
       "      <th>year</th>\n",
       "      <th>model</th>\n",
       "      <th>drive</th>\n",
       "    </tr>\n",
       "  </thead>\n",
       "  <tbody>\n",
       "    <tr>\n",
       "      <th>4</th>\n",
       "      <td>Mercedes-Benz</td>\n",
       "      <td>33000.0</td>\n",
       "      <td>vagon</td>\n",
       "      <td>91</td>\n",
       "      <td>NaN</td>\n",
       "      <td>Other</td>\n",
       "      <td>yes</td>\n",
       "      <td>2013</td>\n",
       "      <td>E-Class</td>\n",
       "      <td>rear</td>\n",
       "    </tr>\n",
       "    <tr>\n",
       "      <th>51</th>\n",
       "      <td>Mercedes-Benz</td>\n",
       "      <td>14490.0</td>\n",
       "      <td>vagon</td>\n",
       "      <td>212</td>\n",
       "      <td>2.2</td>\n",
       "      <td>Diesel</td>\n",
       "      <td>yes</td>\n",
       "      <td>2008</td>\n",
       "      <td>E-Class</td>\n",
       "      <td>rear</td>\n",
       "    </tr>\n",
       "    <tr>\n",
       "      <th>610</th>\n",
       "      <td>Mercedes-Benz</td>\n",
       "      <td>26800.0</td>\n",
       "      <td>vagon</td>\n",
       "      <td>160</td>\n",
       "      <td>2.2</td>\n",
       "      <td>Diesel</td>\n",
       "      <td>yes</td>\n",
       "      <td>2014</td>\n",
       "      <td>E-Class</td>\n",
       "      <td>rear</td>\n",
       "    </tr>\n",
       "    <tr>\n",
       "      <th>2187</th>\n",
       "      <td>Mercedes-Benz</td>\n",
       "      <td>24800.0</td>\n",
       "      <td>vagon</td>\n",
       "      <td>118</td>\n",
       "      <td>3.0</td>\n",
       "      <td>Diesel</td>\n",
       "      <td>yes</td>\n",
       "      <td>2010</td>\n",
       "      <td>E-Class</td>\n",
       "      <td>full</td>\n",
       "    </tr>\n",
       "    <tr>\n",
       "      <th>2360</th>\n",
       "      <td>Mercedes-Benz</td>\n",
       "      <td>9500.0</td>\n",
       "      <td>vagon</td>\n",
       "      <td>180</td>\n",
       "      <td>3.2</td>\n",
       "      <td>Diesel</td>\n",
       "      <td>yes</td>\n",
       "      <td>2002</td>\n",
       "      <td>E-Class</td>\n",
       "      <td>rear</td>\n",
       "    </tr>\n",
       "  </tbody>\n",
       "</table>\n",
       "</div>"
      ],
      "text/plain": [
       "                car    price   body  mileage  engV engType registration  year  \\\n",
       "4     Mercedes-Benz  33000.0  vagon       91   NaN   Other          yes  2013   \n",
       "51    Mercedes-Benz  14490.0  vagon      212   2.2  Diesel          yes  2008   \n",
       "610   Mercedes-Benz  26800.0  vagon      160   2.2  Diesel          yes  2014   \n",
       "2187  Mercedes-Benz  24800.0  vagon      118   3.0  Diesel          yes  2010   \n",
       "2360  Mercedes-Benz   9500.0  vagon      180   3.2  Diesel          yes  2002   \n",
       "\n",
       "        model drive  \n",
       "4     E-Class  rear  \n",
       "51    E-Class  rear  \n",
       "610   E-Class  rear  \n",
       "2187  E-Class  full  \n",
       "2360  E-Class  rear  "
      ]
     },
     "execution_count": 16,
     "metadata": {},
     "output_type": "execute_result"
    }
   ],
   "source": [
    "car_df.loc[(car_df['car']=='Mercedes-Benz') & (car_df['model']=='E-Class') & (car_df['body']=='vagon')].head()"
   ]
  },
  {
   "cell_type": "markdown",
   "metadata": {},
   "source": [
    "#### 3.3.3 engType has value as others, which should be treated as missing values.<a id='section303_3'></a>\n",
    "Replace missing values of __engType__ with mode values based on car group brand/model/body type. "
   ]
  },
  {
   "cell_type": "code",
   "execution_count": 17,
   "metadata": {},
   "outputs": [
    {
     "name": "stdout",
     "output_type": "stream",
     "text": [
      "Number of values before processing: 462\n"
     ]
    }
   ],
   "source": [
    "print('Number of values before processing:',car_df.loc[(car_df['engType']=='Other')]['engType'].count())"
   ]
  },
  {
   "cell_type": "markdown",
   "metadata": {},
   "source": [
    "Replace the value 'Other' with mode based on car brand,model and body. \n",
    "\n",
    "For example from above Mercedes E-class vagon 2013 model has a Other and mode for this combination is 'Diesel'"
   ]
  },
  {
   "cell_type": "markdown",
   "metadata": {},
   "source": [
    "First convert all 'Other' to 'nan'"
   ]
  },
  {
   "cell_type": "code",
   "execution_count": 18,
   "metadata": {},
   "outputs": [],
   "source": [
    "car_df.replace({'engType':'Other'},np.nan,inplace=True)"
   ]
  },
  {
   "cell_type": "code",
   "execution_count": 19,
   "metadata": {},
   "outputs": [
    {
     "data": {
      "text/html": [
       "<div>\n",
       "<style scoped>\n",
       "    .dataframe tbody tr th:only-of-type {\n",
       "        vertical-align: middle;\n",
       "    }\n",
       "\n",
       "    .dataframe tbody tr th {\n",
       "        vertical-align: top;\n",
       "    }\n",
       "\n",
       "    .dataframe thead th {\n",
       "        text-align: right;\n",
       "    }\n",
       "</style>\n",
       "<table border=\"1\" class=\"dataframe\">\n",
       "  <thead>\n",
       "    <tr style=\"text-align: right;\">\n",
       "      <th></th>\n",
       "      <th>car</th>\n",
       "      <th>model</th>\n",
       "      <th>body</th>\n",
       "      <th>engType</th>\n",
       "    </tr>\n",
       "  </thead>\n",
       "  <tbody>\n",
       "    <tr>\n",
       "      <th>751</th>\n",
       "      <td>Mercedes-Benz</td>\n",
       "      <td>E-Class</td>\n",
       "      <td>other</td>\n",
       "      <td>Diesel</td>\n",
       "    </tr>\n",
       "    <tr>\n",
       "      <th>752</th>\n",
       "      <td>Mercedes-Benz</td>\n",
       "      <td>E-Class</td>\n",
       "      <td>sedan</td>\n",
       "      <td>Diesel</td>\n",
       "    </tr>\n",
       "    <tr>\n",
       "      <th>753</th>\n",
       "      <td>Mercedes-Benz</td>\n",
       "      <td>E-Class</td>\n",
       "      <td>vagon</td>\n",
       "      <td>Diesel</td>\n",
       "    </tr>\n",
       "  </tbody>\n",
       "</table>\n",
       "</div>"
      ],
      "text/plain": [
       "               car    model   body engType\n",
       "751  Mercedes-Benz  E-Class  other  Diesel\n",
       "752  Mercedes-Benz  E-Class  sedan  Diesel\n",
       "753  Mercedes-Benz  E-Class  vagon  Diesel"
      ]
     },
     "execution_count": 19,
     "metadata": {},
     "output_type": "execute_result"
    }
   ],
   "source": [
    "# create a data set group by car,model and body and mode of engType\n",
    "def engType_mode(ent):\n",
    "    car_brand = ent.name[0]\n",
    "    car_model = ent.name[1]\n",
    "    car_body = ent.name[2]\n",
    "    if ent.count() > 0:\n",
    "        return ent.mode()       # if count > 0 it means there is a mode with this combination.\n",
    "    elif car_df.groupby(['car','model'])['engType'].count()[car_brand,car_model] > 0:\n",
    "        car_model_mode = car_df.groupby(['car','model'])['engType'].apply(lambda x: x.mode())[car_brand,car_model]\n",
    "        return car_model_mode # else check for combination with car and model\n",
    "    else:\n",
    "        car_body_mode = car_df.groupby(['body'])['engType'].apply(lambda x: x.mode())[car_body]\n",
    "        return car_body_mode  # else check for the mode of the body type\n",
    "car_ent_mod = car_df.groupby(['car','model','body'])['engType'].apply(engType_mode).reset_index().drop('level_3', axis=1)\n",
    "\n",
    "# The new Data set will have a reference for replacement\n",
    "car_ent_mod.loc[(car_ent_mod['car']=='Mercedes-Benz') & (car_ent_mod['model']=='E-Class')]"
   ]
  },
  {
   "cell_type": "code",
   "execution_count": 20,
   "metadata": {},
   "outputs": [],
   "source": [
    "def replace_ent_mode(ent):\n",
    "    ent_mod = ''\n",
    "    if pd.isnull(ent['engType']):     # if engType is null, search for the combo in car_ent_mod and replace\n",
    "        ent_mod = car_ent_mod[(car_ent_mod['car'] == ent['car']) & (car_ent_mod['model'] == ent['model']) & (car_ent_mod['body'] == ent['body'])]['engType'].values[0]\n",
    "    else:\n",
    "        ent_mod = ent['engType']      # if not null keep it as it is\n",
    "    return ent_mod\n",
    "\n",
    "car_df['engType'] = car_df.apply(replace_ent_mode,axis=1)"
   ]
  },
  {
   "cell_type": "code",
   "execution_count": 21,
   "metadata": {},
   "outputs": [
    {
     "name": "stdout",
     "output_type": "stream",
     "text": [
      "Number of missing values after processing: 0\n"
     ]
    }
   ],
   "source": [
    "print('Number of missing values after processing:',car_df.engType.isna().sum())"
   ]
  },
  {
   "cell_type": "code",
   "execution_count": 22,
   "metadata": {},
   "outputs": [
    {
     "name": "stdout",
     "output_type": "stream",
     "text": [
      "Number of values marked \"Other\" after processing: 0\n"
     ]
    }
   ],
   "source": [
    "print('Number of values marked \"Other\" after processing:',car_df.loc[(car_df['engType']=='Other')]['engType'].count())"
   ]
  },
  {
   "cell_type": "markdown",
   "metadata": {},
   "source": [
    "For example Mercedes E-class vagon 2013 model which had a \"Other\" is replaced with 'Diesel'"
   ]
  },
  {
   "cell_type": "code",
   "execution_count": 23,
   "metadata": {},
   "outputs": [
    {
     "data": {
      "text/html": [
       "<div>\n",
       "<style scoped>\n",
       "    .dataframe tbody tr th:only-of-type {\n",
       "        vertical-align: middle;\n",
       "    }\n",
       "\n",
       "    .dataframe tbody tr th {\n",
       "        vertical-align: top;\n",
       "    }\n",
       "\n",
       "    .dataframe thead th {\n",
       "        text-align: right;\n",
       "    }\n",
       "</style>\n",
       "<table border=\"1\" class=\"dataframe\">\n",
       "  <thead>\n",
       "    <tr style=\"text-align: right;\">\n",
       "      <th></th>\n",
       "      <th>car</th>\n",
       "      <th>price</th>\n",
       "      <th>body</th>\n",
       "      <th>mileage</th>\n",
       "      <th>engV</th>\n",
       "      <th>engType</th>\n",
       "      <th>registration</th>\n",
       "      <th>year</th>\n",
       "      <th>model</th>\n",
       "      <th>drive</th>\n",
       "    </tr>\n",
       "  </thead>\n",
       "  <tbody>\n",
       "    <tr>\n",
       "      <th>4</th>\n",
       "      <td>Mercedes-Benz</td>\n",
       "      <td>33000.0</td>\n",
       "      <td>vagon</td>\n",
       "      <td>91</td>\n",
       "      <td>NaN</td>\n",
       "      <td>Diesel</td>\n",
       "      <td>yes</td>\n",
       "      <td>2013</td>\n",
       "      <td>E-Class</td>\n",
       "      <td>rear</td>\n",
       "    </tr>\n",
       "    <tr>\n",
       "      <th>51</th>\n",
       "      <td>Mercedes-Benz</td>\n",
       "      <td>14490.0</td>\n",
       "      <td>vagon</td>\n",
       "      <td>212</td>\n",
       "      <td>2.2</td>\n",
       "      <td>Diesel</td>\n",
       "      <td>yes</td>\n",
       "      <td>2008</td>\n",
       "      <td>E-Class</td>\n",
       "      <td>rear</td>\n",
       "    </tr>\n",
       "    <tr>\n",
       "      <th>610</th>\n",
       "      <td>Mercedes-Benz</td>\n",
       "      <td>26800.0</td>\n",
       "      <td>vagon</td>\n",
       "      <td>160</td>\n",
       "      <td>2.2</td>\n",
       "      <td>Diesel</td>\n",
       "      <td>yes</td>\n",
       "      <td>2014</td>\n",
       "      <td>E-Class</td>\n",
       "      <td>rear</td>\n",
       "    </tr>\n",
       "    <tr>\n",
       "      <th>2187</th>\n",
       "      <td>Mercedes-Benz</td>\n",
       "      <td>24800.0</td>\n",
       "      <td>vagon</td>\n",
       "      <td>118</td>\n",
       "      <td>3.0</td>\n",
       "      <td>Diesel</td>\n",
       "      <td>yes</td>\n",
       "      <td>2010</td>\n",
       "      <td>E-Class</td>\n",
       "      <td>full</td>\n",
       "    </tr>\n",
       "    <tr>\n",
       "      <th>2360</th>\n",
       "      <td>Mercedes-Benz</td>\n",
       "      <td>9500.0</td>\n",
       "      <td>vagon</td>\n",
       "      <td>180</td>\n",
       "      <td>3.2</td>\n",
       "      <td>Diesel</td>\n",
       "      <td>yes</td>\n",
       "      <td>2002</td>\n",
       "      <td>E-Class</td>\n",
       "      <td>rear</td>\n",
       "    </tr>\n",
       "  </tbody>\n",
       "</table>\n",
       "</div>"
      ],
      "text/plain": [
       "                car    price   body  mileage  engV engType registration  year  \\\n",
       "4     Mercedes-Benz  33000.0  vagon       91   NaN  Diesel          yes  2013   \n",
       "51    Mercedes-Benz  14490.0  vagon      212   2.2  Diesel          yes  2008   \n",
       "610   Mercedes-Benz  26800.0  vagon      160   2.2  Diesel          yes  2014   \n",
       "2187  Mercedes-Benz  24800.0  vagon      118   3.0  Diesel          yes  2010   \n",
       "2360  Mercedes-Benz   9500.0  vagon      180   3.2  Diesel          yes  2002   \n",
       "\n",
       "        model drive  \n",
       "4     E-Class  rear  \n",
       "51    E-Class  rear  \n",
       "610   E-Class  rear  \n",
       "2187  E-Class  full  \n",
       "2360  E-Class  rear  "
      ]
     },
     "execution_count": 23,
     "metadata": {},
     "output_type": "execute_result"
    }
   ],
   "source": [
    "car_df.loc[(car_df['car']=='Mercedes-Benz') & (car_df['model']=='E-Class') & (car_df['body']=='vagon')].head()"
   ]
  },
  {
   "cell_type": "markdown",
   "metadata": {},
   "source": [
    "#### 3.3.4 engV has 434 missing values and erronous values for max and min.<a id='section303_4'></a>\n",
    "* 3.3.4.1 Replace missing values of __engV__ with mode values based on car group brand/model/body type.\n",
    "* 3.3.4.2 Replace erronous values of __engV__ with 5th and 95th quantile values based on car group brand/model/body type."
   ]
  },
  {
   "cell_type": "code",
   "execution_count": 24,
   "metadata": {},
   "outputs": [
    {
     "name": "stdout",
     "output_type": "stream",
     "text": [
      "Number of missing values before processing: 434\n"
     ]
    }
   ],
   "source": [
    "print('Number of missing values before processing:',car_df.engV.isna().sum())"
   ]
  },
  {
   "cell_type": "markdown",
   "metadata": {},
   "source": [
    "##### 3.3.4.1 Replace missing values of __engV__ with mode values based on car group brand/model/body type.\n",
    "engV is of data type float and measured with units cc.It make more sense to replace the missing values with mode instead of median or mean.The mode based on car brand,model and body combination.\n",
    "\n",
    "For example from above Mercedes E-class vagon 2013 model has a NAN and mode for this combination is '2.2'"
   ]
  },
  {
   "cell_type": "code",
   "execution_count": 25,
   "metadata": {},
   "outputs": [
    {
     "data": {
      "text/html": [
       "<div>\n",
       "<style scoped>\n",
       "    .dataframe tbody tr th:only-of-type {\n",
       "        vertical-align: middle;\n",
       "    }\n",
       "\n",
       "    .dataframe tbody tr th {\n",
       "        vertical-align: top;\n",
       "    }\n",
       "\n",
       "    .dataframe thead th {\n",
       "        text-align: right;\n",
       "    }\n",
       "</style>\n",
       "<table border=\"1\" class=\"dataframe\">\n",
       "  <thead>\n",
       "    <tr style=\"text-align: right;\">\n",
       "      <th></th>\n",
       "      <th>car</th>\n",
       "      <th>model</th>\n",
       "      <th>body</th>\n",
       "      <th>engV</th>\n",
       "    </tr>\n",
       "  </thead>\n",
       "  <tbody>\n",
       "    <tr>\n",
       "      <th>778</th>\n",
       "      <td>Mercedes-Benz</td>\n",
       "      <td>E-Class</td>\n",
       "      <td>other</td>\n",
       "      <td>3.0</td>\n",
       "    </tr>\n",
       "    <tr>\n",
       "      <th>779</th>\n",
       "      <td>Mercedes-Benz</td>\n",
       "      <td>E-Class</td>\n",
       "      <td>sedan</td>\n",
       "      <td>2.2</td>\n",
       "    </tr>\n",
       "    <tr>\n",
       "      <th>780</th>\n",
       "      <td>Mercedes-Benz</td>\n",
       "      <td>E-Class</td>\n",
       "      <td>vagon</td>\n",
       "      <td>2.2</td>\n",
       "    </tr>\n",
       "    <tr>\n",
       "      <th>781</th>\n",
       "      <td>Mercedes-Benz</td>\n",
       "      <td>E-Class</td>\n",
       "      <td>vagon</td>\n",
       "      <td>3.0</td>\n",
       "    </tr>\n",
       "  </tbody>\n",
       "</table>\n",
       "</div>"
      ],
      "text/plain": [
       "               car    model   body  engV\n",
       "778  Mercedes-Benz  E-Class  other   3.0\n",
       "779  Mercedes-Benz  E-Class  sedan   2.2\n",
       "780  Mercedes-Benz  E-Class  vagon   2.2\n",
       "781  Mercedes-Benz  E-Class  vagon   3.0"
      ]
     },
     "execution_count": 25,
     "metadata": {},
     "output_type": "execute_result"
    }
   ],
   "source": [
    "# create a data set group by car,model and body and mode of engV\n",
    "def engV_mode(env):\n",
    "    car_brand = env.name[0]\n",
    "    car_model = env.name[1]\n",
    "    car_body = env.name[2]\n",
    "    if env.count() > 0:\n",
    "        return env.mode()       # if count > 0 it means there is a mode with this combination.\n",
    "    elif car_df.groupby(['car','model'])['engV'].count()[car_brand,car_model] > 0:\n",
    "        car_model_mode = car_df.groupby(['car','model'])['engV'].apply(lambda x: x.mode())[car_brand,car_model]\n",
    "        return car_model_mode # else check for combination with car and model\n",
    "    else:\n",
    "        car_body_mode = car_df.groupby(['body'])['engV'].apply(lambda x: x.mode())[car_body]\n",
    "        return car_body_mode  # else check for the mode of the body type\n",
    "car_env_mod = car_df.groupby(['car','model','body'])['engV'].apply(engV_mode).reset_index().drop('level_3', axis=1)\n",
    "\n",
    "# The new Data set will have a reference for replacement\n",
    "car_env_mod.loc[(car_env_mod['car']=='Mercedes-Benz') & (car_env_mod['model']=='E-Class')]"
   ]
  },
  {
   "cell_type": "code",
   "execution_count": 26,
   "metadata": {},
   "outputs": [],
   "source": [
    "def replace_env_mode(env):\n",
    "    env_mod = ''\n",
    "    if pd.isnull(env['engV']):     # if engV is null, search for the combo in car_ent_mod and replace\n",
    "        env_mod = car_env_mod[(car_env_mod['car'] == env['car']) & (car_env_mod['model'] == env['model']) & (car_env_mod['body'] == env['body'])]['engV'].values[0]\n",
    "    else:\n",
    "        env_mod = env['engV']      # if not null keep it as it is\n",
    "    return env_mod\n",
    "\n",
    "car_df['engV'] = car_df.apply(replace_env_mode,axis=1)"
   ]
  },
  {
   "cell_type": "code",
   "execution_count": 27,
   "metadata": {},
   "outputs": [
    {
     "name": "stdout",
     "output_type": "stream",
     "text": [
      "Number of missing values after processing: 0\n"
     ]
    }
   ],
   "source": [
    "print('Number of missing values after processing:',car_df.engType.isna().sum())"
   ]
  },
  {
   "cell_type": "markdown",
   "metadata": {},
   "source": [
    "For example Mercedes E-class vagon 2013 model which had a NAN is replaced with '2.2'"
   ]
  },
  {
   "cell_type": "code",
   "execution_count": 28,
   "metadata": {},
   "outputs": [
    {
     "data": {
      "text/html": [
       "<div>\n",
       "<style scoped>\n",
       "    .dataframe tbody tr th:only-of-type {\n",
       "        vertical-align: middle;\n",
       "    }\n",
       "\n",
       "    .dataframe tbody tr th {\n",
       "        vertical-align: top;\n",
       "    }\n",
       "\n",
       "    .dataframe thead th {\n",
       "        text-align: right;\n",
       "    }\n",
       "</style>\n",
       "<table border=\"1\" class=\"dataframe\">\n",
       "  <thead>\n",
       "    <tr style=\"text-align: right;\">\n",
       "      <th></th>\n",
       "      <th>car</th>\n",
       "      <th>price</th>\n",
       "      <th>body</th>\n",
       "      <th>mileage</th>\n",
       "      <th>engV</th>\n",
       "      <th>engType</th>\n",
       "      <th>registration</th>\n",
       "      <th>year</th>\n",
       "      <th>model</th>\n",
       "      <th>drive</th>\n",
       "    </tr>\n",
       "  </thead>\n",
       "  <tbody>\n",
       "    <tr>\n",
       "      <th>4</th>\n",
       "      <td>Mercedes-Benz</td>\n",
       "      <td>33000.0</td>\n",
       "      <td>vagon</td>\n",
       "      <td>91</td>\n",
       "      <td>2.2</td>\n",
       "      <td>Diesel</td>\n",
       "      <td>yes</td>\n",
       "      <td>2013</td>\n",
       "      <td>E-Class</td>\n",
       "      <td>rear</td>\n",
       "    </tr>\n",
       "    <tr>\n",
       "      <th>51</th>\n",
       "      <td>Mercedes-Benz</td>\n",
       "      <td>14490.0</td>\n",
       "      <td>vagon</td>\n",
       "      <td>212</td>\n",
       "      <td>2.2</td>\n",
       "      <td>Diesel</td>\n",
       "      <td>yes</td>\n",
       "      <td>2008</td>\n",
       "      <td>E-Class</td>\n",
       "      <td>rear</td>\n",
       "    </tr>\n",
       "    <tr>\n",
       "      <th>610</th>\n",
       "      <td>Mercedes-Benz</td>\n",
       "      <td>26800.0</td>\n",
       "      <td>vagon</td>\n",
       "      <td>160</td>\n",
       "      <td>2.2</td>\n",
       "      <td>Diesel</td>\n",
       "      <td>yes</td>\n",
       "      <td>2014</td>\n",
       "      <td>E-Class</td>\n",
       "      <td>rear</td>\n",
       "    </tr>\n",
       "    <tr>\n",
       "      <th>2187</th>\n",
       "      <td>Mercedes-Benz</td>\n",
       "      <td>24800.0</td>\n",
       "      <td>vagon</td>\n",
       "      <td>118</td>\n",
       "      <td>3.0</td>\n",
       "      <td>Diesel</td>\n",
       "      <td>yes</td>\n",
       "      <td>2010</td>\n",
       "      <td>E-Class</td>\n",
       "      <td>full</td>\n",
       "    </tr>\n",
       "    <tr>\n",
       "      <th>2360</th>\n",
       "      <td>Mercedes-Benz</td>\n",
       "      <td>9500.0</td>\n",
       "      <td>vagon</td>\n",
       "      <td>180</td>\n",
       "      <td>3.2</td>\n",
       "      <td>Diesel</td>\n",
       "      <td>yes</td>\n",
       "      <td>2002</td>\n",
       "      <td>E-Class</td>\n",
       "      <td>rear</td>\n",
       "    </tr>\n",
       "  </tbody>\n",
       "</table>\n",
       "</div>"
      ],
      "text/plain": [
       "                car    price   body  mileage  engV engType registration  year  \\\n",
       "4     Mercedes-Benz  33000.0  vagon       91   2.2  Diesel          yes  2013   \n",
       "51    Mercedes-Benz  14490.0  vagon      212   2.2  Diesel          yes  2008   \n",
       "610   Mercedes-Benz  26800.0  vagon      160   2.2  Diesel          yes  2014   \n",
       "2187  Mercedes-Benz  24800.0  vagon      118   3.0  Diesel          yes  2010   \n",
       "2360  Mercedes-Benz   9500.0  vagon      180   3.2  Diesel          yes  2002   \n",
       "\n",
       "        model drive  \n",
       "4     E-Class  rear  \n",
       "51    E-Class  rear  \n",
       "610   E-Class  rear  \n",
       "2187  E-Class  full  \n",
       "2360  E-Class  rear  "
      ]
     },
     "execution_count": 28,
     "metadata": {},
     "output_type": "execute_result"
    }
   ],
   "source": [
    "car_df.loc[(car_df['car']=='Mercedes-Benz') & (car_df['model']=='E-Class') & (car_df['body']=='vagon')].head()"
   ]
  },
  {
   "cell_type": "code",
   "execution_count": 29,
   "metadata": {},
   "outputs": [
    {
     "data": {
      "text/plain": [
       "count    9463.000000\n",
       "mean        2.617238\n",
       "std         6.001058\n",
       "min         0.100000\n",
       "25%         1.600000\n",
       "50%         2.000000\n",
       "75%         2.500000\n",
       "max        99.990000\n",
       "Name: engV, dtype: float64"
      ]
     },
     "execution_count": 29,
     "metadata": {},
     "output_type": "execute_result"
    }
   ],
   "source": [
    "car_df.engV.describe()"
   ]
  },
  {
   "cell_type": "markdown",
   "metadata": {},
   "source": [
    "##### 3.3.4.2 Replace erronous values of __engV__ with 5th and 95th quantile values based on car group brand/model/body type.\n",
    "The max and min of engV indicate there quite a few outliers.\n",
    "\n",
    "For example Audi A6 vagon 2004 model which has value of 99 should be dropped or replaced."
   ]
  },
  {
   "cell_type": "code",
   "execution_count": 30,
   "metadata": {},
   "outputs": [
    {
     "data": {
      "text/html": [
       "<div>\n",
       "<style scoped>\n",
       "    .dataframe tbody tr th:only-of-type {\n",
       "        vertical-align: middle;\n",
       "    }\n",
       "\n",
       "    .dataframe tbody tr th {\n",
       "        vertical-align: top;\n",
       "    }\n",
       "\n",
       "    .dataframe thead th {\n",
       "        text-align: right;\n",
       "    }\n",
       "</style>\n",
       "<table border=\"1\" class=\"dataframe\">\n",
       "  <thead>\n",
       "    <tr style=\"text-align: right;\">\n",
       "      <th></th>\n",
       "      <th>car</th>\n",
       "      <th>price</th>\n",
       "      <th>body</th>\n",
       "      <th>mileage</th>\n",
       "      <th>engV</th>\n",
       "      <th>engType</th>\n",
       "      <th>registration</th>\n",
       "      <th>year</th>\n",
       "      <th>model</th>\n",
       "      <th>drive</th>\n",
       "    </tr>\n",
       "  </thead>\n",
       "  <tbody>\n",
       "    <tr>\n",
       "      <th>184</th>\n",
       "      <td>Audi</td>\n",
       "      <td>4600.0</td>\n",
       "      <td>vagon</td>\n",
       "      <td>242</td>\n",
       "      <td>99.99</td>\n",
       "      <td>Diesel</td>\n",
       "      <td>no</td>\n",
       "      <td>2004</td>\n",
       "      <td>A6</td>\n",
       "      <td>front</td>\n",
       "    </tr>\n",
       "    <tr>\n",
       "      <th>1330</th>\n",
       "      <td>Audi</td>\n",
       "      <td>9600.0</td>\n",
       "      <td>vagon</td>\n",
       "      <td>230</td>\n",
       "      <td>2.50</td>\n",
       "      <td>Diesel</td>\n",
       "      <td>yes</td>\n",
       "      <td>2004</td>\n",
       "      <td>A6</td>\n",
       "      <td>front</td>\n",
       "    </tr>\n",
       "    <tr>\n",
       "      <th>1355</th>\n",
       "      <td>Audi</td>\n",
       "      <td>9900.0</td>\n",
       "      <td>vagon</td>\n",
       "      <td>284</td>\n",
       "      <td>2.50</td>\n",
       "      <td>Diesel</td>\n",
       "      <td>yes</td>\n",
       "      <td>2004</td>\n",
       "      <td>A6</td>\n",
       "      <td>full</td>\n",
       "    </tr>\n",
       "    <tr>\n",
       "      <th>3827</th>\n",
       "      <td>Audi</td>\n",
       "      <td>4150.0</td>\n",
       "      <td>vagon</td>\n",
       "      <td>249</td>\n",
       "      <td>2.50</td>\n",
       "      <td>Diesel</td>\n",
       "      <td>no</td>\n",
       "      <td>2004</td>\n",
       "      <td>A6</td>\n",
       "      <td>front</td>\n",
       "    </tr>\n",
       "    <tr>\n",
       "      <th>6398</th>\n",
       "      <td>Audi</td>\n",
       "      <td>3400.0</td>\n",
       "      <td>vagon</td>\n",
       "      <td>261</td>\n",
       "      <td>2.50</td>\n",
       "      <td>Diesel</td>\n",
       "      <td>no</td>\n",
       "      <td>2004</td>\n",
       "      <td>A6</td>\n",
       "      <td>front</td>\n",
       "    </tr>\n",
       "  </tbody>\n",
       "</table>\n",
       "</div>"
      ],
      "text/plain": [
       "       car   price   body  mileage   engV engType registration  year model  \\\n",
       "184   Audi  4600.0  vagon      242  99.99  Diesel           no  2004    A6   \n",
       "1330  Audi  9600.0  vagon      230   2.50  Diesel          yes  2004    A6   \n",
       "1355  Audi  9900.0  vagon      284   2.50  Diesel          yes  2004    A6   \n",
       "3827  Audi  4150.0  vagon      249   2.50  Diesel           no  2004    A6   \n",
       "6398  Audi  3400.0  vagon      261   2.50  Diesel           no  2004    A6   \n",
       "\n",
       "      drive  \n",
       "184   front  \n",
       "1330  front  \n",
       "1355   full  \n",
       "3827  front  \n",
       "6398  front  "
      ]
     },
     "execution_count": 30,
     "metadata": {},
     "output_type": "execute_result"
    }
   ],
   "source": [
    "car_df.loc[(car_df['car']=='Audi') & (car_df['model']=='A6') & (car_df['body']=='vagon') & (car_df['year']==2004)]"
   ]
  },
  {
   "cell_type": "code",
   "execution_count": 31,
   "metadata": {},
   "outputs": [
    {
     "data": {
      "text/html": [
       "<div>\n",
       "<style scoped>\n",
       "    .dataframe tbody tr th:only-of-type {\n",
       "        vertical-align: middle;\n",
       "    }\n",
       "\n",
       "    .dataframe tbody tr th {\n",
       "        vertical-align: top;\n",
       "    }\n",
       "\n",
       "    .dataframe thead th {\n",
       "        text-align: right;\n",
       "    }\n",
       "</style>\n",
       "<table border=\"1\" class=\"dataframe\">\n",
       "  <thead>\n",
       "    <tr style=\"text-align: right;\">\n",
       "      <th></th>\n",
       "      <th>car</th>\n",
       "      <th>model</th>\n",
       "      <th>body</th>\n",
       "      <th>engV_Med</th>\n",
       "      <th>engVM25</th>\n",
       "      <th>engVM75</th>\n",
       "      <th>engVM05</th>\n",
       "      <th>engVM95</th>\n",
       "    </tr>\n",
       "  </thead>\n",
       "  <tbody>\n",
       "    <tr>\n",
       "      <th>32</th>\n",
       "      <td>Audi</td>\n",
       "      <td>A6</td>\n",
       "      <td>crossover</td>\n",
       "      <td>3.0</td>\n",
       "      <td>3.0</td>\n",
       "      <td>3.00</td>\n",
       "      <td>3.0</td>\n",
       "      <td>3.00</td>\n",
       "    </tr>\n",
       "    <tr>\n",
       "      <th>33</th>\n",
       "      <td>Audi</td>\n",
       "      <td>A6</td>\n",
       "      <td>hatch</td>\n",
       "      <td>2.8</td>\n",
       "      <td>2.8</td>\n",
       "      <td>2.80</td>\n",
       "      <td>2.8</td>\n",
       "      <td>2.80</td>\n",
       "    </tr>\n",
       "    <tr>\n",
       "      <th>34</th>\n",
       "      <td>Audi</td>\n",
       "      <td>A6</td>\n",
       "      <td>other</td>\n",
       "      <td>1.8</td>\n",
       "      <td>1.8</td>\n",
       "      <td>2.00</td>\n",
       "      <td>1.8</td>\n",
       "      <td>2.35</td>\n",
       "    </tr>\n",
       "    <tr>\n",
       "      <th>35</th>\n",
       "      <td>Audi</td>\n",
       "      <td>A6</td>\n",
       "      <td>sedan</td>\n",
       "      <td>2.5</td>\n",
       "      <td>2.4</td>\n",
       "      <td>2.75</td>\n",
       "      <td>1.9</td>\n",
       "      <td>3.00</td>\n",
       "    </tr>\n",
       "    <tr>\n",
       "      <th>36</th>\n",
       "      <td>Audi</td>\n",
       "      <td>A6</td>\n",
       "      <td>vagon</td>\n",
       "      <td>2.5</td>\n",
       "      <td>2.5</td>\n",
       "      <td>2.50</td>\n",
       "      <td>2.0</td>\n",
       "      <td>3.00</td>\n",
       "    </tr>\n",
       "    <tr>\n",
       "      <th>37</th>\n",
       "      <td>Audi</td>\n",
       "      <td>A6</td>\n",
       "      <td>van</td>\n",
       "      <td>1.9</td>\n",
       "      <td>1.9</td>\n",
       "      <td>1.90</td>\n",
       "      <td>1.9</td>\n",
       "      <td>1.90</td>\n",
       "    </tr>\n",
       "  </tbody>\n",
       "</table>\n",
       "</div>"
      ],
      "text/plain": [
       "     car model       body  engV_Med  engVM25  engVM75  engVM05  engVM95\n",
       "32  Audi    A6  crossover       3.0      3.0     3.00      3.0     3.00\n",
       "33  Audi    A6      hatch       2.8      2.8     2.80      2.8     2.80\n",
       "34  Audi    A6      other       1.8      1.8     2.00      1.8     2.35\n",
       "35  Audi    A6      sedan       2.5      2.4     2.75      1.9     3.00\n",
       "36  Audi    A6      vagon       2.5      2.5     2.50      2.0     3.00\n",
       "37  Audi    A6        van       1.9      1.9     1.90      1.9     1.90"
      ]
     },
     "execution_count": 31,
     "metadata": {},
     "output_type": "execute_result"
    }
   ],
   "source": [
    "# create a data set group by car,model and median,quartile 1,quartile 3, 5th quantile and 95th quantile of engV\n",
    "engV_Q3 = car_df.engV.quantile(0.75)\n",
    "engV_Q1 = car_df.engV.quantile(0.25)\n",
    "\n",
    "engV_05 = car_df.engV.quantile(0.05)\n",
    "engV_95 = car_df.engV.quantile(0.95)\n",
    "car_env_median = car_df.groupby(['car','model','body'])['engV'].apply(lambda x: x.median()).reset_index()\n",
    "car_env_median.rename(columns={'engV':'engV_Med'},inplace=True)\n",
    "car_env_median['engVM25'] = car_df.groupby(['car','model','body'])['engV'].apply(lambda x: x.quantile(0.25)).reset_index()['engV']\n",
    "car_env_median['engVM75'] = car_df.groupby(['car','model','body'])['engV'].apply(lambda x: x.quantile(0.75)).reset_index()['engV']\n",
    "car_env_median['engVM05'] = car_df.groupby(['car','model','body'])['engV'].apply(lambda x: x.quantile(0.05)).reset_index()['engV']\n",
    "car_env_median['engVM95'] = car_df.groupby(['car','model','body'])['engV'].apply(lambda x: x.quantile(0.95)).reset_index()['engV']\n",
    "\n",
    "car_env_median.loc[(car_env_median['car']=='Audi') & (car_env_median['model']=='A6')]\n"
   ]
  },
  {
   "cell_type": "code",
   "execution_count": 32,
   "metadata": {},
   "outputs": [],
   "source": [
    "# functions to replace the outliers for a data set:  \n",
    "# if Q3 + 1.5*IQR replace with 95th percentile\n",
    "# if Q1 - 1.5*IQR replace with 5th percentile\n",
    "\n",
    "def replace_out(dat,clm):\n",
    "    dat_median = car_env_median[(car_env_median['car'] == dat['car']) & (car_env_median['model'] == dat['model']) & (car_env_median['body'] == dat['body'])]['engV_Med'].values[0]\n",
    "    q1 = car_env_median[(car_env_median['car'] == dat['car']) & (car_env_median['model'] == dat['model']) & (car_env_median['body'] == dat['body'])]['engVM25'].values[0]\n",
    "    q3 = car_env_median[(car_env_median['car'] == dat['car']) & (car_env_median['model'] == dat['model']) & (car_env_median['body'] == dat['body'])]['engVM75'].values[0]\n",
    "    if dat[clm] > (q3 + (1.5*(q3-q1))):\n",
    "        engV_replace = car_env_median[(car_env_median['car'] == dat['car']) & (car_env_median['model'] == dat['model']) & (car_env_median['body'] == dat['body'])]['engVM95'].values[0]\n",
    "    elif dat[clm] < (q1 - (1.5*(q3-q1))):\n",
    "        engV_replace = car_env_median[(car_env_median['car'] == dat['car']) & (car_env_median['model'] == dat['model']) & (car_env_median['body'] == dat['body'])]['engVM05'].values[0]\n",
    "    else:\n",
    "        engV_replace = dat[clm]\n",
    "    if engV_replace > (engV_Q3 + (1.5*(engV_Q3 - engV_Q1))):\n",
    "        engV_replace = engV_95\n",
    "    elif engV_replace < (engV_Q1 - (1.5*(engV_Q3 - engV_Q1))):\n",
    "        engV_replace = engV_05\n",
    "    return engV_replace\n"
   ]
  },
  {
   "cell_type": "code",
   "execution_count": 33,
   "metadata": {},
   "outputs": [
    {
     "data": {
      "text/html": [
       "<div>\n",
       "<style scoped>\n",
       "    .dataframe tbody tr th:only-of-type {\n",
       "        vertical-align: middle;\n",
       "    }\n",
       "\n",
       "    .dataframe tbody tr th {\n",
       "        vertical-align: top;\n",
       "    }\n",
       "\n",
       "    .dataframe thead th {\n",
       "        text-align: right;\n",
       "    }\n",
       "</style>\n",
       "<table border=\"1\" class=\"dataframe\">\n",
       "  <thead>\n",
       "    <tr style=\"text-align: right;\">\n",
       "      <th></th>\n",
       "      <th>car</th>\n",
       "      <th>price</th>\n",
       "      <th>body</th>\n",
       "      <th>mileage</th>\n",
       "      <th>engV</th>\n",
       "      <th>engType</th>\n",
       "      <th>registration</th>\n",
       "      <th>year</th>\n",
       "      <th>model</th>\n",
       "      <th>drive</th>\n",
       "    </tr>\n",
       "  </thead>\n",
       "  <tbody>\n",
       "    <tr>\n",
       "      <th>184</th>\n",
       "      <td>Audi</td>\n",
       "      <td>4600.0</td>\n",
       "      <td>vagon</td>\n",
       "      <td>242</td>\n",
       "      <td>3.0</td>\n",
       "      <td>Diesel</td>\n",
       "      <td>no</td>\n",
       "      <td>2004</td>\n",
       "      <td>A6</td>\n",
       "      <td>front</td>\n",
       "    </tr>\n",
       "    <tr>\n",
       "      <th>1330</th>\n",
       "      <td>Audi</td>\n",
       "      <td>9600.0</td>\n",
       "      <td>vagon</td>\n",
       "      <td>230</td>\n",
       "      <td>2.5</td>\n",
       "      <td>Diesel</td>\n",
       "      <td>yes</td>\n",
       "      <td>2004</td>\n",
       "      <td>A6</td>\n",
       "      <td>front</td>\n",
       "    </tr>\n",
       "    <tr>\n",
       "      <th>1355</th>\n",
       "      <td>Audi</td>\n",
       "      <td>9900.0</td>\n",
       "      <td>vagon</td>\n",
       "      <td>284</td>\n",
       "      <td>2.5</td>\n",
       "      <td>Diesel</td>\n",
       "      <td>yes</td>\n",
       "      <td>2004</td>\n",
       "      <td>A6</td>\n",
       "      <td>full</td>\n",
       "    </tr>\n",
       "    <tr>\n",
       "      <th>3827</th>\n",
       "      <td>Audi</td>\n",
       "      <td>4150.0</td>\n",
       "      <td>vagon</td>\n",
       "      <td>249</td>\n",
       "      <td>2.5</td>\n",
       "      <td>Diesel</td>\n",
       "      <td>no</td>\n",
       "      <td>2004</td>\n",
       "      <td>A6</td>\n",
       "      <td>front</td>\n",
       "    </tr>\n",
       "    <tr>\n",
       "      <th>6398</th>\n",
       "      <td>Audi</td>\n",
       "      <td>3400.0</td>\n",
       "      <td>vagon</td>\n",
       "      <td>261</td>\n",
       "      <td>2.5</td>\n",
       "      <td>Diesel</td>\n",
       "      <td>no</td>\n",
       "      <td>2004</td>\n",
       "      <td>A6</td>\n",
       "      <td>front</td>\n",
       "    </tr>\n",
       "  </tbody>\n",
       "</table>\n",
       "</div>"
      ],
      "text/plain": [
       "       car   price   body  mileage  engV engType registration  year model  \\\n",
       "184   Audi  4600.0  vagon      242   3.0  Diesel           no  2004    A6   \n",
       "1330  Audi  9600.0  vagon      230   2.5  Diesel          yes  2004    A6   \n",
       "1355  Audi  9900.0  vagon      284   2.5  Diesel          yes  2004    A6   \n",
       "3827  Audi  4150.0  vagon      249   2.5  Diesel           no  2004    A6   \n",
       "6398  Audi  3400.0  vagon      261   2.5  Diesel           no  2004    A6   \n",
       "\n",
       "      drive  \n",
       "184   front  \n",
       "1330  front  \n",
       "1355   full  \n",
       "3827  front  \n",
       "6398  front  "
      ]
     },
     "execution_count": 33,
     "metadata": {},
     "output_type": "execute_result"
    }
   ],
   "source": [
    "car_df['engV'] = car_df.apply(lambda x : replace_out(dat=x,clm='engV'),axis=1)\n",
    "car_df.loc[(car_df['car']=='Audi') & (car_df['model']=='A6') & (car_df['body']=='vagon') & (car_df['year']==2004)]"
   ]
  },
  {
   "cell_type": "markdown",
   "metadata": {},
   "source": [
    "After outlier treatment, from example Audi A6 vagon 2004 model which has value of 99 replaced with 95th quantile value 3.0"
   ]
  },
  {
   "cell_type": "code",
   "execution_count": 34,
   "metadata": {},
   "outputs": [
    {
     "data": {
      "text/plain": [
       "count    9463.000000\n",
       "mean        2.206262\n",
       "std         0.886160\n",
       "min         0.600000\n",
       "25%         1.600000\n",
       "50%         2.000000\n",
       "75%         2.500000\n",
       "max         4.500000\n",
       "Name: engV, dtype: float64"
      ]
     },
     "execution_count": 34,
     "metadata": {},
     "output_type": "execute_result"
    }
   ],
   "source": [
    "car_df.engV.describe()"
   ]
  },
  {
   "cell_type": "markdown",
   "metadata": {},
   "source": [
    "#### 3.3.5 mileage has 310 zeros and erronous values for max and min.<a id='section303_5'></a>\n",
    "* 3.3.5.1 Treating zeros as missing values.Replace missing values of __mileage__ with median values based on car group brand/model/body type.\n",
    "* 3.3.5.2 Replace erronous values of __mileage__ with 5th and 95th quantile values based on car group brand/model/body type."
   ]
  },
  {
   "cell_type": "code",
   "execution_count": 35,
   "metadata": {},
   "outputs": [
    {
     "name": "stdout",
     "output_type": "stream",
     "text": [
      "Number of missing values before processing: 310\n"
     ]
    }
   ],
   "source": [
    "car_df.replace({'mileage':0},np.nan,inplace=True)\n",
    "print('Number of missing values before processing:',car_df.mileage.isna().sum())"
   ]
  },
  {
   "cell_type": "markdown",
   "metadata": {},
   "source": [
    "##### 3.3.5.1 Treating zeros as missing values.Replace missing values of __mileage__ with median values based on car group brand/model/body type.\n",
    "Mileage is of data type float and measured with units kms.The missing values will be replaced with median based on car brand,model and body combination.\n",
    "For example from above Nissan Qashqai crossover 2016 model has a NAN."
   ]
  },
  {
   "cell_type": "code",
   "execution_count": 36,
   "metadata": {},
   "outputs": [
    {
     "data": {
      "text/html": [
       "<div>\n",
       "<style scoped>\n",
       "    .dataframe tbody tr th:only-of-type {\n",
       "        vertical-align: middle;\n",
       "    }\n",
       "\n",
       "    .dataframe tbody tr th {\n",
       "        vertical-align: top;\n",
       "    }\n",
       "\n",
       "    .dataframe thead th {\n",
       "        text-align: right;\n",
       "    }\n",
       "</style>\n",
       "<table border=\"1\" class=\"dataframe\">\n",
       "  <thead>\n",
       "    <tr style=\"text-align: right;\">\n",
       "      <th></th>\n",
       "      <th>car</th>\n",
       "      <th>price</th>\n",
       "      <th>body</th>\n",
       "      <th>mileage</th>\n",
       "      <th>engV</th>\n",
       "      <th>engType</th>\n",
       "      <th>registration</th>\n",
       "      <th>year</th>\n",
       "      <th>model</th>\n",
       "      <th>drive</th>\n",
       "    </tr>\n",
       "  </thead>\n",
       "  <tbody>\n",
       "    <tr>\n",
       "      <th>10</th>\n",
       "      <td>Nissan</td>\n",
       "      <td>20447.154</td>\n",
       "      <td>crossover</td>\n",
       "      <td>NaN</td>\n",
       "      <td>1.2</td>\n",
       "      <td>Petrol</td>\n",
       "      <td>yes</td>\n",
       "      <td>2016</td>\n",
       "      <td>Qashqai</td>\n",
       "      <td>front</td>\n",
       "    </tr>\n",
       "    <tr>\n",
       "      <th>17</th>\n",
       "      <td>Mercedes-Benz</td>\n",
       "      <td>99999.000</td>\n",
       "      <td>crossover</td>\n",
       "      <td>NaN</td>\n",
       "      <td>3.0</td>\n",
       "      <td>Petrol</td>\n",
       "      <td>yes</td>\n",
       "      <td>2016</td>\n",
       "      <td>GLE-Class</td>\n",
       "      <td>full</td>\n",
       "    </tr>\n",
       "    <tr>\n",
       "      <th>20</th>\n",
       "      <td>Land Rover</td>\n",
       "      <td>0.000</td>\n",
       "      <td>crossover</td>\n",
       "      <td>NaN</td>\n",
       "      <td>4.5</td>\n",
       "      <td>Diesel</td>\n",
       "      <td>yes</td>\n",
       "      <td>2016</td>\n",
       "      <td>Range Rover</td>\n",
       "      <td>full</td>\n",
       "    </tr>\n",
       "    <tr>\n",
       "      <th>21</th>\n",
       "      <td>Nissan</td>\n",
       "      <td>26033.553</td>\n",
       "      <td>crossover</td>\n",
       "      <td>NaN</td>\n",
       "      <td>1.6</td>\n",
       "      <td>Diesel</td>\n",
       "      <td>yes</td>\n",
       "      <td>2016</td>\n",
       "      <td>X-Trail</td>\n",
       "      <td>full</td>\n",
       "    </tr>\n",
       "    <tr>\n",
       "      <th>24</th>\n",
       "      <td>BMW</td>\n",
       "      <td>65099.000</td>\n",
       "      <td>crossover</td>\n",
       "      <td>NaN</td>\n",
       "      <td>2.0</td>\n",
       "      <td>Diesel</td>\n",
       "      <td>yes</td>\n",
       "      <td>2016</td>\n",
       "      <td>X5</td>\n",
       "      <td>full</td>\n",
       "    </tr>\n",
       "  </tbody>\n",
       "</table>\n",
       "</div>"
      ],
      "text/plain": [
       "              car      price       body  mileage  engV engType registration  \\\n",
       "10         Nissan  20447.154  crossover      NaN   1.2  Petrol          yes   \n",
       "17  Mercedes-Benz  99999.000  crossover      NaN   3.0  Petrol          yes   \n",
       "20     Land Rover      0.000  crossover      NaN   4.5  Diesel          yes   \n",
       "21         Nissan  26033.553  crossover      NaN   1.6  Diesel          yes   \n",
       "24            BMW  65099.000  crossover      NaN   2.0  Diesel          yes   \n",
       "\n",
       "    year        model  drive  \n",
       "10  2016      Qashqai  front  \n",
       "17  2016    GLE-Class   full  \n",
       "20  2016  Range Rover   full  \n",
       "21  2016      X-Trail   full  \n",
       "24  2016           X5   full  "
      ]
     },
     "execution_count": 36,
     "metadata": {},
     "output_type": "execute_result"
    }
   ],
   "source": [
    "car_df[car_df['mileage'].isna()].head()"
   ]
  },
  {
   "cell_type": "code",
   "execution_count": 37,
   "metadata": {},
   "outputs": [
    {
     "data": {
      "text/html": [
       "<div>\n",
       "<style scoped>\n",
       "    .dataframe tbody tr th:only-of-type {\n",
       "        vertical-align: middle;\n",
       "    }\n",
       "\n",
       "    .dataframe tbody tr th {\n",
       "        vertical-align: top;\n",
       "    }\n",
       "\n",
       "    .dataframe thead th {\n",
       "        text-align: right;\n",
       "    }\n",
       "</style>\n",
       "<table border=\"1\" class=\"dataframe\">\n",
       "  <thead>\n",
       "    <tr style=\"text-align: right;\">\n",
       "      <th></th>\n",
       "      <th>car</th>\n",
       "      <th>model</th>\n",
       "      <th>body</th>\n",
       "      <th>mileage</th>\n",
       "    </tr>\n",
       "  </thead>\n",
       "  <tbody>\n",
       "    <tr>\n",
       "      <th>0</th>\n",
       "      <td>Acura</td>\n",
       "      <td>MDX</td>\n",
       "      <td>crossover</td>\n",
       "      <td>85.0</td>\n",
       "    </tr>\n",
       "    <tr>\n",
       "      <th>1</th>\n",
       "      <td>Acura</td>\n",
       "      <td>RL</td>\n",
       "      <td>sedan</td>\n",
       "      <td>138.0</td>\n",
       "    </tr>\n",
       "    <tr>\n",
       "      <th>2</th>\n",
       "      <td>Acura</td>\n",
       "      <td>TL</td>\n",
       "      <td>sedan</td>\n",
       "      <td>145.0</td>\n",
       "    </tr>\n",
       "    <tr>\n",
       "      <th>3</th>\n",
       "      <td>Acura</td>\n",
       "      <td>TLX</td>\n",
       "      <td>sedan</td>\n",
       "      <td>4.0</td>\n",
       "    </tr>\n",
       "    <tr>\n",
       "      <th>4</th>\n",
       "      <td>Acura</td>\n",
       "      <td>ZDX</td>\n",
       "      <td>crossover</td>\n",
       "      <td>32.0</td>\n",
       "    </tr>\n",
       "  </tbody>\n",
       "</table>\n",
       "</div>"
      ],
      "text/plain": [
       "     car model       body  mileage\n",
       "0  Acura   MDX  crossover     85.0\n",
       "1  Acura    RL      sedan    138.0\n",
       "2  Acura    TL      sedan    145.0\n",
       "3  Acura   TLX      sedan      4.0\n",
       "4  Acura   ZDX  crossover     32.0"
      ]
     },
     "execution_count": 37,
     "metadata": {},
     "output_type": "execute_result"
    }
   ],
   "source": [
    "car_mil_median = car_df.groupby(['car','model','body'])['mileage'].apply(lambda x: x.median()).reset_index()\n",
    "car_mil_median.head()"
   ]
  },
  {
   "cell_type": "code",
   "execution_count": 38,
   "metadata": {},
   "outputs": [
    {
     "data": {
      "text/html": [
       "<div>\n",
       "<style scoped>\n",
       "    .dataframe tbody tr th:only-of-type {\n",
       "        vertical-align: middle;\n",
       "    }\n",
       "\n",
       "    .dataframe tbody tr th {\n",
       "        vertical-align: top;\n",
       "    }\n",
       "\n",
       "    .dataframe thead th {\n",
       "        text-align: right;\n",
       "    }\n",
       "</style>\n",
       "<table border=\"1\" class=\"dataframe\">\n",
       "  <thead>\n",
       "    <tr style=\"text-align: right;\">\n",
       "      <th></th>\n",
       "      <th>car</th>\n",
       "      <th>price</th>\n",
       "      <th>body</th>\n",
       "      <th>mileage</th>\n",
       "      <th>engV</th>\n",
       "      <th>engType</th>\n",
       "      <th>registration</th>\n",
       "      <th>year</th>\n",
       "      <th>model</th>\n",
       "      <th>drive</th>\n",
       "    </tr>\n",
       "  </thead>\n",
       "  <tbody>\n",
       "    <tr>\n",
       "      <th>10</th>\n",
       "      <td>Nissan</td>\n",
       "      <td>20447.154</td>\n",
       "      <td>crossover</td>\n",
       "      <td>79.0</td>\n",
       "      <td>1.2</td>\n",
       "      <td>Petrol</td>\n",
       "      <td>yes</td>\n",
       "      <td>2016</td>\n",
       "      <td>Qashqai</td>\n",
       "      <td>front</td>\n",
       "    </tr>\n",
       "    <tr>\n",
       "      <th>153</th>\n",
       "      <td>Nissan</td>\n",
       "      <td>15999.000</td>\n",
       "      <td>crossover</td>\n",
       "      <td>59.0</td>\n",
       "      <td>2.0</td>\n",
       "      <td>Petrol</td>\n",
       "      <td>yes</td>\n",
       "      <td>2011</td>\n",
       "      <td>Qashqai</td>\n",
       "      <td>full</td>\n",
       "    </tr>\n",
       "    <tr>\n",
       "      <th>154</th>\n",
       "      <td>Nissan</td>\n",
       "      <td>17700.000</td>\n",
       "      <td>crossover</td>\n",
       "      <td>40.0</td>\n",
       "      <td>1.6</td>\n",
       "      <td>Petrol</td>\n",
       "      <td>yes</td>\n",
       "      <td>2014</td>\n",
       "      <td>Qashqai</td>\n",
       "      <td>front</td>\n",
       "    </tr>\n",
       "    <tr>\n",
       "      <th>219</th>\n",
       "      <td>Nissan</td>\n",
       "      <td>11500.000</td>\n",
       "      <td>crossover</td>\n",
       "      <td>128.0</td>\n",
       "      <td>2.0</td>\n",
       "      <td>Petrol</td>\n",
       "      <td>yes</td>\n",
       "      <td>2008</td>\n",
       "      <td>Qashqai</td>\n",
       "      <td>front</td>\n",
       "    </tr>\n",
       "    <tr>\n",
       "      <th>236</th>\n",
       "      <td>Nissan</td>\n",
       "      <td>25382.955</td>\n",
       "      <td>crossover</td>\n",
       "      <td>79.0</td>\n",
       "      <td>1.6</td>\n",
       "      <td>Diesel</td>\n",
       "      <td>yes</td>\n",
       "      <td>2016</td>\n",
       "      <td>Qashqai</td>\n",
       "      <td>full</td>\n",
       "    </tr>\n",
       "  </tbody>\n",
       "</table>\n",
       "</div>"
      ],
      "text/plain": [
       "        car      price       body  mileage  engV engType registration  year  \\\n",
       "10   Nissan  20447.154  crossover     79.0   1.2  Petrol          yes  2016   \n",
       "153  Nissan  15999.000  crossover     59.0   2.0  Petrol          yes  2011   \n",
       "154  Nissan  17700.000  crossover     40.0   1.6  Petrol          yes  2014   \n",
       "219  Nissan  11500.000  crossover    128.0   2.0  Petrol          yes  2008   \n",
       "236  Nissan  25382.955  crossover     79.0   1.6  Diesel          yes  2016   \n",
       "\n",
       "       model  drive  \n",
       "10   Qashqai  front  \n",
       "153  Qashqai   full  \n",
       "154  Qashqai  front  \n",
       "219  Qashqai  front  \n",
       "236  Qashqai   full  "
      ]
     },
     "execution_count": 38,
     "metadata": {},
     "output_type": "execute_result"
    }
   ],
   "source": [
    "def replace_mil_med(mil):\n",
    "    if pd.isnull(mil['mileage']):     # if mileage is null, replace with median of car,model,body\n",
    "        mil_med = car_mil_median[(car_mil_median['car'] == mil['car']) & (car_mil_median['model'] == mil['model']) & (car_mil_median['body'] == mil['body'])]['mileage'].values[0]\n",
    "        if np.isnan(mil_med):   # if mileage is null, replace with median of car,model\n",
    "            mil_med = car_mil_median[(car_mil_median['car'] == mil['car']) & (car_mil_median['model'] == mil['model'])]['mileage'].values[0]\n",
    "            if np.isnan(mil_med): # if mileage is null, replace with median of car,body\n",
    "                mil_med = car_mil_median[(car_mil_median['car'] == mil['car']) & (car_mil_median['body'] == mil['body'])]['mileage'].values[0] \n",
    "                if np.isnan(mil_med): # if mileage is null, replace with median of car\n",
    "                    mil_med = car_mil_median[(car_mil_median['car'] == mil['car'])]['mileage'].values[0]       \n",
    "    else:\n",
    "        mil_med = mil['mileage']      # if not null keep it as it is\n",
    "    return mil_med\n",
    "\n",
    "car_df['mileage'] = car_df.apply(replace_mil_med,axis=1)\n",
    "\n",
    "\n",
    "\n",
    "# The new Data set will have a reference for replacement\n",
    "car_df.loc[(car_df['car']=='Nissan') & (car_df['model']=='Qashqai') & (car_df['body']=='crossover')].head()"
   ]
  },
  {
   "cell_type": "code",
   "execution_count": 39,
   "metadata": {},
   "outputs": [
    {
     "name": "stdout",
     "output_type": "stream",
     "text": [
      "Number of missing values before processing: 0\n"
     ]
    }
   ],
   "source": [
    "print('Number of missing values before processing:',car_df.mileage.isna().sum())"
   ]
  },
  {
   "cell_type": "code",
   "execution_count": 40,
   "metadata": {},
   "outputs": [
    {
     "data": {
      "text/plain": [
       "count    9463.000000\n",
       "mean      143.092465\n",
       "std        96.499909\n",
       "min         1.000000\n",
       "25%        76.000000\n",
       "50%       130.000000\n",
       "75%       196.000000\n",
       "max       999.000000\n",
       "Name: mileage, dtype: float64"
      ]
     },
     "execution_count": 40,
     "metadata": {},
     "output_type": "execute_result"
    }
   ],
   "source": [
    "car_df.mileage.describe()"
   ]
  },
  {
   "cell_type": "markdown",
   "metadata": {},
   "source": [
    "##### 3.3.5.2 Replace erronous values of __mileage__ with 5th and 95th quantile values based on car group brand/model/body type.\n",
    "The max and min of milage indicate there quite a few outliers.\n",
    "\n",
    "For example from above Nissan Qashqai crossover 2015 model which has value of 1 should be checked."
   ]
  },
  {
   "cell_type": "code",
   "execution_count": 41,
   "metadata": {},
   "outputs": [
    {
     "data": {
      "text/html": [
       "<div>\n",
       "<style scoped>\n",
       "    .dataframe tbody tr th:only-of-type {\n",
       "        vertical-align: middle;\n",
       "    }\n",
       "\n",
       "    .dataframe tbody tr th {\n",
       "        vertical-align: top;\n",
       "    }\n",
       "\n",
       "    .dataframe thead th {\n",
       "        text-align: right;\n",
       "    }\n",
       "</style>\n",
       "<table border=\"1\" class=\"dataframe\">\n",
       "  <thead>\n",
       "    <tr style=\"text-align: right;\">\n",
       "      <th></th>\n",
       "      <th>car</th>\n",
       "      <th>price</th>\n",
       "      <th>body</th>\n",
       "      <th>mileage</th>\n",
       "      <th>engV</th>\n",
       "      <th>engType</th>\n",
       "      <th>registration</th>\n",
       "      <th>year</th>\n",
       "      <th>model</th>\n",
       "      <th>drive</th>\n",
       "    </tr>\n",
       "  </thead>\n",
       "  <tbody>\n",
       "    <tr>\n",
       "      <th>660</th>\n",
       "      <td>Nissan</td>\n",
       "      <td>21303.75</td>\n",
       "      <td>crossover</td>\n",
       "      <td>1.0</td>\n",
       "      <td>2.0</td>\n",
       "      <td>Petrol</td>\n",
       "      <td>yes</td>\n",
       "      <td>2015</td>\n",
       "      <td>Qashqai</td>\n",
       "      <td>front</td>\n",
       "    </tr>\n",
       "    <tr>\n",
       "      <th>1273</th>\n",
       "      <td>Nissan</td>\n",
       "      <td>21900.00</td>\n",
       "      <td>crossover</td>\n",
       "      <td>30.0</td>\n",
       "      <td>1.2</td>\n",
       "      <td>Petrol</td>\n",
       "      <td>yes</td>\n",
       "      <td>2015</td>\n",
       "      <td>Qashqai</td>\n",
       "      <td>front</td>\n",
       "    </tr>\n",
       "    <tr>\n",
       "      <th>9404</th>\n",
       "      <td>Nissan</td>\n",
       "      <td>24500.00</td>\n",
       "      <td>crossover</td>\n",
       "      <td>62.0</td>\n",
       "      <td>1.6</td>\n",
       "      <td>Diesel</td>\n",
       "      <td>yes</td>\n",
       "      <td>2015</td>\n",
       "      <td>Qashqai</td>\n",
       "      <td>front</td>\n",
       "    </tr>\n",
       "  </tbody>\n",
       "</table>\n",
       "</div>"
      ],
      "text/plain": [
       "         car     price       body  mileage  engV engType registration  year  \\\n",
       "660   Nissan  21303.75  crossover      1.0   2.0  Petrol          yes  2015   \n",
       "1273  Nissan  21900.00  crossover     30.0   1.2  Petrol          yes  2015   \n",
       "9404  Nissan  24500.00  crossover     62.0   1.6  Diesel          yes  2015   \n",
       "\n",
       "        model  drive  \n",
       "660   Qashqai  front  \n",
       "1273  Qashqai  front  \n",
       "9404  Qashqai  front  "
      ]
     },
     "execution_count": 41,
     "metadata": {},
     "output_type": "execute_result"
    }
   ],
   "source": [
    "car_df.loc[(car_df['car']=='Nissan') & (car_df['model']=='Qashqai') & (car_df['body']=='crossover') & (car_df['year']==2015)]"
   ]
  },
  {
   "cell_type": "code",
   "execution_count": 42,
   "metadata": {},
   "outputs": [],
   "source": [
    "# create a data set group by car,model and median,quartile 1,quartile 3 quantile of engV\n",
    "mileage_median = car_df.mileage.median()\n",
    "mileage_Q3 = car_df.mileage.quantile(0.75)\n",
    "mileage_Q1 = car_df.mileage.quantile(0.25)\n",
    "\n",
    "car_mil_median = car_df.groupby(['car','model','body'])['mileage'].apply(lambda x: x.median()).reset_index()\n",
    "car_mil_median.rename(columns={'mileage':'mil_Med'},inplace=True)\n",
    "car_mil_median['mil25'] = car_df.groupby(['car','model','body'])['mileage'].apply(lambda x: x.quantile(0.25)).reset_index()['mileage']\n",
    "car_mil_median['mil75'] = car_df.groupby(['car','model','body'])['mileage'].apply(lambda x: x.quantile(0.75)).reset_index()['mileage']\n"
   ]
  },
  {
   "cell_type": "code",
   "execution_count": 44,
   "metadata": {},
   "outputs": [],
   "source": [
    "# functions to replace the outliers for a data set:  \n",
    "# if median + 1.5*IQR replace with 75th percentile\n",
    "# if median - 1.5*IQR replace with 25th percentile\n",
    "\n",
    "def replc_mil_out(dat,clm):\n",
    "    dat_median = car_mil_median[(car_mil_median['car'] == dat['car']) & (car_mil_median['model'] == dat['model']) & (car_mil_median['body'] == dat['body'])]['mil_Med'].values[0]\n",
    "    q1 = car_mil_median[(car_mil_median['car'] == dat['car']) & (car_mil_median['model'] == dat['model']) & (car_mil_median['body'] == dat['body'])]['mil25'].values[0]\n",
    "    q3 = car_mil_median[(car_mil_median['car'] == dat['car']) & (car_mil_median['model'] == dat['model']) & (car_mil_median['body'] == dat['body'])]['mil75'].values[0]\n",
    "    if dat[clm] > (q3 + (1.5*(q3-q1))):\n",
    "        mil_replace = car_mil_median[(car_mil_median['car'] == dat['car']) & (car_mil_median['model'] == dat['model']) & (car_mil_median['body'] == dat['body'])]['mil_Med'].values[0]\n",
    "    elif dat[clm] < (q1 - (1.5*(q3-q1))):\n",
    "        mil_replace = car_mil_median[(car_mil_median['car'] == dat['car']) & (car_mil_median['model'] == dat['model']) & (car_mil_median['body'] == dat['body'])]['mil_Med'].values[0]\n",
    "    else:\n",
    "        mil_replace = dat[clm]\n",
    "    return mil_replace"
   ]
  },
  {
   "cell_type": "code",
   "execution_count": 45,
   "metadata": {},
   "outputs": [
    {
     "data": {
      "text/html": [
       "<div>\n",
       "<style scoped>\n",
       "    .dataframe tbody tr th:only-of-type {\n",
       "        vertical-align: middle;\n",
       "    }\n",
       "\n",
       "    .dataframe tbody tr th {\n",
       "        vertical-align: top;\n",
       "    }\n",
       "\n",
       "    .dataframe thead th {\n",
       "        text-align: right;\n",
       "    }\n",
       "</style>\n",
       "<table border=\"1\" class=\"dataframe\">\n",
       "  <thead>\n",
       "    <tr style=\"text-align: right;\">\n",
       "      <th></th>\n",
       "      <th>car</th>\n",
       "      <th>price</th>\n",
       "      <th>body</th>\n",
       "      <th>mileage</th>\n",
       "      <th>engV</th>\n",
       "      <th>engType</th>\n",
       "      <th>registration</th>\n",
       "      <th>year</th>\n",
       "      <th>model</th>\n",
       "      <th>drive</th>\n",
       "    </tr>\n",
       "  </thead>\n",
       "  <tbody>\n",
       "    <tr>\n",
       "      <th>660</th>\n",
       "      <td>Nissan</td>\n",
       "      <td>21303.75</td>\n",
       "      <td>crossover</td>\n",
       "      <td>1.0</td>\n",
       "      <td>2.0</td>\n",
       "      <td>Petrol</td>\n",
       "      <td>yes</td>\n",
       "      <td>2015</td>\n",
       "      <td>Qashqai</td>\n",
       "      <td>front</td>\n",
       "    </tr>\n",
       "    <tr>\n",
       "      <th>1273</th>\n",
       "      <td>Nissan</td>\n",
       "      <td>21900.00</td>\n",
       "      <td>crossover</td>\n",
       "      <td>30.0</td>\n",
       "      <td>1.2</td>\n",
       "      <td>Petrol</td>\n",
       "      <td>yes</td>\n",
       "      <td>2015</td>\n",
       "      <td>Qashqai</td>\n",
       "      <td>front</td>\n",
       "    </tr>\n",
       "    <tr>\n",
       "      <th>9404</th>\n",
       "      <td>Nissan</td>\n",
       "      <td>24500.00</td>\n",
       "      <td>crossover</td>\n",
       "      <td>62.0</td>\n",
       "      <td>1.6</td>\n",
       "      <td>Diesel</td>\n",
       "      <td>yes</td>\n",
       "      <td>2015</td>\n",
       "      <td>Qashqai</td>\n",
       "      <td>front</td>\n",
       "    </tr>\n",
       "  </tbody>\n",
       "</table>\n",
       "</div>"
      ],
      "text/plain": [
       "         car     price       body  mileage  engV engType registration  year  \\\n",
       "660   Nissan  21303.75  crossover      1.0   2.0  Petrol          yes  2015   \n",
       "1273  Nissan  21900.00  crossover     30.0   1.2  Petrol          yes  2015   \n",
       "9404  Nissan  24500.00  crossover     62.0   1.6  Diesel          yes  2015   \n",
       "\n",
       "        model  drive  \n",
       "660   Qashqai  front  \n",
       "1273  Qashqai  front  \n",
       "9404  Qashqai  front  "
      ]
     },
     "execution_count": 45,
     "metadata": {},
     "output_type": "execute_result"
    }
   ],
   "source": [
    "car_df['mileage'] = car_df.apply(lambda x : replc_mil_out(dat=x,clm='mileage'),axis=1)\n",
    "car_df.loc[(car_df['car']=='Nissan') & (car_df['model']=='Qashqai') & (car_df['body']=='crossover') & (car_df['year']==2015)]"
   ]
  },
  {
   "cell_type": "code",
   "execution_count": 46,
   "metadata": {},
   "outputs": [
    {
     "data": {
      "text/plain": [
       "count    9463.000000\n",
       "mean      140.617299\n",
       "std        88.416891\n",
       "min         1.000000\n",
       "25%        78.000000\n",
       "50%       130.000000\n",
       "75%       190.000000\n",
       "max       999.000000\n",
       "Name: mileage, dtype: float64"
      ]
     },
     "execution_count": 46,
     "metadata": {},
     "output_type": "execute_result"
    }
   ],
   "source": [
    "car_df.mileage.describe()"
   ]
  },
  {
   "cell_type": "markdown",
   "metadata": {},
   "source": [
    "For example from above Nissan Qashqai crossover 2015 model which has value of 1 is very low but it is still in 1.5*IQR range, so this can be left as it is."
   ]
  },
  {
   "cell_type": "markdown",
   "metadata": {},
   "source": [
    "#### 3.3.6 price has 240 zeros and erronous values for max and min.<a id='section303_6'></a>\n",
    "Treating zeros as missing values.Replace missing values of __price__ with median values based on car group brand/model/body type."
   ]
  },
  {
   "cell_type": "code",
   "execution_count": 47,
   "metadata": {},
   "outputs": [
    {
     "name": "stdout",
     "output_type": "stream",
     "text": [
      "Number of missing values before processing: 240\n"
     ]
    }
   ],
   "source": [
    "car_df.replace({'price':0},np.nan,inplace=True)\n",
    "print('Number of missing values before processing:',car_df.price.isna().sum())"
   ]
  },
  {
   "cell_type": "markdown",
   "metadata": {},
   "source": [
    "price is of data type float and measured with units USD.The missing values will be replaced with median based on car brand,model and body combination.\n",
    "For example from above Land Rover Range Rover crossover 2016 model has a NAN."
   ]
  },
  {
   "cell_type": "code",
   "execution_count": 48,
   "metadata": {},
   "outputs": [
    {
     "data": {
      "text/html": [
       "<div>\n",
       "<style scoped>\n",
       "    .dataframe tbody tr th:only-of-type {\n",
       "        vertical-align: middle;\n",
       "    }\n",
       "\n",
       "    .dataframe tbody tr th {\n",
       "        vertical-align: top;\n",
       "    }\n",
       "\n",
       "    .dataframe thead th {\n",
       "        text-align: right;\n",
       "    }\n",
       "</style>\n",
       "<table border=\"1\" class=\"dataframe\">\n",
       "  <thead>\n",
       "    <tr style=\"text-align: right;\">\n",
       "      <th></th>\n",
       "      <th>car</th>\n",
       "      <th>price</th>\n",
       "      <th>body</th>\n",
       "      <th>mileage</th>\n",
       "      <th>engV</th>\n",
       "      <th>engType</th>\n",
       "      <th>registration</th>\n",
       "      <th>year</th>\n",
       "      <th>model</th>\n",
       "      <th>drive</th>\n",
       "    </tr>\n",
       "  </thead>\n",
       "  <tbody>\n",
       "    <tr>\n",
       "      <th>20</th>\n",
       "      <td>Land Rover</td>\n",
       "      <td>NaN</td>\n",
       "      <td>crossover</td>\n",
       "      <td>81.5</td>\n",
       "      <td>4.5</td>\n",
       "      <td>Diesel</td>\n",
       "      <td>yes</td>\n",
       "      <td>2016</td>\n",
       "      <td>Range Rover</td>\n",
       "      <td>full</td>\n",
       "    </tr>\n",
       "    <tr>\n",
       "      <th>53</th>\n",
       "      <td>Mercedes-Benz</td>\n",
       "      <td>NaN</td>\n",
       "      <td>crossover</td>\n",
       "      <td>1.0</td>\n",
       "      <td>3.0</td>\n",
       "      <td>Diesel</td>\n",
       "      <td>yes</td>\n",
       "      <td>2016</td>\n",
       "      <td>GLE-Class</td>\n",
       "      <td>full</td>\n",
       "    </tr>\n",
       "    <tr>\n",
       "      <th>71</th>\n",
       "      <td>Toyota</td>\n",
       "      <td>NaN</td>\n",
       "      <td>crossover</td>\n",
       "      <td>68.0</td>\n",
       "      <td>4.5</td>\n",
       "      <td>Diesel</td>\n",
       "      <td>yes</td>\n",
       "      <td>2016</td>\n",
       "      <td>Land Cruiser 200</td>\n",
       "      <td>full</td>\n",
       "    </tr>\n",
       "    <tr>\n",
       "      <th>90</th>\n",
       "      <td>Porsche</td>\n",
       "      <td>NaN</td>\n",
       "      <td>sedan</td>\n",
       "      <td>22.0</td>\n",
       "      <td>4.5</td>\n",
       "      <td>Petrol</td>\n",
       "      <td>yes</td>\n",
       "      <td>2014</td>\n",
       "      <td>Panamera</td>\n",
       "      <td>full</td>\n",
       "    </tr>\n",
       "    <tr>\n",
       "      <th>92</th>\n",
       "      <td>Audi</td>\n",
       "      <td>NaN</td>\n",
       "      <td>crossover</td>\n",
       "      <td>126.0</td>\n",
       "      <td>3.0</td>\n",
       "      <td>Diesel</td>\n",
       "      <td>yes</td>\n",
       "      <td>2015</td>\n",
       "      <td>Q7</td>\n",
       "      <td>full</td>\n",
       "    </tr>\n",
       "  </tbody>\n",
       "</table>\n",
       "</div>"
      ],
      "text/plain": [
       "              car  price       body  mileage  engV engType registration  year  \\\n",
       "20     Land Rover    NaN  crossover     81.5   4.5  Diesel          yes  2016   \n",
       "53  Mercedes-Benz    NaN  crossover      1.0   3.0  Diesel          yes  2016   \n",
       "71         Toyota    NaN  crossover     68.0   4.5  Diesel          yes  2016   \n",
       "90        Porsche    NaN      sedan     22.0   4.5  Petrol          yes  2014   \n",
       "92           Audi    NaN  crossover    126.0   3.0  Diesel          yes  2015   \n",
       "\n",
       "               model drive  \n",
       "20       Range Rover  full  \n",
       "53         GLE-Class  full  \n",
       "71  Land Cruiser 200  full  \n",
       "90          Panamera  full  \n",
       "92                Q7  full  "
      ]
     },
     "execution_count": 48,
     "metadata": {},
     "output_type": "execute_result"
    }
   ],
   "source": [
    "car_df[car_df['price'].isna()].head()"
   ]
  },
  {
   "cell_type": "code",
   "execution_count": 49,
   "metadata": {},
   "outputs": [
    {
     "data": {
      "text/html": [
       "<div>\n",
       "<style scoped>\n",
       "    .dataframe tbody tr th:only-of-type {\n",
       "        vertical-align: middle;\n",
       "    }\n",
       "\n",
       "    .dataframe tbody tr th {\n",
       "        vertical-align: top;\n",
       "    }\n",
       "\n",
       "    .dataframe thead th {\n",
       "        text-align: right;\n",
       "    }\n",
       "</style>\n",
       "<table border=\"1\" class=\"dataframe\">\n",
       "  <thead>\n",
       "    <tr style=\"text-align: right;\">\n",
       "      <th></th>\n",
       "      <th>car</th>\n",
       "      <th>model</th>\n",
       "      <th>body</th>\n",
       "      <th>price</th>\n",
       "    </tr>\n",
       "  </thead>\n",
       "  <tbody>\n",
       "    <tr>\n",
       "      <th>0</th>\n",
       "      <td>Acura</td>\n",
       "      <td>MDX</td>\n",
       "      <td>crossover</td>\n",
       "      <td>17200.0</td>\n",
       "    </tr>\n",
       "    <tr>\n",
       "      <th>1</th>\n",
       "      <td>Acura</td>\n",
       "      <td>RL</td>\n",
       "      <td>sedan</td>\n",
       "      <td>13950.0</td>\n",
       "    </tr>\n",
       "    <tr>\n",
       "      <th>2</th>\n",
       "      <td>Acura</td>\n",
       "      <td>TL</td>\n",
       "      <td>sedan</td>\n",
       "      <td>8699.0</td>\n",
       "    </tr>\n",
       "    <tr>\n",
       "      <th>3</th>\n",
       "      <td>Acura</td>\n",
       "      <td>TLX</td>\n",
       "      <td>sedan</td>\n",
       "      <td>38200.0</td>\n",
       "    </tr>\n",
       "    <tr>\n",
       "      <th>4</th>\n",
       "      <td>Acura</td>\n",
       "      <td>ZDX</td>\n",
       "      <td>crossover</td>\n",
       "      <td>30999.0</td>\n",
       "    </tr>\n",
       "  </tbody>\n",
       "</table>\n",
       "</div>"
      ],
      "text/plain": [
       "     car model       body    price\n",
       "0  Acura   MDX  crossover  17200.0\n",
       "1  Acura    RL      sedan  13950.0\n",
       "2  Acura    TL      sedan   8699.0\n",
       "3  Acura   TLX      sedan  38200.0\n",
       "4  Acura   ZDX  crossover  30999.0"
      ]
     },
     "execution_count": 49,
     "metadata": {},
     "output_type": "execute_result"
    }
   ],
   "source": [
    "car_price_median = car_df.groupby(['car','model','body'])['price'].apply(lambda x: x.median()).reset_index()\n",
    "car_price_median.head()"
   ]
  },
  {
   "cell_type": "code",
   "execution_count": 50,
   "metadata": {},
   "outputs": [
    {
     "data": {
      "text/html": [
       "<div>\n",
       "<style scoped>\n",
       "    .dataframe tbody tr th:only-of-type {\n",
       "        vertical-align: middle;\n",
       "    }\n",
       "\n",
       "    .dataframe tbody tr th {\n",
       "        vertical-align: top;\n",
       "    }\n",
       "\n",
       "    .dataframe thead th {\n",
       "        text-align: right;\n",
       "    }\n",
       "</style>\n",
       "<table border=\"1\" class=\"dataframe\">\n",
       "  <thead>\n",
       "    <tr style=\"text-align: right;\">\n",
       "      <th></th>\n",
       "      <th>car</th>\n",
       "      <th>price</th>\n",
       "      <th>body</th>\n",
       "      <th>mileage</th>\n",
       "      <th>engV</th>\n",
       "      <th>engType</th>\n",
       "      <th>registration</th>\n",
       "      <th>year</th>\n",
       "      <th>model</th>\n",
       "      <th>drive</th>\n",
       "    </tr>\n",
       "  </thead>\n",
       "  <tbody>\n",
       "    <tr>\n",
       "      <th>20</th>\n",
       "      <td>Land Rover</td>\n",
       "      <td>46450.0</td>\n",
       "      <td>crossover</td>\n",
       "      <td>81.5</td>\n",
       "      <td>4.5</td>\n",
       "      <td>Diesel</td>\n",
       "      <td>yes</td>\n",
       "      <td>2016</td>\n",
       "      <td>Range Rover</td>\n",
       "      <td>full</td>\n",
       "    </tr>\n",
       "    <tr>\n",
       "      <th>320</th>\n",
       "      <td>Land Rover</td>\n",
       "      <td>102999.0</td>\n",
       "      <td>crossover</td>\n",
       "      <td>39.0</td>\n",
       "      <td>4.5</td>\n",
       "      <td>Petrol</td>\n",
       "      <td>yes</td>\n",
       "      <td>2014</td>\n",
       "      <td>Range Rover</td>\n",
       "      <td>full</td>\n",
       "    </tr>\n",
       "    <tr>\n",
       "      <th>333</th>\n",
       "      <td>Land Rover</td>\n",
       "      <td>95000.0</td>\n",
       "      <td>crossover</td>\n",
       "      <td>60.0</td>\n",
       "      <td>4.5</td>\n",
       "      <td>Petrol</td>\n",
       "      <td>yes</td>\n",
       "      <td>2014</td>\n",
       "      <td>Range Rover</td>\n",
       "      <td>full</td>\n",
       "    </tr>\n",
       "    <tr>\n",
       "      <th>420</th>\n",
       "      <td>Land Rover</td>\n",
       "      <td>47500.0</td>\n",
       "      <td>crossover</td>\n",
       "      <td>63.0</td>\n",
       "      <td>4.5</td>\n",
       "      <td>Diesel</td>\n",
       "      <td>yes</td>\n",
       "      <td>2012</td>\n",
       "      <td>Range Rover</td>\n",
       "      <td>full</td>\n",
       "    </tr>\n",
       "    <tr>\n",
       "      <th>432</th>\n",
       "      <td>Land Rover</td>\n",
       "      <td>99000.0</td>\n",
       "      <td>crossover</td>\n",
       "      <td>50.0</td>\n",
       "      <td>4.5</td>\n",
       "      <td>Diesel</td>\n",
       "      <td>yes</td>\n",
       "      <td>2013</td>\n",
       "      <td>Range Rover</td>\n",
       "      <td>full</td>\n",
       "    </tr>\n",
       "  </tbody>\n",
       "</table>\n",
       "</div>"
      ],
      "text/plain": [
       "            car     price       body  mileage  engV engType registration  \\\n",
       "20   Land Rover   46450.0  crossover     81.5   4.5  Diesel          yes   \n",
       "320  Land Rover  102999.0  crossover     39.0   4.5  Petrol          yes   \n",
       "333  Land Rover   95000.0  crossover     60.0   4.5  Petrol          yes   \n",
       "420  Land Rover   47500.0  crossover     63.0   4.5  Diesel          yes   \n",
       "432  Land Rover   99000.0  crossover     50.0   4.5  Diesel          yes   \n",
       "\n",
       "     year        model drive  \n",
       "20   2016  Range Rover  full  \n",
       "320  2014  Range Rover  full  \n",
       "333  2014  Range Rover  full  \n",
       "420  2012  Range Rover  full  \n",
       "432  2013  Range Rover  full  "
      ]
     },
     "execution_count": 50,
     "metadata": {},
     "output_type": "execute_result"
    }
   ],
   "source": [
    "def replace_price_med(prc):\n",
    "    if pd.isnull(prc['price']):     \n",
    "        prc_med = car_price_median[(car_price_median['car'] == prc['car']) & (car_price_median['model'] == prc['model']) & (car_price_median['body'] == prc['body'])]['price'].values[0]\n",
    "        if np.isnan(prc_med):\n",
    "            prc_med = car_price_median[(car_price_median['car'] == prc['car']) & (car_price_median['model'] == prc['model'])]['price'].values[0]\n",
    "            if np.isnan(prc_med): \n",
    "                prc_med = car_price_median[(car_price_median['car'] == prc['car']) & (car_price_median['body'] == prc['body'])]['price'].values[0] \n",
    "                if np.isnan(prc_med): \n",
    "                    prc_med = car_price_median[(car_price_median['car'] == prc['car'])]['price'].values[0] \n",
    "                    if np.isnan(prc_med):\n",
    "                        prc_med = car_df[(car_df['car'] == prc['car'])]['price'].values[0]\n",
    "                        if np.isnan(prc_med):\n",
    "                            prc_med = car_df.price.median()\n",
    "    else:\n",
    "        prc_med = prc['price']      # if not null keep it as it is\n",
    "    return prc_med\n",
    "\n",
    "car_df['price'] = car_df.apply(replace_price_med,axis=1)\n",
    "\n",
    "\n",
    "\n",
    "# The new Data set will have a reference for replacement\n",
    "car_df.loc[(car_df['car']=='Land Rover') & (car_df['model']=='Range Rover') & (car_df['body']=='crossover')].head()"
   ]
  },
  {
   "cell_type": "code",
   "execution_count": 51,
   "metadata": {},
   "outputs": [
    {
     "name": "stdout",
     "output_type": "stream",
     "text": [
      "Number of missing values before processing: 0\n"
     ]
    }
   ],
   "source": [
    "print('Number of missing values before processing:',car_df.price.isna().sum())"
   ]
  },
  {
   "cell_type": "code",
   "execution_count": 52,
   "metadata": {},
   "outputs": [
    {
     "data": {
      "text/plain": [
       "count      9463.000000\n",
       "mean      16143.723468\n",
       "std       24363.777415\n",
       "min         259.350000\n",
       "25%        5450.000000\n",
       "50%        9500.000000\n",
       "75%       17000.000000\n",
       "max      547800.000000\n",
       "Name: price, dtype: float64"
      ]
     },
     "execution_count": 52,
     "metadata": {},
     "output_type": "execute_result"
    }
   ],
   "source": [
    "car_df.price.describe()"
   ]
  },
  {
   "cell_type": "code",
   "execution_count": 53,
   "metadata": {},
   "outputs": [
    {
     "data": {
      "text/html": [
       "<div>\n",
       "<style scoped>\n",
       "    .dataframe tbody tr th:only-of-type {\n",
       "        vertical-align: middle;\n",
       "    }\n",
       "\n",
       "    .dataframe tbody tr th {\n",
       "        vertical-align: top;\n",
       "    }\n",
       "\n",
       "    .dataframe thead th {\n",
       "        text-align: right;\n",
       "    }\n",
       "</style>\n",
       "<table border=\"1\" class=\"dataframe\">\n",
       "  <thead>\n",
       "    <tr style=\"text-align: right;\">\n",
       "      <th></th>\n",
       "      <th>car</th>\n",
       "      <th>price</th>\n",
       "      <th>body</th>\n",
       "      <th>mileage</th>\n",
       "      <th>engV</th>\n",
       "      <th>engType</th>\n",
       "      <th>registration</th>\n",
       "      <th>year</th>\n",
       "      <th>model</th>\n",
       "      <th>drive</th>\n",
       "    </tr>\n",
       "  </thead>\n",
       "  <tbody>\n",
       "    <tr>\n",
       "      <th>0</th>\n",
       "      <td>Ford</td>\n",
       "      <td>15500.0</td>\n",
       "      <td>crossover</td>\n",
       "      <td>68.0</td>\n",
       "      <td>2.5</td>\n",
       "      <td>Gas</td>\n",
       "      <td>yes</td>\n",
       "      <td>2010</td>\n",
       "      <td>Kuga</td>\n",
       "      <td>full</td>\n",
       "    </tr>\n",
       "    <tr>\n",
       "      <th>1</th>\n",
       "      <td>Mercedes-Benz</td>\n",
       "      <td>20500.0</td>\n",
       "      <td>sedan</td>\n",
       "      <td>173.0</td>\n",
       "      <td>1.8</td>\n",
       "      <td>Gas</td>\n",
       "      <td>yes</td>\n",
       "      <td>2011</td>\n",
       "      <td>E-Class</td>\n",
       "      <td>rear</td>\n",
       "    </tr>\n",
       "    <tr>\n",
       "      <th>2</th>\n",
       "      <td>Mercedes-Benz</td>\n",
       "      <td>35000.0</td>\n",
       "      <td>other</td>\n",
       "      <td>135.0</td>\n",
       "      <td>4.5</td>\n",
       "      <td>Petrol</td>\n",
       "      <td>yes</td>\n",
       "      <td>2008</td>\n",
       "      <td>CL 550</td>\n",
       "      <td>rear</td>\n",
       "    </tr>\n",
       "    <tr>\n",
       "      <th>3</th>\n",
       "      <td>Mercedes-Benz</td>\n",
       "      <td>17800.0</td>\n",
       "      <td>van</td>\n",
       "      <td>162.0</td>\n",
       "      <td>1.8</td>\n",
       "      <td>Diesel</td>\n",
       "      <td>yes</td>\n",
       "      <td>2012</td>\n",
       "      <td>B 180</td>\n",
       "      <td>front</td>\n",
       "    </tr>\n",
       "    <tr>\n",
       "      <th>4</th>\n",
       "      <td>Mercedes-Benz</td>\n",
       "      <td>33000.0</td>\n",
       "      <td>vagon</td>\n",
       "      <td>91.0</td>\n",
       "      <td>2.2</td>\n",
       "      <td>Diesel</td>\n",
       "      <td>yes</td>\n",
       "      <td>2013</td>\n",
       "      <td>E-Class</td>\n",
       "      <td>rear</td>\n",
       "    </tr>\n",
       "  </tbody>\n",
       "</table>\n",
       "</div>"
      ],
      "text/plain": [
       "             car    price       body  mileage  engV engType registration  \\\n",
       "0           Ford  15500.0  crossover     68.0   2.5     Gas          yes   \n",
       "1  Mercedes-Benz  20500.0      sedan    173.0   1.8     Gas          yes   \n",
       "2  Mercedes-Benz  35000.0      other    135.0   4.5  Petrol          yes   \n",
       "3  Mercedes-Benz  17800.0        van    162.0   1.8  Diesel          yes   \n",
       "4  Mercedes-Benz  33000.0      vagon     91.0   2.2  Diesel          yes   \n",
       "\n",
       "   year    model  drive  \n",
       "0  2010     Kuga   full  \n",
       "1  2011  E-Class   rear  \n",
       "2  2008   CL 550   rear  \n",
       "3  2012    B 180  front  \n",
       "4  2013  E-Class   rear  "
      ]
     },
     "execution_count": 53,
     "metadata": {},
     "output_type": "execute_result"
    }
   ],
   "source": [
    "car_df.head()"
   ]
  },
  {
   "cell_type": "markdown",
   "metadata": {},
   "source": [
    "### 3.4 Post Pandas Profiling            <a id='section304'></a>"
   ]
  },
  {
   "cell_type": "code",
   "execution_count": 54,
   "metadata": {},
   "outputs": [],
   "source": [
    "#profile = pandas_profiling.ProfileReport(car_df)\n",
    "#profile.to_file(outputfile=\"cars_post_processing.html\")"
   ]
  },
  {
   "cell_type": "markdown",
   "metadata": {},
   "source": [
    "After preprocessing the data,the dataset doesnot contain missing values.\n",
    "The observation from cars_post_processing.html report, is as below:\n",
    "- In the Dataset info, Total __Missing(%)__ = __0.0%__ \n",
    "- Number of __variables__ = __11__ "
   ]
  },
  {
   "cell_type": "markdown",
   "metadata": {},
   "source": [
    "## 4. Questions  <a id='section4'></a>"
   ]
  },
  {
   "cell_type": "markdown",
   "metadata": {},
   "source": [
    "### 4.1 Which brand of cars are most available/sold in this market?  <a id='section401'></a>"
   ]
  },
  {
   "cell_type": "code",
   "execution_count": 139,
   "metadata": {
    "slideshow": {
     "slide_type": "slide"
    }
   },
   "outputs": [
    {
     "data": {
      "image/png": "[encoded data removed]",
      "text/plain": [
       "<Figure size 720x576 with 1 Axes>"
      ]
     },
     "metadata": {
      "needs_background": "light"
     },
     "output_type": "display_data"
    }
   ],
   "source": [
    "cx = car_df['car'].value_counts().head(10).plot(kind='bar',title='Top 10 car brands')\n",
    "cx.set_xlabel(\"Car Brands\")\n",
    "cx.set_ylabel(\"Count of Car\")\n",
    "for i in cx.patches:\n",
    "    cx.text(i.get_x(),i.get_height()+9,str(i.get_height()))\n",
    "mat.rcParams['figure.figsize'] = [10.0, 8.0]"
   ]
  },
  {
   "cell_type": "markdown",
   "metadata": {},
   "source": [
    "### 4.2  What is the market share of car brands in this market based on volume and revenue?  <a id='section402'></a>"
   ]
  },
  {
   "cell_type": "code",
   "execution_count": 56,
   "metadata": {},
   "outputs": [],
   "source": [
    "def mark_others(x):\n",
    "    if x['car'] in car_df['car'].value_counts().head():\n",
    "        return x['car']\n",
    "    else:\n",
    "        return 'Other'\n",
    "\n",
    "oth_car = car_df.apply(mark_others,axis=1)"
   ]
  },
  {
   "cell_type": "code",
   "execution_count": 57,
   "metadata": {},
   "outputs": [],
   "source": [
    "car_price = car_df.groupby(['car'])['price'].apply(lambda x: '%.2f' % x.sum()).reset_index()\n",
    "car_price['price'] = pd.to_numeric(car_price['price'])\n",
    "car_price['car'] = car_price.apply(mark_others,axis=1)\n",
    "car_price = car_price.groupby(['car'])['price'].apply(lambda x: '%.2f' % x.sum()).reset_index()"
   ]
  },
  {
   "cell_type": "code",
   "execution_count": 143,
   "metadata": {
    "slideshow": {
     "slide_type": "slide"
    }
   },
   "outputs": [
    {
     "data": {
      "image/png": "[encoded data removed]",
      "text/plain": [
       "<Figure size 720x720 with 2 Axes>"
      ]
     },
     "metadata": {},
     "output_type": "display_data"
    }
   ],
   "source": [
    "from matplotlib.gridspec import GridSpec\n",
    "the_grid = GridSpec(1, 2)\n",
    "plt.subplot(the_grid[0, 0], aspect=1)\n",
    "plt.pie(oth_car.value_counts().values, labels=oth_car.value_counts().index,autopct='%1.0f%%',explode=[0.05,0.1,0,0,0,0])\n",
    "plt.title('Share by volume')\n",
    "plt.axis('equal')\n",
    "plt.tight_layout()\n",
    "plt.subplot(the_grid[0, 1], aspect=1)\n",
    "plt.pie(car_price['price'], labels=car_price['car'],autopct='%1.0f%%',explode=[0,0.1,0.05,0,0,0])\n",
    "plt.title('Share by revenue')\n",
    "plt.axis('equal')\n",
    "\n",
    "mat.rcParams['figure.figsize'] = [9.0, 9.0]\n",
    "plt.show()"
   ]
  },
  {
   "cell_type": "markdown",
   "metadata": {},
   "source": [
    "### 4.3  Which are the top 5 most available/sold car models in this market?  <a id='section403'></a>"
   ]
  },
  {
   "cell_type": "code",
   "execution_count": 59,
   "metadata": {
    "slideshow": {
     "slide_type": "slide"
    }
   },
   "outputs": [
    {
     "data": {
      "image/png": "[encoded data removed]",
      "text/plain": [
       "<Figure size 720x576 with 1 Axes>"
      ]
     },
     "metadata": {
      "needs_background": "light"
     },
     "output_type": "display_data"
    }
   ],
   "source": [
    "tcar = car_df[['car','model']][['car','model']]\n",
    "tcar['model'] = tcar['car'] + ' - ' + tcar['model']\n",
    "cx = tcar.model.value_counts().head().plot(kind='barh',title='Top 5 model')\n",
    "cx.set_ylabel(\"Car models\")\n",
    "cx.set_xlabel(\"Count of Car\")\n",
    "for i in cx.patches:\n",
    "    cx.text(i.get_width(),i.get_y()+0.25,str(i.get_width()))\n",
    "cx.invert_yaxis()\n",
    "mat.rcParams['figure.figsize'] = [8.0, 6.0]"
   ]
  },
  {
   "cell_type": "markdown",
   "metadata": {},
   "source": [
    "### 4.4 Out of the top 5 brand of cars, Which are the top 5 models most available/sold in this market?  <a id='section404'></a>"
   ]
  },
  {
   "cell_type": "code",
   "execution_count": 144,
   "metadata": {
    "slideshow": {
     "slide_type": "slide"
    }
   },
   "outputs": [
    {
     "data": {
      "image/png": "[encoded data removed]",
      "text/plain": [
       "<Figure size 648x648 with 1 Axes>"
      ]
     },
     "metadata": {
      "needs_background": "light"
     },
     "output_type": "display_data"
    }
   ],
   "source": [
    "tcar = car_df[car_df['car'].isin(car_df['car'].value_counts().head().index.values)][['car','model']]\n",
    "tcar['model'] = tcar['car'] + ' - ' + tcar['model']\n",
    "cx = tcar.model.value_counts().head().plot(kind='barh',title='Top model of top 5 brands')\n",
    "cx.set_ylabel(\"Car models\")\n",
    "cx.set_xlabel(\"Count of Car\")\n",
    "for i in cx.patches:\n",
    "    cx.text(i.get_width(),i.get_y()+0.25,str(i.get_width()))\n",
    "cx.invert_yaxis()\n",
    "mat.rcParams['figure.figsize'] = [9.0, 7.0]"
   ]
  },
  {
   "cell_type": "markdown",
   "metadata": {},
   "source": [
    "### 4.5 Volkswagen is the top car, why does'nt any of its models list in the top 5 models ?  <a id='section405'></a>"
   ]
  },
  {
   "cell_type": "code",
   "execution_count": 61,
   "metadata": {
    "slideshow": {
     "slide_type": "slide"
    }
   },
   "outputs": [
    {
     "name": "stdout",
     "output_type": "stream",
     "text": [
      "There are 50 different models of Volkswagen cars.\n",
      "\n",
      "The top 5 models of Volkswagen car are :\n",
      "\n",
      " Passat B6                 66\n",
      "Touareg                   66\n",
      "Caddy ãðóç.               63\n",
      "T5 (Transporter) ïàññ.    61\n",
      "Polo                      60\n",
      "Name: model, dtype: int64\n",
      "\n",
      "Hence, even though Volkswagen is the Top car in terms of brand, none of its models list in Top5\n"
     ]
    }
   ],
   "source": [
    "tcar = car_df.groupby(['car','model']).count().reset_index()\n",
    "tcar.set_index('car')\n",
    "print('There are {} different models of Volkswagen cars.'.format(tcar.loc[tcar['car']=='Volkswagen'].model.count()))\n",
    "print('\\nThe top 5 models of Volkswagen car are :\\n\\n',car_df[car_df['car']=='Volkswagen'][['car','model']].model.value_counts().head())\n",
    "print('\\nHence, even though Volkswagen is the Top car in terms of brand, none of its models list in Top5')"
   ]
  },
  {
   "cell_type": "markdown",
   "metadata": {},
   "source": [
    "### 4.6 Which cars are very rarely available/sold in this market ?  <a id='section406'></a>"
   ]
  },
  {
   "cell_type": "code",
   "execution_count": 62,
   "metadata": {
    "slideshow": {
     "slide_type": "slide"
    }
   },
   "outputs": [
    {
     "data": {
      "text/plain": [
       "Rolls-Royce    2\n",
       "Bogdan         2\n",
       "Other-Retro    1\n",
       "Barkas         1\n",
       "Saab           1\n",
       "Samsung        1\n",
       "Changan        1\n",
       "Aro            1\n",
       "Maserati       1\n",
       "Lamborghini    1\n",
       "FAW            1\n",
       "ZX             1\n",
       "Buick          1\n",
       "Huanghai       1\n",
       "Wartburg       1\n",
       "Fisker         1\n",
       "SMA            1\n",
       "TATA           1\n",
       "Hafei          1\n",
       "Mercury        1\n",
       "Name: car, dtype: int64"
      ]
     },
     "execution_count": 62,
     "metadata": {},
     "output_type": "execute_result"
    }
   ],
   "source": [
    "car_df.car.value_counts().tail(20)"
   ]
  },
  {
   "cell_type": "markdown",
   "metadata": {},
   "source": [
    "### 4.7 Which are the top 5 most expensive car models available/sold in this market ?  <a id='section407'></a>"
   ]
  },
  {
   "cell_type": "code",
   "execution_count": 63,
   "metadata": {
    "slideshow": {
     "slide_type": "slide"
    }
   },
   "outputs": [
    {
     "data": {
      "text/html": [
       "<div>\n",
       "<style scoped>\n",
       "    .dataframe tbody tr th:only-of-type {\n",
       "        vertical-align: middle;\n",
       "    }\n",
       "\n",
       "    .dataframe tbody tr th {\n",
       "        vertical-align: top;\n",
       "    }\n",
       "\n",
       "    .dataframe thead th {\n",
       "        text-align: right;\n",
       "    }\n",
       "</style>\n",
       "<table border=\"1\" class=\"dataframe\">\n",
       "  <thead>\n",
       "    <tr style=\"text-align: right;\">\n",
       "      <th></th>\n",
       "      <th>index</th>\n",
       "      <th>car</th>\n",
       "      <th>price</th>\n",
       "    </tr>\n",
       "  </thead>\n",
       "  <tbody>\n",
       "    <tr>\n",
       "      <th>0</th>\n",
       "      <td>7621</td>\n",
       "      <td>Bentley</td>\n",
       "      <td>547800.0</td>\n",
       "    </tr>\n",
       "    <tr>\n",
       "      <th>1</th>\n",
       "      <td>1611</td>\n",
       "      <td>Bentley</td>\n",
       "      <td>499999.0</td>\n",
       "    </tr>\n",
       "    <tr>\n",
       "      <th>2</th>\n",
       "      <td>2637</td>\n",
       "      <td>Bentley</td>\n",
       "      <td>474999.0</td>\n",
       "    </tr>\n",
       "    <tr>\n",
       "      <th>3</th>\n",
       "      <td>4134</td>\n",
       "      <td>Bentley</td>\n",
       "      <td>449999.0</td>\n",
       "    </tr>\n",
       "    <tr>\n",
       "      <th>4</th>\n",
       "      <td>4325</td>\n",
       "      <td>Mercedes-Benz</td>\n",
       "      <td>300000.0</td>\n",
       "    </tr>\n",
       "  </tbody>\n",
       "</table>\n",
       "</div>"
      ],
      "text/plain": [
       "   index            car     price\n",
       "0   7621        Bentley  547800.0\n",
       "1   1611        Bentley  499999.0\n",
       "2   2637        Bentley  474999.0\n",
       "3   4134        Bentley  449999.0\n",
       "4   4325  Mercedes-Benz  300000.0"
      ]
     },
     "execution_count": 63,
     "metadata": {},
     "output_type": "execute_result"
    }
   ],
   "source": [
    "car_df.sort_values(by=['price'],ascending=False)[['car','price']].head().reset_index()"
   ]
  },
  {
   "cell_type": "markdown",
   "metadata": {},
   "source": [
    "### 4.8 Which are the top 5 most cheap car models available/sold in this market ?  <a id='section408'></a>"
   ]
  },
  {
   "cell_type": "code",
   "execution_count": 64,
   "metadata": {
    "slideshow": {
     "slide_type": "slide"
    }
   },
   "outputs": [
    {
     "data": {
      "text/html": [
       "<div>\n",
       "<style scoped>\n",
       "    .dataframe tbody tr th:only-of-type {\n",
       "        vertical-align: middle;\n",
       "    }\n",
       "\n",
       "    .dataframe tbody tr th {\n",
       "        vertical-align: top;\n",
       "    }\n",
       "\n",
       "    .dataframe thead th {\n",
       "        text-align: right;\n",
       "    }\n",
       "</style>\n",
       "<table border=\"1\" class=\"dataframe\">\n",
       "  <thead>\n",
       "    <tr style=\"text-align: right;\">\n",
       "      <th></th>\n",
       "      <th>index</th>\n",
       "      <th>car</th>\n",
       "      <th>price</th>\n",
       "    </tr>\n",
       "  </thead>\n",
       "  <tbody>\n",
       "    <tr>\n",
       "      <th>0</th>\n",
       "      <td>4905</td>\n",
       "      <td>VAZ</td>\n",
       "      <td>389.025</td>\n",
       "    </tr>\n",
       "    <tr>\n",
       "      <th>1</th>\n",
       "      <td>8252</td>\n",
       "      <td>ZAZ</td>\n",
       "      <td>370.500</td>\n",
       "    </tr>\n",
       "    <tr>\n",
       "      <th>2</th>\n",
       "      <td>7566</td>\n",
       "      <td>Moskvich-AZLK</td>\n",
       "      <td>350.000</td>\n",
       "    </tr>\n",
       "    <tr>\n",
       "      <th>3</th>\n",
       "      <td>6457</td>\n",
       "      <td>Moskvich-AZLK</td>\n",
       "      <td>280.000</td>\n",
       "    </tr>\n",
       "    <tr>\n",
       "      <th>4</th>\n",
       "      <td>5010</td>\n",
       "      <td>GAZ</td>\n",
       "      <td>259.350</td>\n",
       "    </tr>\n",
       "  </tbody>\n",
       "</table>\n",
       "</div>"
      ],
      "text/plain": [
       "   index            car    price\n",
       "0   4905            VAZ  389.025\n",
       "1   8252            ZAZ  370.500\n",
       "2   7566  Moskvich-AZLK  350.000\n",
       "3   6457  Moskvich-AZLK  280.000\n",
       "4   5010            GAZ  259.350"
      ]
     },
     "execution_count": 64,
     "metadata": {},
     "output_type": "execute_result"
    }
   ],
   "source": [
    "car_df.sort_values(by=['price'],ascending=False)[['car','price']].tail().reset_index()"
   ]
  },
  {
   "cell_type": "markdown",
   "metadata": {},
   "source": [
    "### 4.9 Which are the most and least available/sold/preferred car body type in this market ?  <a id='section409'></a>"
   ]
  },
  {
   "cell_type": "code",
   "execution_count": 65,
   "metadata": {
    "slideshow": {
     "slide_type": "slide"
    }
   },
   "outputs": [
    {
     "data": {
      "image/png": "[encoded data removed]",
      "text/plain": [
       "<Figure size 576x432 with 1 Axes>"
      ]
     },
     "metadata": {},
     "output_type": "display_data"
    },
    {
     "name": "stdout",
     "output_type": "stream",
     "text": [
      "The most preferred body type is sedan and the least preferred body type is vagon.\n"
     ]
    }
   ],
   "source": [
    "def get_val(x, allvals):\n",
    "    total = int(np.ceil(x/100.*np.sum(allvals)))\n",
    "    return \"{:.1f}%\\n({:d})\".format(x,total)\n",
    "\n",
    "plt.pie(car_df['body'].value_counts().values, labels=car_df['body'].value_counts().index, autopct=lambda x: get_val(x, car_df['body'].value_counts().values),explode=[0.05,0,0,0,0,0])\n",
    "plt.axis('equal')\n",
    "plt.title('Car body types')\n",
    "plt.tight_layout()\n",
    "mat.rcParams['figure.figsize'] = [8.0, 6.0]\n",
    "plt.show()\n",
    "print('The most preferred body type is {0} and the least preferred body type is {1}.'.format('sedan','vagon'))"
   ]
  },
  {
   "cell_type": "markdown",
   "metadata": {
    "slideshow": {
     "slide_type": "slide"
    }
   },
   "source": [
    "### 4.10 Which are the most and least available/sold/preferred car engine type in this market ?  <a id='section410'></a>"
   ]
  },
  {
   "cell_type": "code",
   "execution_count": 66,
   "metadata": {
    "slideshow": {
     "slide_type": "slide"
    }
   },
   "outputs": [
    {
     "data": {
      "image/png": "[encoded data removed]",
      "text/plain": [
       "<Figure size 576x432 with 1 Axes>"
      ]
     },
     "metadata": {},
     "output_type": "display_data"
    }
   ],
   "source": [
    "plt.pie(car_df['engType'].value_counts().values, labels=car_df['engType'].value_counts().index, autopct=lambda x: get_val(x, car_df['engType'].value_counts().values),explode=[0.05,0,0,])\n",
    "plt.axis('equal')\n",
    "plt.title('Car engine types')\n",
    "plt.tight_layout()\n",
    "mat.rcParams['figure.figsize'] = [8.0, 6.0]\n",
    "plt.show()"
   ]
  },
  {
   "cell_type": "markdown",
   "metadata": {},
   "source": [
    "### 4.11 How is the car engine type distributed in each body type ?  <a id='section411'></a>"
   ]
  },
  {
   "cell_type": "code",
   "execution_count": 152,
   "metadata": {
    "slideshow": {
     "slide_type": "slide"
    }
   },
   "outputs": [
    {
     "data": {
      "image/png": "[encoded data removed]",
      "text/plain": [
       "<Figure size 1008x576 with 1 Axes>"
      ]
     },
     "metadata": {
      "needs_background": "light"
     },
     "output_type": "display_data"
    }
   ],
   "source": [
    "relation = pd.crosstab( car_df.body, car_df.engType )\n",
    "#cx = relation.plot(kind=\"bar\", stacked=True)\n",
    "#cx = plt.xlabel('Body Type')\n",
    "cx = relation.plot(kind='bar',stacked=True,title='Engine Type for Body Type')\n",
    "cx.set_xlabel(\"Body Type\")\n",
    "cx.set_ylabel(\"Count of Car\")\n",
    "mat.rcParams['figure.figsize'] = [12.0, 8.0]\n",
    "for i in cx.patches:\n",
    "    cx.text(i.get_x()+0.5,i.get_y()+50,str(i.get_height()))"
   ]
  },
  {
   "cell_type": "markdown",
   "metadata": {
    "slideshow": {
     "slide_type": "-"
    }
   },
   "source": [
    "### 4.12 engine type and engV vs price, which kind of engine is more expensive ?  <a id='section412'></a>"
   ]
  },
  {
   "cell_type": "code",
   "execution_count": 68,
   "metadata": {
    "slideshow": {
     "slide_type": "slide"
    }
   },
   "outputs": [
    {
     "data": {
      "image/png": "[encoded data removed]",
      "text/plain": [
       "<Figure size 720x576 with 1 Axes>"
      ]
     },
     "metadata": {
      "needs_background": "light"
     },
     "output_type": "display_data"
    }
   ],
   "source": [
    "relation = car_df.groupby(['engType','engV'])['price'].apply(lambda x: x.max()).reset_index()\n",
    "cx = sns.lineplot(data=relation, y='price', x='engV', hue='engType')\n",
    "plt.title(\"engV and engType vs price for engType\")\n",
    "cx.text(4.55, car_df[car_df['engType']=='Petrol'].price.max(), car_df[car_df['engType']=='Petrol'].price.max(), horizontalalignment='left', size='medium', color='green', weight='semibold')\n",
    "cx.text(4.55, car_df[car_df['engType']=='Diesel'].price.max(), car_df[car_df['engType']=='Diesel'].price.max(), horizontalalignment='left', size='medium', color='blue', weight='semibold')\n",
    "cx.text(4.55, car_df[car_df['engType']=='Gas'].price.max(), car_df[car_df['engType']=='Gas'].price.max(), horizontalalignment='left', size='medium', color='orange', weight='semibold')\n",
    "plt.show()"
   ]
  },
  {
   "cell_type": "markdown",
   "metadata": {},
   "source": [
    "### 4.13 engine type and engV vs mileage, which kind of engine has best mileage ?  <a id='section413'></a>"
   ]
  },
  {
   "cell_type": "code",
   "execution_count": 69,
   "metadata": {
    "slideshow": {
     "slide_type": "slide"
    }
   },
   "outputs": [
    {
     "data": {
      "image/png": "[encoded data removed]",
      "text/plain": [
       "<Figure size 720x576 with 1 Axes>"
      ]
     },
     "metadata": {
      "needs_background": "light"
     },
     "output_type": "display_data"
    }
   ],
   "source": [
    "relation = car_df.groupby(['engType','engV'])['mileage'].apply(lambda x: x.max()).reset_index()\n",
    "cx = sns.lineplot(data=relation, y='mileage', x='engV', hue='engType')\n",
    "plt.title(\"engV and engType vs mileage for engType\")\n",
    "cx.text(car_df[(car_df['engType']=='Petrol') & (car_df['mileage']==car_df[car_df['engType']=='Petrol'].mileage.max())]['engV'].max(), car_df[car_df['engType']=='Petrol'].mileage.max(), car_df[car_df['engType']=='Petrol'].mileage.max().round(0), horizontalalignment='left', size='medium', color='green', weight='semibold')\n",
    "cx.text(car_df[(car_df['engType']=='Diesel') & (car_df['mileage']==car_df[car_df['engType']=='Diesel'].mileage.max())]['engV'].max(), car_df[car_df['engType']=='Diesel'].mileage.max(), car_df[car_df['engType']=='Diesel'].mileage.max().round(0), horizontalalignment='left', size='medium', color='blue', weight='semibold')\n",
    "cx.text(car_df[(car_df['engType']=='Gas') & (car_df['mileage']==car_df[car_df['engType']=='Gas'].mileage.max())]['engV'].max(), car_df[car_df['engType']=='Gas'].mileage.max(), car_df[car_df['engType']=='Gas'].mileage.max().round(0), horizontalalignment='left', size='medium', color='orange', weight='semibold')\n",
    "plt.show()"
   ]
  },
  {
   "cell_type": "markdown",
   "metadata": {},
   "source": [
    "### 4.14 body vs mileage, which kind of body has best mileage ?  <a id='section414'></a>"
   ]
  },
  {
   "cell_type": "code",
   "execution_count": 70,
   "metadata": {
    "slideshow": {
     "slide_type": "slide"
    }
   },
   "outputs": [
    {
     "data": {
      "text/plain": [
       "<matplotlib.axes._subplots.AxesSubplot at 0x1a1b63e438>"
      ]
     },
     "execution_count": 70,
     "metadata": {},
     "output_type": "execute_result"
    },
    {
     "data": {
      "image/png": "[encoded data removed]",
      "text/plain": [
       "<Figure size 720x576 with 1 Axes>"
      ]
     },
     "metadata": {
      "needs_background": "light"
     },
     "output_type": "display_data"
    }
   ],
   "source": [
    "car_df[['body','mileage']].boxplot(by='body')"
   ]
  },
  {
   "cell_type": "markdown",
   "metadata": {},
   "source": [
    "The group box as shown above indicate, there are outliers.<br/>\n",
    "The higher mileage could be because of the fuel tank capacity. Ignoring the mean and going by the median.<br/>\n",
    "The mileage in the data set appear to be number of kms covered rather than the classic kms/litre.<br/>\n",
    "The vagon and van have the highest mileage and crossover and hatch has the lowest mileage."
   ]
  },
  {
   "cell_type": "markdown",
   "metadata": {},
   "source": [
    "### 4.15 Which year cars are most available/sold and what is their registration status ?  <a id='section415'></a>"
   ]
  },
  {
   "cell_type": "code",
   "execution_count": 84,
   "metadata": {
    "slideshow": {
     "slide_type": "slide"
    }
   },
   "outputs": [
    {
     "data": {
      "image/png": "[encoded data removed]",
      "text/plain": [
       "<Figure size 720x576 with 1 Axes>"
      ]
     },
     "metadata": {
      "needs_background": "light"
     },
     "output_type": "display_data"
    }
   ],
   "source": [
    "yr_reg = car_df.groupby('year')['registration'].value_counts().sort_values(ascending=False)\n",
    "yr_reg = pd.DataFrame(yr_reg)\n",
    "yr_reg.rename(columns={'registration': 'Counts'}, inplace=True)\n",
    "yr_reg.reset_index(inplace=True)\n",
    "sns.lineplot(data=yr_reg, x='year', y='Counts', hue='registration')\n",
    "plt.title(\"Count based on Year of manufacturing and registration status\")\n",
    "plt.show()"
   ]
  },
  {
   "cell_type": "markdown",
   "metadata": {},
   "source": [
    "### 4.16 What is the price range of cars based on the year of manufacturing and drive type?  <a id='section416'></a>"
   ]
  },
  {
   "cell_type": "code",
   "execution_count": 105,
   "metadata": {
    "slideshow": {
     "slide_type": "slide"
    }
   },
   "outputs": [
    {
     "data": {
      "image/png": "[encoded data removed]",
      "text/plain": [
       "<Figure size 720x576 with 1 Axes>"
      ]
     },
     "metadata": {
      "needs_background": "light"
     },
     "output_type": "display_data"
    }
   ],
   "source": [
    "relation = car_df.groupby(['drive','year'])['price'].apply(lambda x: x.max()).reset_index()\n",
    "cx = sns.lineplot(data=relation, y='price', x='year', hue='drive')\n",
    "plt.title(\"year and drive vs price for engType\")\n",
    "rear = car_df[car_df['drive']=='rear'].price.max().round(0)\n",
    "full = car_df[car_df['drive']=='full'].price.max().round(0)\n",
    "front = car_df[car_df['drive']=='front'].price.max().round(0)\n",
    "r_yr = car_df[(car_df['drive']=='rear') & (car_df['price']==car_df[car_df['drive']=='rear'].price.max())]['year'].max()\n",
    "fr_yr = car_df[(car_df['drive']=='front') & (car_df['price']==car_df[car_df['drive']=='front'].price.max())]['year'].max()\n",
    "fu_yr = car_df[(car_df['drive']=='full') & (car_df['price']==car_df[car_df['drive']=='full'].price.max())]['year'].max()\n",
    "\n",
    "\n",
    "cx.text(r_yr,rear,str(r_yr) + '-' + str(rear), horizontalalignment='left', size='medium', color='green', weight='semibold')\n",
    "cx.text(fu_yr,full, str(fu_yr) + '-' + str(full), horizontalalignment='left', size='medium', color='orange', weight='semibold')\n",
    "cx.text(fr_yr,front,str(fr_yr) + '-' + str(front), horizontalalignment='left', size='medium', color='blue', weight='semibold')\n",
    "plt.show()\n"
   ]
  },
  {
   "cell_type": "markdown",
   "metadata": {},
   "source": [
    "### 4.17 How are engine types distributed based on engine volume?  <a id='section417'></a>"
   ]
  },
  {
   "cell_type": "code",
   "execution_count": 135,
   "metadata": {
    "slideshow": {
     "slide_type": "slide"
    }
   },
   "outputs": [
    {
     "data": {
      "image/png": "[encoded data removed]",
      "text/plain": [
       "<Figure size 720x576 with 1 Axes>"
      ]
     },
     "metadata": {
      "needs_background": "light"
     },
     "output_type": "display_data"
    }
   ],
   "source": [
    "cx = sns.violinplot('engType','engV', kind='point', data = car_df)\n",
    "plt.title('engType Vs engV - availibility')\n",
    "\n",
    "gas_mo = car_df[car_df['engType']=='Gas'].engV.median()\n",
    "petrol_mo = car_df[car_df['engType']=='Petrol'].engV.median()\n",
    "diesel_mo = car_df[car_df['engType']=='Diesel'].engV.median()\n",
    "\n",
    "yposlist = car_df.groupby(['engType'])['engV'].mean().tolist()\n",
    "xposlist = range(len(yposlist))\n",
    "stringlist = [str(' Median -') + str(gas_mo),str(' Median -') + str(petrol_mo),str(' Median -') + str(diesel_mo)]\n",
    "\n",
    "for i in range(len(stringlist)):\n",
    "    cx.text(xposlist[i], yposlist[i], stringlist[i])\n",
    "plt.show()"
   ]
  },
  {
   "cell_type": "markdown",
   "metadata": {},
   "source": [
    "### 4.18 Establish correlation between all the features using heatmap.  <a id='section418'></a>"
   ]
  },
  {
   "cell_type": "code",
   "execution_count": 138,
   "metadata": {
    "slideshow": {
     "slide_type": "slide"
    }
   },
   "outputs": [
    {
     "data": {
      "image/png": "[encoded data removed]",
      "text/plain": [
       "<Figure size 720x720 with 2 Axes>"
      ]
     },
     "metadata": {
      "needs_background": "light"
     },
     "output_type": "display_data"
    }
   ],
   "source": [
    "corr = car_df.corr()\n",
    "plt.figure(figsize=(10,10))\n",
    "sns.heatmap(corr,vmax=.8,linewidth=.01, square = True, annot = True,cmap='YlGnBu',linecolor ='black')\n",
    "plt.title('Correlation between features')\n",
    "plt.show()"
   ]
  },
  {
   "cell_type": "markdown",
   "metadata": {},
   "source": [
    "Some of the observations made in previous sections can be rechecked and the strength of the relationship is also available with the heat map. <br/>\n",
    "The following observations can be made from the heat may:\n",
    "* Newer models are priced higher. \n",
    "* As the engine volume/power goes up, price goes up.\n",
    "* As the mileage goes up, price goes down. This negative correlation could be because of the fact that vans and vogons have bigger fuel tank and better mileage, but they are priced lower compared to the luxurious/sporty cars with lower mileage.\n",
    "* mileage and engV have a week correlation, in this case; if the engV goes up, it may not mean the mileage will go down drastically. Longer distance can still be covered with bigger fuel tank.\n",
    "* Engine volume has stayed flat over the years. In the era where the awareness about fuel consumption is increasing, negative correlation can be expected in future.\n",
    "* Older cars have lower mileage. "
   ]
  },
  {
   "cell_type": "markdown",
   "metadata": {},
   "source": [
    "## 5. Conclusion/Summary  <a id='section5'></a>"
   ]
  },
  {
   "cell_type": "markdown",
   "metadata": {
    "slideshow": {
     "slide_type": "slide"
    }
   },
   "source": [
    "The observations from the EDA can be summarized as below:\n",
    "*\tIn this market there are totally __87__ varieties __car brands__ available/sold. __Volkswagen__ cars are the --__highest__ available/sold car brand in terms of __volume__ with __10% market share__ and __Mercedes-Benz__ is the __top brand__ in terms of revenue/inventory cost with __18% market share__. There are about __18__ car brands which are __very rare__ in the market with only 1 unit available/sold.\n",
    "*\tThere are totally __888__ car models available, Mercedes-Benz __E-Class__ with __192__ units is __highest__ available/sold model based on volume. even though Volkswagen is the Top car in terms of brand volume, none of its models list in Top 5 models. This is because Volkswagen has __50__ different models.\n",
    "*\t__Bentley__ Cars are most expensive priced at __547800.0 USD__ and __Gaz__ cars are the cheapest price at __259.350 USD__. \n",
    "*\tThere are __6__ different body types available. __Sedan__ body types are most preferred/available/sold with 3622 units, which is __38% market share__. __Vagon__ body types are least preferred/available/sold with 720 units which is 7.6% market share.\n",
    "*\t__Petrol engine__ types are most preferred/available/sold with 4673 units, which is __49%__ market share. __Gas__ engine types are least preferred/available/sold with 1741 units which is __18.4%__ market share.\n",
    "*\t__Vagon and Van__ body types mostly have __Diesel engines__, Petrol engines dominate in all other body types.\n",
    "*\tThere are 3 different transmission available they are __full wheel, rear wheel and front wheel drive__. The rear wheel drive cars are most __expensive__ and the front wheel drive cars are the __cheapest__. \n",
    "*\t__Petrol__ cars are most __expensive__ and as the engine volume /power goes up the price goes up.\n",
    "*\t__Diesel__ engines have the __highest mileage__ and the mileage is highest when the engine volume is 2500 Cubic Cm.\n",
    "*\tThe mileage in the data set appear to be number of Kms covered rather than the classic Kms/litre. The vagon and van have the __highest mileage__ and crossover and hatch has the __lowest mileage__.\n",
    "*\tCars with year of manufacturing from __1953 to 2016__ are available/sold. __2008 model__ cars are most available/sold cars. There are about __561__ cars which are __unregistered__. \n",
    "*\t__Newest__ cars are __most expensive__ and __older__ cars are __least expensive__. The price is almost __flat__ if the car is older than 2000 model.\n",
    "*\tMost cars are with the engine volume close to __2000 CC__.\n",
    "*\tAs the __mileage__ goes up, __price__ goes down. This __negative correlation__ could be because vans and vogons may have bigger fuel tank and hence better mileage, but they are priced lower compared to the luxurious/sporty cars with lower mileage.\n",
    "*\t__mileage and engV__ have a __week correlation__, in this case; if the engV goes up, it may not mean the mileage will go down drastically. Longer distance can still be covered with bigger fuel tank.\n",
    "*\tEngine volume has stayed flat over the years. In the era where the awareness about fuel consumption is increasing, negative correlation can be expected in future.\n",
    "*\tOlder cars have lower mileage."
   ]
  }
 ],
 "metadata": {
  "kernelspec": {
   "display_name": "Python 3",
   "language": "python",
   "name": "python3"
  },
  "language_info": {
   "codemirror_mode": {
    "name": "ipython",
    "version": 3
   },
   "file_extension": ".py",
   "mimetype": "text/x-python",
   "name": "python",
   "nbconvert_exporter": "python",
   "pygments_lexer": "ipython3",
   "version": "3.7.1"
  }
 },
 "nbformat": 4,
 "nbformat_minor": 2
}
